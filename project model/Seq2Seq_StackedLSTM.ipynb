{
 "cells": [
  {
   "cell_type": "code",
   "execution_count": 1,
   "metadata": {
    "id": "MW9Fg-W-JdkZ"
   },
   "outputs": [],
   "source": [
    "import os\n",
    "os.environ[\"TF_CPP_MIN_LOG_LEVEL\"] = \"3\""
   ]
  },
  {
   "cell_type": "code",
   "execution_count": 2,
   "metadata": {
    "id": "4RFYoN8kNv_4"
   },
   "outputs": [],
   "source": [
    "import tensorflow as tf "
   ]
  },
  {
   "cell_type": "code",
   "execution_count": 3,
   "metadata": {
    "id": "qoipjGVZNwy7"
   },
   "outputs": [],
   "source": [
    "gpus = tf.config.experimental.list_physical_devices('GPU')\n",
    "tf.config.experimental.set_memory_growth(gpus[0], True)"
   ]
  },
  {
   "cell_type": "code",
   "execution_count": 4,
   "metadata": {
    "id": "XObj7K7bNyDu"
   },
   "outputs": [
    {
     "name": "stdout",
     "output_type": "stream",
     "text": [
      "C:\\Users\\ASUS\\Desktop\\dataset-460-40\n"
     ]
    }
   ],
   "source": [
    "cd C:\\Users\\ASUS\\Desktop\\dataset-460-40"
   ]
  },
  {
   "cell_type": "code",
   "execution_count": 5,
   "metadata": {
    "id": "Th6fofbwNuFp"
   },
   "outputs": [],
   "source": [
    "import os\n",
    "import json\n",
    "from glob import glob\n",
    "import numpy as np\n",
    "from numpy import array\n",
    "from numpy import argmax\n",
    "from numpy import newaxis\n",
    "import tensorflow as tf\n",
    "from tensorflow.keras.utils import to_categorical\n",
    "from tensorflow.keras.models import Model\n",
    "from tensorflow.keras.layers import Input, LSTM, Bidirectional, Concatenate, Activation, Dense"
   ]
  },
  {
   "cell_type": "code",
   "execution_count": 6,
   "metadata": {
    "colab": {
     "base_uri": "https://localhost:8080/"
    },
    "id": "yOoFtNhlK58b",
    "outputId": "6b4abb4c-1d1d-47e5-ab5a-cbdcf74ae100"
   },
   "outputs": [],
   "source": [
    "# from google.colab import drive\n",
    "# drive.mount('/gdrive')"
   ]
  },
  {
   "cell_type": "code",
   "execution_count": 7,
   "metadata": {
    "id": "G9l3HNOrLE4Y"
   },
   "outputs": [],
   "source": [
    "tf.random.set_seed(123)"
   ]
  },
  {
   "cell_type": "markdown",
   "metadata": {
    "id": "e0bSf1DCLFt5"
   },
   "source": [
    "### Data Preprocessing"
   ]
  },
  {
   "cell_type": "code",
   "execution_count": 8,
   "metadata": {
    "id": "-THho0mZK7Pi"
   },
   "outputs": [],
   "source": [
    "def get_compiled_data(path):\n",
    "    f_path = path\n",
    "    f_list = sorted(glob(os.path.join(f_path, \"*.json\")))\n",
    "\n",
    "    f_compile =[]\n",
    "\n",
    "    for j in f_list: \n",
    "        file = open(j, \"r\")\n",
    "        content = file.read()\n",
    "        data = json.loads(content)\n",
    "        f_compile.append(data)\n",
    "    return f_compile"
   ]
  },
  {
   "cell_type": "code",
   "execution_count": 9,
   "metadata": {
    "id": "hC8Xdw-6LH28"
   },
   "outputs": [],
   "source": [
    "X = get_compiled_data(\"C:/Users/ASUS/Desktop/system_code/dataset-460-40/x\")\n",
    "y = get_compiled_data(\"C:/Users/ASUS/Desktop/system_code/dataset-460-40/y\")\n",
    "# X = get_compiled_data(\"/gdrive/MyDrive/dataset-460-40/x/\")\n",
    "# y = get_compiled_data(\"/gdrive/MyDrive/dataset-460-40/y/\")"
   ]
  },
  {
   "cell_type": "code",
   "execution_count": 10,
   "metadata": {
    "colab": {
     "base_uri": "https://localhost:8080/"
    },
    "id": "iMVIHDkvLIJg",
    "outputId": "5a3d8476-5c2f-4bbb-bc07-865e2be5fad2"
   },
   "outputs": [
    {
     "name": "stdout",
     "output_type": "stream",
     "text": [
      "0\n",
      "499\n"
     ]
    }
   ],
   "source": [
    "#Find min and max values of coordinates\n",
    "coord_values = []\n",
    "for i in range(len(X)):\n",
    "  data = X[i] \n",
    "  for j in range(len(data)):\n",
    "    data1 = data[j]\n",
    "    for k in range(len(data1)):\n",
    "      coord_values.append(data1[k])\n",
    "print(min(coord_values))\n",
    "print(max(coord_values))"
   ]
  },
  {
   "cell_type": "code",
   "execution_count": 11,
   "metadata": {
    "id": "1Y49v--_LIL6"
   },
   "outputs": [],
   "source": [
    "from sklearn.model_selection import train_test_split\n",
    "X_train, X_valid, y_train, y_valid = train_test_split(X, y, test_size=0.1, random_state=1)"
   ]
  },
  {
   "cell_type": "code",
   "execution_count": 12,
   "metadata": {
    "colab": {
     "base_uri": "https://localhost:8080/"
    },
    "id": "ID7qcIuwLM13",
    "outputId": "8ede2dc8-59fd-41cc-e70b-d343ca01c6d1"
   },
   "outputs": [
    {
     "name": "stdout",
     "output_type": "stream",
     "text": [
      "414 414\n"
     ]
    }
   ],
   "source": [
    "print(len(X_train), len(y_train)) "
   ]
  },
  {
   "cell_type": "markdown",
   "metadata": {
    "id": "mVb4ZHljLc-R"
   },
   "source": [
    "Data Augmentation for X_train and y_train"
   ]
  },
  {
   "cell_type": "code",
   "execution_count": 13,
   "metadata": {
    "id": "fv7nFM_ULIOX"
   },
   "outputs": [],
   "source": [
    "# ##Data Augmentation (reverse seq)\n",
    "# for i in range(len(X_train)):\n",
    "#   compiled_x_reverse = X_train[i][::-1]\n",
    "#   X_train.append(compiled_x_reverse)\n",
    "\n",
    "# for i in range(len(y_train)):\n",
    "#   compiled_y_reverse = y_train[i][::-1]\n",
    "#   y_train.append(compiled_y_reverse)"
   ]
  },
  {
   "cell_type": "code",
   "execution_count": 14,
   "metadata": {
    "id": "kAsPMha34rih"
   },
   "outputs": [],
   "source": [
    "# print(len(X_train))\n",
    "# len(y_train)"
   ]
  },
  {
   "cell_type": "code",
   "execution_count": 15,
   "metadata": {
    "id": "kDrCeXuiLfJI"
   },
   "outputs": [],
   "source": [
    "# #Data Augmentation (translation by 5 units up and right)\n",
    "# X_train_trans_aug_1 = [[[v+1 for v in inner1] for inner1 in inner] for inner in X_train]\n",
    "# X_train_trans_aug_2 = [[[v+3 for v in inner1] for inner1 in inner] for inner in X_train]\n",
    "# X_train_trans_aug_3 = [[[v+5 for v in inner1] for inner1 in inner] for inner in X_train]\n",
    "# X_train_trans_aug_4 = [[[v+7 for v in inner1] for inner1 in inner] for inner in X_train]"
   ]
  },
  {
   "cell_type": "code",
   "execution_count": 16,
   "metadata": {
    "id": "D9DNjoxFLgDT"
   },
   "outputs": [],
   "source": [
    "# import copy\n",
    "# y_train_trans_aug = copy.deepcopy(y_train)"
   ]
  },
  {
   "cell_type": "code",
   "execution_count": 17,
   "metadata": {
    "id": "ZWXEk8xPLhGQ"
   },
   "outputs": [],
   "source": [
    "# X_train.extend(X_train_trans_aug_1)\n",
    "# y_train.extend(y_train_trans_aug)\n",
    "\n",
    "# X_train.extend(X_train_trans_aug_2)\n",
    "# y_train.extend(y_train_trans_aug)\n",
    "\n",
    "# X_train.extend(X_train_trans_aug_3)\n",
    "# y_train.extend(y_train_trans_aug)\n",
    "\n",
    "# X_train.extend(X_train_trans_aug_4)\n",
    "# y_train.extend(y_train_trans_aug)"
   ]
  },
  {
   "cell_type": "code",
   "execution_count": 18,
   "metadata": {
    "id": "0zVVuiARLiGB"
   },
   "outputs": [],
   "source": [
    "# print(len(X_train), len(y_train)) "
   ]
  },
  {
   "cell_type": "markdown",
   "metadata": {
    "id": "NjYCwuaJLplV"
   },
   "source": [
    "Remove sequences with values above 499"
   ]
  },
  {
   "cell_type": "code",
   "execution_count": 19,
   "metadata": {
    "id": "ZftczwzjLjUf"
   },
   "outputs": [],
   "source": [
    "compiled_x = []\n",
    "compiled_y = []\n",
    "\n",
    "for i, seq in enumerate(X_train):\n",
    "  value_check=[]\n",
    "  for _, coord in enumerate(seq):\n",
    "    coord_01 = coord[0]\n",
    "    coord_02 = coord[1]\n",
    "    value_check.append(coord_01)\n",
    "    value_check.append(coord_02)\n",
    "  if max(value_check) < 500:\n",
    "    compiled_x.append(seq)\n",
    "    compiled_y.append(y_train[i])\n",
    "    "
   ]
  },
  {
   "cell_type": "code",
   "execution_count": 20,
   "metadata": {
    "colab": {
     "base_uri": "https://localhost:8080/"
    },
    "id": "dYG0fANlLrkX",
    "outputId": "3372a3f7-cc1e-4e5c-bee0-bf68be61b76d"
   },
   "outputs": [
    {
     "name": "stdout",
     "output_type": "stream",
     "text": [
      "414 414 46 46\n"
     ]
    }
   ],
   "source": [
    "print(len(compiled_x), len(compiled_y), len(X_valid), len(y_valid))"
   ]
  },
  {
   "cell_type": "code",
   "execution_count": 21,
   "metadata": {
    "id": "teBLwJ5mLsrQ"
   },
   "outputs": [],
   "source": [
    "#For variable naming standardisation, \"rename\" X_valid to compiled_x_valid\n",
    "compiled_x_valid = X_valid\n",
    "compiled_y_valid = y_valid"
   ]
  },
  {
   "cell_type": "markdown",
   "metadata": {
    "id": "dO0QBcmLL17W"
   },
   "source": [
    "### For encoder input (training)"
   ]
  },
  {
   "cell_type": "code",
   "execution_count": 22,
   "metadata": {
    "id": "2201398c"
   },
   "outputs": [],
   "source": [
    "encoder_input = []\n",
    "for i in range(len(compiled_x)):\n",
    "  data = compiled_x[i]   \n",
    "  while len(data) < 267:                        #The sequence length of the longest input sample was earlier found to be 267 (not shown in this colab)\n",
    "    data.append([500,500])                      #Make all samples to be of the same sequence length by padding it with 500. \n",
    "  encoder_input.append(data)"
   ]
  },
  {
   "cell_type": "code",
   "execution_count": 23,
   "metadata": {
    "colab": {
     "base_uri": "https://localhost:8080/"
    },
    "id": "84f3b332",
    "outputId": "f51b4e4f-f6a7-434f-dc62-6c292239981b"
   },
   "outputs": [
    {
     "data": {
      "text/plain": [
       "(414, 267, 2)"
      ]
     },
     "execution_count": 23,
     "metadata": {},
     "output_type": "execute_result"
    }
   ],
   "source": [
    "encoder_input = np.array(encoder_input)\n",
    "encoder_input.shape"
   ]
  },
  {
   "cell_type": "markdown",
   "metadata": {
    "id": "sbzaELD1L7UI"
   },
   "source": [
    "One-hot encode encoder input (training)\n"
   ]
  },
  {
   "cell_type": "code",
   "execution_count": 24,
   "metadata": {
    "id": "P3FEe987Lt6E"
   },
   "outputs": [],
   "source": [
    "# Concatenate all coordinates side by side so that [(12,15),(23, 30),(32, 41),...] becomes [12,15,23,30,32,41,...]\n",
    "X1 = list()\n",
    "for i in range(encoder_input.shape[0]):\n",
    "  row=list()\n",
    "  for j in range(267):                          #267 because there are 267 time-step in each sequence\n",
    "    row.append(encoder_input[i][j][0])\n",
    "    row.append(encoder_input[i][j][1])\n",
    "  X1.append(row)"
   ]
  },
  {
   "cell_type": "code",
   "execution_count": 25,
   "metadata": {
    "colab": {
     "base_uri": "https://localhost:8080/"
    },
    "id": "27cd027d",
    "outputId": "11971f4b-35a6-43fd-b727-c875b28b84d0"
   },
   "outputs": [
    {
     "data": {
      "text/plain": [
       "(414, 534)"
      ]
     },
     "execution_count": 25,
     "metadata": {},
     "output_type": "execute_result"
    }
   ],
   "source": [
    "X1 = np.array(X1)\n",
    "X1.shape"
   ]
  },
  {
   "cell_type": "code",
   "execution_count": 26,
   "metadata": {
    "colab": {
     "base_uri": "https://localhost:8080/"
    },
    "id": "d1272330",
    "outputId": "53edf2c3-cb3b-4da1-9362-5a6502cf60ef"
   },
   "outputs": [
    {
     "data": {
      "text/plain": [
       "(1, 414, 534, 501)"
      ]
     },
     "execution_count": 26,
     "metadata": {},
     "output_type": "execute_result"
    }
   ],
   "source": [
    "X1 = to_categorical([X1], num_classes=501)      #501 cuz 0-499 for input values, 500 for padding\n",
    "X1.shape"
   ]
  },
  {
   "cell_type": "code",
   "execution_count": 27,
   "metadata": {
    "colab": {
     "base_uri": "https://localhost:8080/"
    },
    "id": "4efdffad",
    "outputId": "53feb2a5-a20f-41e6-f1fe-39b857edc71e"
   },
   "outputs": [
    {
     "data": {
      "text/plain": [
       "(414, 534, 501)"
      ]
     },
     "execution_count": 27,
     "metadata": {},
     "output_type": "execute_result"
    }
   ],
   "source": [
    "X1 = X1.reshape(414, 534, 501)\n",
    "X1.shape"
   ]
  },
  {
   "cell_type": "markdown",
   "metadata": {
    "id": "GbRnQjoEMDXR"
   },
   "source": [
    "###For encoder input (validation)"
   ]
  },
  {
   "cell_type": "code",
   "execution_count": 28,
   "metadata": {
    "id": "NowFWxwALt8m"
   },
   "outputs": [],
   "source": [
    "encoder_input_valid = []\n",
    "for i in range(len(compiled_x_valid)):\n",
    "  data = compiled_x_valid[i]   \n",
    "  while len(data) < 267:                        #The sequence length of the longest input sample was earlier found to be 267 (not shown in this colab)\n",
    "    data.append([500,500])                      #Make all samples to be of the same sequence length by padding it with 500. \n",
    "  encoder_input_valid.append(data)"
   ]
  },
  {
   "cell_type": "code",
   "execution_count": 29,
   "metadata": {
    "colab": {
     "base_uri": "https://localhost:8080/"
    },
    "id": "054fcabe",
    "outputId": "a0fd525e-5bcf-4a37-f045-9426991427d3"
   },
   "outputs": [
    {
     "data": {
      "text/plain": [
       "(46, 267, 2)"
      ]
     },
     "execution_count": 29,
     "metadata": {},
     "output_type": "execute_result"
    }
   ],
   "source": [
    "encoder_input_valid = np.array(encoder_input_valid)\n",
    "encoder_input_valid.shape"
   ]
  },
  {
   "cell_type": "code",
   "execution_count": 30,
   "metadata": {
    "id": "0db4d4f5"
   },
   "outputs": [],
   "source": [
    "X1_valid = list()\n",
    "for i in range(encoder_input_valid.shape[0]):\n",
    "  row=list()\n",
    "  for j in range(267):                           #267 cuz there are 267 time-step in each sequence\n",
    "    row.append(encoder_input_valid[i][j][0])\n",
    "    row.append(encoder_input_valid[i][j][1])\n",
    "  X1_valid.append(row)"
   ]
  },
  {
   "cell_type": "code",
   "execution_count": 31,
   "metadata": {
    "colab": {
     "base_uri": "https://localhost:8080/"
    },
    "id": "d0133efb",
    "outputId": "f7bb4645-8752-4da5-a9bf-05794417a787"
   },
   "outputs": [
    {
     "data": {
      "text/plain": [
       "(46, 534)"
      ]
     },
     "execution_count": 31,
     "metadata": {},
     "output_type": "execute_result"
    }
   ],
   "source": [
    "X1_valid = np.array(X1_valid)\n",
    "X1_valid.shape"
   ]
  },
  {
   "cell_type": "code",
   "execution_count": 32,
   "metadata": {
    "colab": {
     "base_uri": "https://localhost:8080/"
    },
    "id": "102eeebe",
    "outputId": "3de88efb-55c0-4398-ccd5-54489e35c793"
   },
   "outputs": [
    {
     "data": {
      "text/plain": [
       "(1, 46, 534, 501)"
      ]
     },
     "execution_count": 32,
     "metadata": {},
     "output_type": "execute_result"
    }
   ],
   "source": [
    "X1_valid = to_categorical([X1_valid], num_classes=501)\n",
    "X1_valid.shape"
   ]
  },
  {
   "cell_type": "code",
   "execution_count": 33,
   "metadata": {
    "colab": {
     "base_uri": "https://localhost:8080/"
    },
    "id": "cbbe6284",
    "outputId": "fe830bca-143f-4c55-d0f0-969c0b37fa81"
   },
   "outputs": [
    {
     "data": {
      "text/plain": [
       "(46, 534, 501)"
      ]
     },
     "execution_count": 33,
     "metadata": {},
     "output_type": "execute_result"
    }
   ],
   "source": [
    "X1_valid = X1_valid.reshape(46, 534, 501)\n",
    "X1_valid.shape"
   ]
  },
  {
   "cell_type": "markdown",
   "metadata": {
    "id": "bo3gUFXDMKvt"
   },
   "source": [
    "###For decoder_target (training)"
   ]
  },
  {
   "cell_type": "code",
   "execution_count": 34,
   "metadata": {
    "id": "7a91ba78"
   },
   "outputs": [],
   "source": [
    "Y = []\n",
    "for i in range(len(compiled_y)):\n",
    "  data = compiled_y[i]                                   \n",
    "  while len(data) < 267:                         #Make all samples to be of the same sequence length by padding it with \"2\"\n",
    "    data.append(2)\n",
    "  Y.append(data)"
   ]
  },
  {
   "cell_type": "code",
   "execution_count": 35,
   "metadata": {
    "colab": {
     "base_uri": "https://localhost:8080/"
    },
    "id": "582f782b",
    "outputId": "0033c781-a7ce-4142-b289-22c921c725a8"
   },
   "outputs": [
    {
     "data": {
      "text/plain": [
       "(414, 267)"
      ]
     },
     "execution_count": 35,
     "metadata": {},
     "output_type": "execute_result"
    }
   ],
   "source": [
    "Y = np.array(Y)\n",
    "Y.shape"
   ]
  },
  {
   "cell_type": "code",
   "execution_count": 36,
   "metadata": {
    "colab": {
     "base_uri": "https://localhost:8080/"
    },
    "id": "479fe2fe",
    "outputId": "5000662c-4731-43a0-e4b0-dc7f658c29a8"
   },
   "outputs": [
    {
     "data": {
      "text/plain": [
       "(1, 414, 267, 4)"
      ]
     },
     "execution_count": 36,
     "metadata": {},
     "output_type": "execute_result"
    }
   ],
   "source": [
    "Y = to_categorical([Y], num_classes=4)\n",
    "Y.shape"
   ]
  },
  {
   "cell_type": "code",
   "execution_count": 37,
   "metadata": {
    "colab": {
     "base_uri": "https://localhost:8080/"
    },
    "id": "46b5f434",
    "outputId": "04675fe8-7441-4813-a2c1-81cf07551b3a"
   },
   "outputs": [
    {
     "data": {
      "text/plain": [
       "(414, 267, 4)"
      ]
     },
     "execution_count": 37,
     "metadata": {},
     "output_type": "execute_result"
    }
   ],
   "source": [
    "Y = Y.reshape(414, 267, 4)\n",
    "Y.shape"
   ]
  },
  {
   "cell_type": "markdown",
   "metadata": {
    "id": "5II_4-BBMRMK"
   },
   "source": [
    "###For decoder_target (validation)"
   ]
  },
  {
   "cell_type": "code",
   "execution_count": 38,
   "metadata": {
    "id": "012595b1"
   },
   "outputs": [],
   "source": [
    "Y_valid = []\n",
    "for i in range(len(compiled_y_valid)):\n",
    "  data = compiled_y_valid[i]                                   \n",
    "  while len(data) < 267:                        #Make all samples to be of the same sequence length by padding it with \"2\"\n",
    "    data.append(2)\n",
    "  Y_valid.append(data)"
   ]
  },
  {
   "cell_type": "code",
   "execution_count": 39,
   "metadata": {
    "colab": {
     "base_uri": "https://localhost:8080/"
    },
    "id": "cb74fa9f",
    "outputId": "944ef8a7-1580-4328-b342-21e82926b450"
   },
   "outputs": [
    {
     "data": {
      "text/plain": [
       "(46, 267)"
      ]
     },
     "execution_count": 39,
     "metadata": {},
     "output_type": "execute_result"
    }
   ],
   "source": [
    "Y_valid = np.array(Y_valid)\n",
    "Y_valid.shape"
   ]
  },
  {
   "cell_type": "code",
   "execution_count": 40,
   "metadata": {
    "colab": {
     "base_uri": "https://localhost:8080/"
    },
    "id": "bcf27d99",
    "outputId": "68a9a2ae-f8c9-4c83-8c0a-65402694a466"
   },
   "outputs": [
    {
     "data": {
      "text/plain": [
       "(1, 46, 267, 4)"
      ]
     },
     "execution_count": 40,
     "metadata": {},
     "output_type": "execute_result"
    }
   ],
   "source": [
    "Y_valid = to_categorical([Y_valid], num_classes=4)\n",
    "Y_valid.shape"
   ]
  },
  {
   "cell_type": "code",
   "execution_count": 41,
   "metadata": {
    "colab": {
     "base_uri": "https://localhost:8080/"
    },
    "id": "4e972fd4",
    "outputId": "d8aabc9e-55dc-443c-9c0f-085ac14cc288"
   },
   "outputs": [
    {
     "data": {
      "text/plain": [
       "(46, 267, 4)"
      ]
     },
     "execution_count": 41,
     "metadata": {},
     "output_type": "execute_result"
    }
   ],
   "source": [
    "Y_valid = Y_valid.reshape(46, 267, 4)\n",
    "Y_valid.shape"
   ]
  },
  {
   "cell_type": "markdown",
   "metadata": {
    "id": "f8n1u5E-MXOg"
   },
   "source": [
    "###For decoder input (shifted version of decoder target) - (training)"
   ]
  },
  {
   "cell_type": "code",
   "execution_count": 42,
   "metadata": {
    "id": "9b934c42"
   },
   "outputs": [],
   "source": [
    "X2 = []\n",
    "for i in range(len(compiled_y)):\n",
    "  data = compiled_y[i] \n",
    "  while len(data) < 267:                         #Make all samples to be of the same sequence length by padding it with two\n",
    "    data.append(2)\n",
    "  data = [3] + data[:-1]                         #3 for indicating start of decoder input sequence (requirement for force teaching)\n",
    "  X2.append(data)"
   ]
  },
  {
   "cell_type": "code",
   "execution_count": 43,
   "metadata": {
    "colab": {
     "base_uri": "https://localhost:8080/"
    },
    "id": "e4c698ba",
    "outputId": "69769661-1d33-4676-f92b-e1a133c3c657"
   },
   "outputs": [
    {
     "data": {
      "text/plain": [
       "(414, 267)"
      ]
     },
     "execution_count": 43,
     "metadata": {},
     "output_type": "execute_result"
    }
   ],
   "source": [
    "X2 = np.array(X2)\n",
    "X2.shape"
   ]
  },
  {
   "cell_type": "code",
   "execution_count": 44,
   "metadata": {
    "colab": {
     "base_uri": "https://localhost:8080/"
    },
    "id": "fec17b2a",
    "outputId": "0287ee06-b589-47c1-f51e-0b3de1f3123a"
   },
   "outputs": [
    {
     "data": {
      "text/plain": [
       "(1, 414, 267, 4)"
      ]
     },
     "execution_count": 44,
     "metadata": {},
     "output_type": "execute_result"
    }
   ],
   "source": [
    "X2 = to_categorical([X2], num_classes=4)\n",
    "X2.shape"
   ]
  },
  {
   "cell_type": "code",
   "execution_count": 45,
   "metadata": {
    "colab": {
     "base_uri": "https://localhost:8080/"
    },
    "id": "ed73609e",
    "outputId": "3033ea1d-c945-4535-fcae-5635be0a2248"
   },
   "outputs": [
    {
     "data": {
      "text/plain": [
       "(414, 267, 4)"
      ]
     },
     "execution_count": 45,
     "metadata": {},
     "output_type": "execute_result"
    }
   ],
   "source": [
    "X2 = X2.reshape(414, 267, 4)\n",
    "X2.shape"
   ]
  },
  {
   "cell_type": "markdown",
   "metadata": {
    "id": "doCmtH4jQJNb"
   },
   "source": [
    "### For decoder input (shifted version of decoder target) - (validation)"
   ]
  },
  {
   "cell_type": "code",
   "execution_count": 46,
   "metadata": {
    "id": "b47dd18a"
   },
   "outputs": [],
   "source": [
    "X2_valid = []\n",
    "for i in range(len(compiled_y_valid)):\n",
    "  data = compiled_y_valid[i] \n",
    "  while len(data) < 267:                        #Make all samples to be of the same sequence length by padding it with two\n",
    "    data.append(2)\n",
    "  data = [3] + data[:-1]                        #3 for indicating start of decoder input sequence (requirement for force teaching)\n",
    "  X2_valid.append(data)"
   ]
  },
  {
   "cell_type": "code",
   "execution_count": 47,
   "metadata": {
    "colab": {
     "base_uri": "https://localhost:8080/"
    },
    "id": "9bbaf201",
    "outputId": "cb4d81eb-099a-4cd2-ab03-e4fde3ddc143"
   },
   "outputs": [
    {
     "data": {
      "text/plain": [
       "(46, 267)"
      ]
     },
     "execution_count": 47,
     "metadata": {},
     "output_type": "execute_result"
    }
   ],
   "source": [
    "X2_valid = np.array(X2_valid)\n",
    "X2_valid.shape"
   ]
  },
  {
   "cell_type": "code",
   "execution_count": 48,
   "metadata": {
    "colab": {
     "base_uri": "https://localhost:8080/"
    },
    "id": "3ca79fa6",
    "outputId": "e7ac698f-93f8-4998-c546-af0e8a1d91f7"
   },
   "outputs": [
    {
     "data": {
      "text/plain": [
       "(1, 46, 267, 4)"
      ]
     },
     "execution_count": 48,
     "metadata": {},
     "output_type": "execute_result"
    }
   ],
   "source": [
    "X2_valid = to_categorical([X2_valid], num_classes=4)\n",
    "X2_valid.shape"
   ]
  },
  {
   "cell_type": "code",
   "execution_count": 49,
   "metadata": {
    "colab": {
     "base_uri": "https://localhost:8080/"
    },
    "id": "7785b377",
    "outputId": "6a2fce05-82b7-40f2-b751-d65369453ccd"
   },
   "outputs": [
    {
     "data": {
      "text/plain": [
       "(46, 267, 4)"
      ]
     },
     "execution_count": 49,
     "metadata": {},
     "output_type": "execute_result"
    }
   ],
   "source": [
    "X2_valid = X2_valid.reshape(46, 267, 4)\n",
    "X2_valid.shape"
   ]
  },
  {
   "cell_type": "markdown",
   "metadata": {
    "id": "SbtvcM2gMssN"
   },
   "source": [
    "###Creation of test samples"
   ]
  },
  {
   "cell_type": "code",
   "execution_count": 50,
   "metadata": {
    "id": "261c0403"
   },
   "outputs": [],
   "source": [
    "compiled_data = get_compiled_data(\"C:/Users/ASUS/Desktop/system_code/dataset-460-40/x_test\")\n",
    "#compiled_data = get_compiled_data(\"/gdrive/MyDrive/dataset-460-40/x_test/\")"
   ]
  },
  {
   "cell_type": "code",
   "execution_count": 51,
   "metadata": {
    "id": "48e4b49f"
   },
   "outputs": [],
   "source": [
    "encoder_input_test = []\n",
    "for i in range(len(compiled_data)):\n",
    "  data = compiled_data[i]   \n",
    "  while len(data) < 267:                         #The sequence length of the longest input sample was earlier found to be 267 (not shown in this colab)\n",
    "    data.append([500,500])                       #Make all samples to be of the same sequence length by padding it with 500. \n",
    "  encoder_input_test.append(data)"
   ]
  },
  {
   "cell_type": "code",
   "execution_count": 52,
   "metadata": {
    "colab": {
     "base_uri": "https://localhost:8080/"
    },
    "id": "b9e6f7bf",
    "outputId": "179eaea5-08c0-4dfc-89f8-f2bc74a2b742"
   },
   "outputs": [
    {
     "data": {
      "text/plain": [
       "(40, 267, 2)"
      ]
     },
     "execution_count": 52,
     "metadata": {},
     "output_type": "execute_result"
    }
   ],
   "source": [
    "encoder_input_test = np.array(encoder_input_test)\n",
    "encoder_input_test.shape"
   ]
  },
  {
   "cell_type": "code",
   "execution_count": 53,
   "metadata": {
    "id": "41dd8f25"
   },
   "outputs": [],
   "source": [
    "X1_test = list()\n",
    "for i in range(encoder_input_test.shape[0]):\n",
    "  row=list()\n",
    "  for j in range(267):                           #267 cuz there are 267 time-step in each sequence\n",
    "    row.append(encoder_input_test[i][j][0])\n",
    "    row.append(encoder_input_test[i][j][1])\n",
    "  X1_test.append(row)"
   ]
  },
  {
   "cell_type": "code",
   "execution_count": 54,
   "metadata": {
    "colab": {
     "base_uri": "https://localhost:8080/"
    },
    "id": "894ddbcc",
    "outputId": "78dba8d5-eb5d-4f09-c5ca-d4b8daa3bae9"
   },
   "outputs": [
    {
     "data": {
      "text/plain": [
       "(40, 534)"
      ]
     },
     "execution_count": 54,
     "metadata": {},
     "output_type": "execute_result"
    }
   ],
   "source": [
    "X1_test = np.array(X1_test)\n",
    "X1_test.shape"
   ]
  },
  {
   "cell_type": "code",
   "execution_count": 55,
   "metadata": {
    "colab": {
     "base_uri": "https://localhost:8080/"
    },
    "id": "4075a43d",
    "outputId": "311c65f5-bbb3-4ce7-9fec-936bdd45cf0a"
   },
   "outputs": [
    {
     "data": {
      "text/plain": [
       "(1, 40, 534, 501)"
      ]
     },
     "execution_count": 55,
     "metadata": {},
     "output_type": "execute_result"
    }
   ],
   "source": [
    "X1_test = to_categorical([X1_test], num_classes=501)\n",
    "X1_test.shape"
   ]
  },
  {
   "cell_type": "code",
   "execution_count": 56,
   "metadata": {
    "colab": {
     "base_uri": "https://localhost:8080/"
    },
    "id": "a424e4e0",
    "outputId": "2208184a-55f1-43ef-c677-9949ff327d3a"
   },
   "outputs": [
    {
     "data": {
      "text/plain": [
       "(40, 534, 501)"
      ]
     },
     "execution_count": 56,
     "metadata": {},
     "output_type": "execute_result"
    }
   ],
   "source": [
    "X1_test = X1_test.reshape(40, 534, 501)\n",
    "X1_test.shape"
   ]
  },
  {
   "cell_type": "code",
   "execution_count": 57,
   "metadata": {
    "id": "072649f8"
   },
   "outputs": [],
   "source": [
    "compiled_data = get_compiled_data(\"C:/Users/ASUS/Desktop/system_code/dataset-460-40/y_test\")\n",
    "#compiled_data = get_compiled_data(\"/gdrive/MyDrive/dataset-460-40/y_test/\")\n"
   ]
  },
  {
   "cell_type": "code",
   "execution_count": 58,
   "metadata": {
    "id": "9dda606e"
   },
   "outputs": [],
   "source": [
    "Y_test = []\n",
    "for i in range(len(compiled_data)):\n",
    "  data = compiled_data[i]                                   \n",
    "  while len(data) < 267:                          #Make all samples to be of the same sequence length by padding it with \"2\"\n",
    "    data.append(2)\n",
    "  Y_test.append(data)"
   ]
  },
  {
   "cell_type": "code",
   "execution_count": 59,
   "metadata": {
    "colab": {
     "base_uri": "https://localhost:8080/"
    },
    "id": "dce51ced",
    "outputId": "83356687-f9fc-41af-f232-b5175a7991ae"
   },
   "outputs": [
    {
     "data": {
      "text/plain": [
       "(40, 267)"
      ]
     },
     "execution_count": 59,
     "metadata": {},
     "output_type": "execute_result"
    }
   ],
   "source": [
    "Y_test = np.array(Y_test)\n",
    "Y_test.shape"
   ]
  },
  {
   "cell_type": "code",
   "execution_count": 60,
   "metadata": {
    "colab": {
     "base_uri": "https://localhost:8080/"
    },
    "id": "be9bb6aa",
    "outputId": "bb97e34d-008a-4a94-d3ab-79186b937db7"
   },
   "outputs": [
    {
     "data": {
      "text/plain": [
       "(1, 40, 267, 4)"
      ]
     },
     "execution_count": 60,
     "metadata": {},
     "output_type": "execute_result"
    }
   ],
   "source": [
    "Y_test = to_categorical([Y_test], num_classes=4)\n",
    "Y_test.shape"
   ]
  },
  {
   "cell_type": "code",
   "execution_count": 61,
   "metadata": {
    "colab": {
     "base_uri": "https://localhost:8080/"
    },
    "id": "94100aab",
    "outputId": "bc252181-4a25-478f-df3d-7d9638edfddf"
   },
   "outputs": [
    {
     "data": {
      "text/plain": [
       "(40, 267, 4)"
      ]
     },
     "execution_count": 61,
     "metadata": {},
     "output_type": "execute_result"
    }
   ],
   "source": [
    "Y_test = Y_test.reshape(40, 267, 4)\n",
    "Y_test.shape"
   ]
  },
  {
   "cell_type": "markdown",
   "metadata": {
    "id": "VakP6jjUJJZL"
   },
   "source": [
    "# Model creation"
   ]
  },
  {
   "cell_type": "code",
   "execution_count": 62,
   "metadata": {
    "colab": {
     "base_uri": "https://localhost:8080/"
    },
    "id": "Ill3_xlN_HLq",
    "outputId": "a669d81f-1654-4dbe-a665-0469d67b1be3"
   },
   "outputs": [
    {
     "name": "stdout",
     "output_type": "stream",
     "text": [
      "Model: \"model\"\n",
      "__________________________________________________________________________________________________\n",
      "Layer (type)                    Output Shape         Param #     Connected to                     \n",
      "==================================================================================================\n",
      "input_1 (InputLayer)            [(None, None, 501)]  0                                            \n",
      "__________________________________________________________________________________________________\n",
      "input_2 (InputLayer)            [(None, None, 4)]    0                                            \n",
      "__________________________________________________________________________________________________\n",
      "lstm (LSTM)                     [(None, None, 128),  322560      input_1[0][0]                    \n",
      "__________________________________________________________________________________________________\n",
      "lstm_2 (LSTM)                   [(None, None, 128),  68096       input_2[0][0]                    \n",
      "                                                                 lstm[0][1]                       \n",
      "                                                                 lstm[0][2]                       \n",
      "__________________________________________________________________________________________________\n",
      "lstm_1 (LSTM)                   [(None, 128), (None, 131584      lstm[0][0]                       \n",
      "__________________________________________________________________________________________________\n",
      "lstm_3 (LSTM)                   [(None, None, 128),  131584      lstm_2[0][0]                     \n",
      "                                                                 lstm_1[0][1]                     \n",
      "                                                                 lstm_1[0][2]                     \n",
      "__________________________________________________________________________________________________\n",
      "dense (Dense)                   (None, None, 4)      516         lstm_3[0][0]                     \n",
      "==================================================================================================\n",
      "Total params: 654,340\n",
      "Trainable params: 654,340\n",
      "Non-trainable params: 0\n",
      "__________________________________________________________________________________________________\n"
     ]
    }
   ],
   "source": [
    "num_encoder_tokens = 501\n",
    "num_decoder_tokens = 4\n",
    "latent_dim = 128\n",
    "\n",
    "encoder_inputs = Input(shape=(None, num_encoder_tokens))\n",
    "decoder_inputs = Input(shape=(None, num_decoder_tokens))\n",
    "\n",
    "encoder_outputs_1, h1, c1 = LSTM(latent_dim, return_state=True, return_sequences=True)(encoder_inputs) \n",
    "encoder_outputs_2, h2, c2 = LSTM(latent_dim, return_state=True)(encoder_outputs_1) \n",
    "encoder_states = [h1, c1, h2, c2]\n",
    "\n",
    "out_layer1 = LSTM(latent_dim, return_sequences=True, return_state=True)\n",
    "out_layer2 = LSTM(latent_dim, return_sequences=True, return_state=True)\n",
    "\n",
    "decoder_outputs_1, dh1, dc1 = out_layer1(decoder_inputs,initial_state= [h1, c1])\n",
    "decoder_outputs_2, dh2, dc2 = out_layer2(decoder_outputs_1, initial_state= [h2, c2])\n",
    "decoder_dense = Dense(num_decoder_tokens, activation='softmax')\n",
    "decoder_outputs = decoder_dense(decoder_outputs_2)\n",
    "\n",
    "model = Model([encoder_inputs, decoder_inputs], decoder_outputs)\n",
    "\n",
    "model.summary()"
   ]
  },
  {
   "cell_type": "code",
   "execution_count": 63,
   "metadata": {
    "colab": {
     "base_uri": "https://localhost:8080/"
    },
    "id": "YaEqQpOx_NL1",
    "outputId": "431780b8-aa65-4de0-902a-911449b6e480"
   },
   "outputs": [
    {
     "name": "stdout",
     "output_type": "stream",
     "text": [
      "Model: \"model_2\"\n",
      "__________________________________________________________________________________________________\n",
      "Layer (type)                    Output Shape         Param #     Connected to                     \n",
      "==================================================================================================\n",
      "input_2 (InputLayer)            [(None, None, 4)]    0                                            \n",
      "__________________________________________________________________________________________________\n",
      "input_3 (InputLayer)            [(None, 128)]        0                                            \n",
      "__________________________________________________________________________________________________\n",
      "input_4 (InputLayer)            [(None, 128)]        0                                            \n",
      "__________________________________________________________________________________________________\n",
      "lstm_2 (LSTM)                   [(None, None, 128),  68096       input_2[0][0]                    \n",
      "                                                                 input_3[0][0]                    \n",
      "                                                                 input_4[0][0]                    \n",
      "__________________________________________________________________________________________________\n",
      "input_5 (InputLayer)            [(None, 128)]        0                                            \n",
      "__________________________________________________________________________________________________\n",
      "input_6 (InputLayer)            [(None, 128)]        0                                            \n",
      "__________________________________________________________________________________________________\n",
      "lstm_3 (LSTM)                   [(None, None, 128),  131584      lstm_2[1][0]                     \n",
      "                                                                 input_5[0][0]                    \n",
      "                                                                 input_6[0][0]                    \n",
      "__________________________________________________________________________________________________\n",
      "dense (Dense)                   (None, None, 4)      516         lstm_3[1][0]                     \n",
      "==================================================================================================\n",
      "Total params: 200,196\n",
      "Trainable params: 200,196\n",
      "Non-trainable params: 0\n",
      "__________________________________________________________________________________________________\n"
     ]
    }
   ],
   "source": [
    "encoder_model = Model(encoder_inputs, encoder_states)\n",
    "\n",
    "decoder_state_input_h = Input(shape=(latent_dim,))\n",
    "decoder_state_input_c = Input(shape=(latent_dim,))\n",
    "decoder_state_input_h1 = Input(shape=(latent_dim,))\n",
    "decoder_state_input_c1 = Input(shape=(latent_dim,))\n",
    "decoder_states_inputs = [decoder_state_input_h, decoder_state_input_c, decoder_state_input_h1, decoder_state_input_c1]\n",
    "\t\t\t\t\t\t \n",
    "decoder_output, h, c = out_layer1(decoder_inputs, initial_state=decoder_states_inputs[:2])\n",
    "decoder_output_1, h1, c1 = out_layer2(decoder_output, initial_state=decoder_states_inputs[-2:])\n",
    "\n",
    "decoder_states = [h, c, h1, c1]\n",
    "decoder_outputs = decoder_dense(decoder_output_1)\n",
    "decoder_model = Model([decoder_inputs] + decoder_states_inputs,[decoder_outputs] + decoder_states)\n",
    "\n",
    "decoder_model.summary()"
   ]
  },
  {
   "cell_type": "code",
   "execution_count": 64,
   "metadata": {
    "id": "Gy8Z6vQsJp4x"
   },
   "outputs": [],
   "source": [
    "# #Bidirectional\n",
    "\n",
    "# # returns train, inference_encoder and inference_decoder models\n",
    "# def define_models(n_features_input, n_features_output, n_units):\n",
    "\n",
    "# \t# define training encoder\n",
    "# \tencoder_inputs = Input(shape=(None, n_features_input))\n",
    "# \tencoder = Bidirectional(LSTM(n_units, return_state=True))                     \n",
    "# \tencoder_outputs, forward_h, forward_c, backward_h, backward_c = encoder(encoder_inputs)\n",
    "# \tstate_h = Concatenate()([forward_h, backward_h])\n",
    "# \tstate_c = Concatenate()([forward_c, backward_c])\n",
    "# \tencoder_states = [state_h, state_c]\n",
    "\n",
    "# \t# define training decoder\n",
    "# \tdecoder_inputs = Input(shape=(None, n_features_output))\n",
    "# \tdecoder_lstm = LSTM(n_units*2, return_sequences=True, return_state=True)      #Multiple by 2 cuz of bidirectional\n",
    "# \tdecoder_outputs, _, _ = decoder_lstm(decoder_inputs, initial_state=encoder_states)\n",
    "# \tdecoder_dense = Dense(n_features_output, activation='softmax')\n",
    "# \tdecoder_outputs = decoder_dense(decoder_outputs)\n",
    "# \tmodel = Model([encoder_inputs, decoder_inputs], decoder_outputs)\n",
    " \n",
    "# \t# define inference encoder\n",
    "# \tencoder_model = Model(encoder_inputs, encoder_states)\n",
    " \n",
    "# \t# define inference decoder\n",
    "# \tdecoder_state_input_h = Input(shape=(n_units*2,))                             #Multiple by 2 cuz of bidirectional\n",
    "# \tdecoder_state_input_c = Input(shape=(n_units*2,))                             #Multiple by 2 cuz of bidirectional\n",
    "# \tdecoder_states_inputs = [decoder_state_input_h, decoder_state_input_c]\n",
    "# \tdecoder_outputs, state_h, state_c = decoder_lstm(decoder_inputs, initial_state=decoder_states_inputs)\n",
    "# \tdecoder_states = [state_h, state_c]\n",
    "# \tdecoder_outputs = decoder_dense(decoder_outputs)\n",
    "# \tdecoder_model = Model([decoder_inputs] + decoder_states_inputs, [decoder_outputs] + decoder_states)\n",
    " \n",
    "# \t# return all models\n",
    "# \treturn model, encoder_model, decoder_model"
   ]
  },
  {
   "cell_type": "markdown",
   "metadata": {
    "id": "wuEoKllRGqPI"
   },
   "source": [
    "### Metrics"
   ]
  },
  {
   "cell_type": "code",
   "execution_count": 65,
   "metadata": {
    "id": "sMKzlkajG0gN"
   },
   "outputs": [],
   "source": [
    "precision =tf.keras.metrics.Precision()\n",
    "recall = tf.keras.metrics.Recall()"
   ]
  },
  {
   "cell_type": "code",
   "execution_count": 66,
   "metadata": {
    "id": "UW5uRrdG2TkT"
   },
   "outputs": [],
   "source": [
    "from tensorflow.keras import backend as K\n",
    "\n",
    "def f1(y_true, y_pred):\n",
    "    y_pred = K.round(y_pred)\n",
    "    tp = K.sum(K.cast(y_true*y_pred, 'float'), axis=0)\n",
    "    tn = K.sum(K.cast((1-y_true)*(1-y_pred), 'float'), axis=0)\n",
    "    fp = K.sum(K.cast((1-y_true)*y_pred, 'float'), axis=0)\n",
    "    fn = K.sum(K.cast(y_true*(1-y_pred), 'float'), axis=0)\n",
    "\n",
    "    p = tp / (tp + fp + K.epsilon())\n",
    "    r = tp / (tp + fn + K.epsilon())\n",
    "\n",
    "    f1 = 2*p*r / (p+r+K.epsilon())\n",
    "    f1 = tf.where(tf.math.is_nan(f1), tf.zeros_like(f1), f1)\n",
    "    return K.mean(f1)\n",
    "\n",
    "def f1_loss(y_true, y_pred):\n",
    "    \n",
    "    tp = K.sum(K.cast(y_true*y_pred, 'float'), axis=0)\n",
    "    tn = K.sum(K.cast((1-y_true)*(1-y_pred), 'float'), axis=0)\n",
    "    fp = K.sum(K.cast((1-y_true)*y_pred, 'float'), axis=0)\n",
    "    fn = K.sum(K.cast(y_true*(1-y_pred), 'float'), axis=0)\n",
    "\n",
    "    p = tp / (tp + fp + K.epsilon())\n",
    "    r = tp / (tp + fn + K.epsilon())\n",
    "\n",
    "    f1 = 2*p*r / (p+r+K.epsilon())    \n",
    "    f1 = tf.where(tf.math.is_nan(f1), tf.zeros_like(f1), f1)\n",
    "\n",
    "    return 1 - K.mean(f1)"
   ]
  },
  {
   "cell_type": "code",
   "execution_count": 67,
   "metadata": {
    "colab": {
     "base_uri": "https://localhost:8080/"
    },
    "id": "PT1rUwemv6tj",
    "outputId": "e6fb7c71-015e-4ff5-c10d-eeb3633aea16"
   },
   "outputs": [
    {
     "name": "stdout",
     "output_type": "stream",
     "text": [
      "(414, 534, 501) (414, 267, 4) (414, 267, 4)\n",
      "Epoch 1/200\n",
      "13/13 [==============================] - 8s 278ms/step - loss: 1.1595 - acc: 0.7470 - precision: 1.0000 - recall: 0.0811 - f1: 0.0268 - val_loss: 0.7548 - val_acc: 0.8377 - val_precision: 1.0000 - val_recall: 0.6225 - val_f1: 0.1881\n",
      "Epoch 2/200\n",
      "13/13 [==============================] - 2s 193ms/step - loss: 0.5298 - acc: 0.8118 - precision: 0.9913 - recall: 0.6283 - f1: 0.2058 - val_loss: 0.3810 - val_acc: 0.8381 - val_precision: 0.9789 - val_recall: 0.6622 - val_f1: 0.2031\n",
      "Epoch 3/200\n",
      "13/13 [==============================] - 2s 193ms/step - loss: 0.3648 - acc: 0.8259 - precision: 0.8935 - recall: 0.7453 - f1: 0.2736 - val_loss: 0.3117 - val_acc: 0.8359 - val_precision: 0.8448 - val_recall: 0.8302 - val_f1: 0.2896\n",
      "Epoch 4/200\n",
      "13/13 [==============================] - 2s 191ms/step - loss: 0.3138 - acc: 0.8409 - precision: 0.8825 - recall: 0.7892 - f1: 0.2995 - val_loss: 0.2846 - val_acc: 0.8514 - val_precision: 0.9010 - val_recall: 0.7923 - val_f1: 0.2692\n",
      "Epoch 5/200\n",
      "13/13 [==============================] - 2s 193ms/step - loss: 0.2996 - acc: 0.8469 - precision: 0.8784 - recall: 0.8055 - f1: 0.3060 - val_loss: 0.2798 - val_acc: 0.8505 - val_precision: 0.8809 - val_recall: 0.8181 - val_f1: 0.2885\n",
      "Epoch 6/200\n",
      "13/13 [==============================] - 3s 196ms/step - loss: 0.3051 - acc: 0.8451 - precision: 0.8713 - recall: 0.8120 - f1: 0.3282 - val_loss: 0.2819 - val_acc: 0.8576 - val_precision: 0.9044 - val_recall: 0.7973 - val_f1: 0.2820\n",
      "Epoch 7/200\n",
      "13/13 [==============================] - 3s 198ms/step - loss: 0.2962 - acc: 0.8493 - precision: 0.8771 - recall: 0.8150 - f1: 0.3432 - val_loss: 0.2758 - val_acc: 0.8549 - val_precision: 0.8862 - val_recall: 0.8197 - val_f1: 0.3036\n",
      "Epoch 8/200\n",
      "13/13 [==============================] - 3s 197ms/step - loss: 0.2896 - acc: 0.8516 - precision: 0.8754 - recall: 0.8235 - f1: 0.3501 - val_loss: 0.2706 - val_acc: 0.8528 - val_precision: 0.8731 - val_recall: 0.8327 - val_f1: 0.3126\n",
      "Epoch 9/200\n",
      "13/13 [==============================] - 3s 199ms/step - loss: 0.2845 - acc: 0.8533 - precision: 0.8710 - recall: 0.8319 - f1: 0.3590 - val_loss: 0.2665 - val_acc: 0.8558 - val_precision: 0.8813 - val_recall: 0.8301 - val_f1: 0.3136\n",
      "Epoch 10/200\n",
      "13/13 [==============================] - 3s 204ms/step - loss: 0.2804 - acc: 0.8548 - precision: 0.8731 - recall: 0.8324 - f1: 0.3549 - val_loss: 0.2641 - val_acc: 0.8566 - val_precision: 0.8771 - val_recall: 0.8360 - val_f1: 0.3124\n",
      "Epoch 11/200\n",
      "13/13 [==============================] - 3s 200ms/step - loss: 0.2780 - acc: 0.8558 - precision: 0.8726 - recall: 0.8346 - f1: 0.3554 - val_loss: 0.2618 - val_acc: 0.8577 - val_precision: 0.8751 - val_recall: 0.8407 - val_f1: 0.3137\n",
      "Epoch 12/200\n",
      "13/13 [==============================] - 3s 196ms/step - loss: 0.2753 - acc: 0.8568 - precision: 0.8721 - recall: 0.8375 - f1: 0.3563 - val_loss: 0.2594 - val_acc: 0.8598 - val_precision: 0.8744 - val_recall: 0.8429 - val_f1: 0.3156\n",
      "Epoch 13/200\n",
      "13/13 [==============================] - 3s 207ms/step - loss: 0.2724 - acc: 0.8577 - precision: 0.8730 - recall: 0.8397 - f1: 0.3614 - val_loss: 0.2587 - val_acc: 0.8622 - val_precision: 0.8831 - val_recall: 0.8365 - val_f1: 0.2990\n",
      "Epoch 14/200\n",
      "13/13 [==============================] - 3s 200ms/step - loss: 0.2753 - acc: 0.8569 - precision: 0.8694 - recall: 0.8406 - f1: 0.3601 - val_loss: 0.2618 - val_acc: 0.8639 - val_precision: 0.8992 - val_recall: 0.8207 - val_f1: 0.3031\n",
      "Epoch 15/200\n",
      "13/13 [==============================] - 3s 200ms/step - loss: 0.2746 - acc: 0.8577 - precision: 0.8731 - recall: 0.8382 - f1: 0.3633 - val_loss: 0.2585 - val_acc: 0.8631 - val_precision: 0.8845 - val_recall: 0.8372 - val_f1: 0.3206\n",
      "Epoch 16/200\n",
      "13/13 [==============================] - 3s 202ms/step - loss: 0.2704 - acc: 0.8582 - precision: 0.8713 - recall: 0.8431 - f1: 0.3671 - val_loss: 0.2544 - val_acc: 0.8639 - val_precision: 0.8810 - val_recall: 0.8442 - val_f1: 0.3223\n",
      "Epoch 17/200\n",
      "13/13 [==============================] - 3s 199ms/step - loss: 0.2671 - acc: 0.8596 - precision: 0.8711 - recall: 0.8452 - f1: 0.3711 - val_loss: 0.2527 - val_acc: 0.8612 - val_precision: 0.8715 - val_recall: 0.8496 - val_f1: 0.3240\n",
      "Epoch 18/200\n",
      "13/13 [==============================] - 3s 201ms/step - loss: 0.2646 - acc: 0.8601 - precision: 0.8707 - recall: 0.8461 - f1: 0.3643 - val_loss: 0.2513 - val_acc: 0.8635 - val_precision: 0.8714 - val_recall: 0.8538 - val_f1: 0.3204\n",
      "Epoch 19/200\n",
      "13/13 [==============================] - 3s 202ms/step - loss: 0.2629 - acc: 0.8614 - precision: 0.8713 - recall: 0.8485 - f1: 0.3661 - val_loss: 0.2496 - val_acc: 0.8641 - val_precision: 0.8741 - val_recall: 0.8544 - val_f1: 0.3286\n",
      "Epoch 20/200\n",
      "13/13 [==============================] - 3s 199ms/step - loss: 0.2618 - acc: 0.8612 - precision: 0.8709 - recall: 0.8498 - f1: 0.3681 - val_loss: 0.2488 - val_acc: 0.8637 - val_precision: 0.8724 - val_recall: 0.8570 - val_f1: 0.3321\n",
      "Epoch 21/200\n",
      "13/13 [==============================] - 3s 199ms/step - loss: 0.2600 - acc: 0.8621 - precision: 0.8711 - recall: 0.8516 - f1: 0.3704 - val_loss: 0.2500 - val_acc: 0.8642 - val_precision: 0.8708 - val_recall: 0.8569 - val_f1: 0.3377\n",
      "Epoch 22/200\n",
      "13/13 [==============================] - 3s 204ms/step - loss: 0.2599 - acc: 0.8622 - precision: 0.8704 - recall: 0.8530 - f1: 0.3750 - val_loss: 0.2460 - val_acc: 0.8662 - val_precision: 0.8755 - val_recall: 0.8555 - val_f1: 0.3327\n",
      "Epoch 23/200\n",
      "13/13 [==============================] - 3s 200ms/step - loss: 0.2581 - acc: 0.8627 - precision: 0.8712 - recall: 0.8519 - f1: 0.3713 - val_loss: 0.2453 - val_acc: 0.8666 - val_precision: 0.8756 - val_recall: 0.8542 - val_f1: 0.3321\n",
      "Epoch 24/200\n",
      "13/13 [==============================] - 3s 198ms/step - loss: 0.2578 - acc: 0.8630 - precision: 0.8705 - recall: 0.8527 - f1: 0.3740 - val_loss: 0.2455 - val_acc: 0.8644 - val_precision: 0.8701 - val_recall: 0.8593 - val_f1: 0.3313\n",
      "Epoch 25/200\n",
      "13/13 [==============================] - 3s 202ms/step - loss: 0.2578 - acc: 0.8626 - precision: 0.8715 - recall: 0.8513 - f1: 0.3703 - val_loss: 0.2437 - val_acc: 0.8672 - val_precision: 0.8749 - val_recall: 0.8574 - val_f1: 0.3359\n",
      "Epoch 26/200\n",
      "13/13 [==============================] - 3s 205ms/step - loss: 0.2552 - acc: 0.8639 - precision: 0.8705 - recall: 0.8558 - f1: 0.3763 - val_loss: 0.2424 - val_acc: 0.8677 - val_precision: 0.8752 - val_recall: 0.8574 - val_f1: 0.3313\n",
      "Epoch 27/200\n",
      "13/13 [==============================] - 3s 202ms/step - loss: 0.2545 - acc: 0.8642 - precision: 0.8711 - recall: 0.8551 - f1: 0.3695 - val_loss: 0.2438 - val_acc: 0.8666 - val_precision: 0.8712 - val_recall: 0.8621 - val_f1: 0.3377\n",
      "Epoch 28/200\n",
      "13/13 [==============================] - 3s 198ms/step - loss: 0.2539 - acc: 0.8644 - precision: 0.8703 - recall: 0.8573 - f1: 0.3809 - val_loss: 0.2429 - val_acc: 0.8674 - val_precision: 0.8725 - val_recall: 0.8605 - val_f1: 0.3426\n",
      "Epoch 29/200\n",
      "13/13 [==============================] - 3s 201ms/step - loss: 0.2524 - acc: 0.8651 - precision: 0.8712 - recall: 0.8575 - f1: 0.3804 - val_loss: 0.2404 - val_acc: 0.8685 - val_precision: 0.8737 - val_recall: 0.8624 - val_f1: 0.3370\n",
      "Epoch 30/200\n",
      "13/13 [==============================] - 3s 200ms/step - loss: 0.2517 - acc: 0.8649 - precision: 0.8704 - recall: 0.8581 - f1: 0.3761 - val_loss: 0.2395 - val_acc: 0.8688 - val_precision: 0.8743 - val_recall: 0.8622 - val_f1: 0.3358\n",
      "Epoch 31/200\n",
      "13/13 [==============================] - 3s 198ms/step - loss: 0.2512 - acc: 0.8655 - precision: 0.8712 - recall: 0.8593 - f1: 0.3820 - val_loss: 0.2393 - val_acc: 0.8692 - val_precision: 0.8791 - val_recall: 0.8598 - val_f1: 0.3322\n",
      "Epoch 32/200\n",
      "13/13 [==============================] - 3s 204ms/step - loss: 0.2517 - acc: 0.8654 - precision: 0.8717 - recall: 0.8584 - f1: 0.3810 - val_loss: 0.2394 - val_acc: 0.8679 - val_precision: 0.8732 - val_recall: 0.8627 - val_f1: 0.3435\n",
      "Epoch 33/200\n",
      "13/13 [==============================] - 3s 199ms/step - loss: 0.2520 - acc: 0.8651 - precision: 0.8697 - recall: 0.8592 - f1: 0.3784 - val_loss: 0.2424 - val_acc: 0.8717 - val_precision: 0.8852 - val_recall: 0.8511 - val_f1: 0.3208\n",
      "Epoch 34/200\n"
     ]
    },
    {
     "name": "stdout",
     "output_type": "stream",
     "text": [
      "13/13 [==============================] - 3s 199ms/step - loss: 0.2522 - acc: 0.8652 - precision: 0.8716 - recall: 0.8564 - f1: 0.3730 - val_loss: 0.2404 - val_acc: 0.8691 - val_precision: 0.8731 - val_recall: 0.8648 - val_f1: 0.3452\n",
      "Epoch 35/200\n",
      "13/13 [==============================] - 3s 203ms/step - loss: 0.2503 - acc: 0.8653 - precision: 0.8697 - recall: 0.8600 - f1: 0.3796 - val_loss: 0.2382 - val_acc: 0.8685 - val_precision: 0.8744 - val_recall: 0.8624 - val_f1: 0.3426\n",
      "Epoch 36/200\n",
      "13/13 [==============================] - 3s 203ms/step - loss: 0.2490 - acc: 0.8654 - precision: 0.8712 - recall: 0.8594 - f1: 0.3810 - val_loss: 0.2374 - val_acc: 0.8688 - val_precision: 0.8732 - val_recall: 0.8652 - val_f1: 0.3397\n",
      "Epoch 37/200\n",
      "13/13 [==============================] - 3s 201ms/step - loss: 0.2480 - acc: 0.8661 - precision: 0.8709 - recall: 0.8613 - f1: 0.3800 - val_loss: 0.2362 - val_acc: 0.8683 - val_precision: 0.8737 - val_recall: 0.8626 - val_f1: 0.3407\n",
      "Epoch 38/200\n",
      "13/13 [==============================] - 3s 204ms/step - loss: 0.2479 - acc: 0.8653 - precision: 0.8705 - recall: 0.8588 - f1: 0.3794 - val_loss: 0.2360 - val_acc: 0.8702 - val_precision: 0.8743 - val_recall: 0.8663 - val_f1: 0.3395\n",
      "Epoch 39/200\n",
      "13/13 [==============================] - 3s 203ms/step - loss: 0.2474 - acc: 0.8662 - precision: 0.8709 - recall: 0.8614 - f1: 0.3840 - val_loss: 0.2355 - val_acc: 0.8709 - val_precision: 0.8778 - val_recall: 0.8626 - val_f1: 0.3386\n",
      "Epoch 40/200\n",
      "13/13 [==============================] - 3s 201ms/step - loss: 0.2468 - acc: 0.8661 - precision: 0.8706 - recall: 0.8612 - f1: 0.3815 - val_loss: 0.2348 - val_acc: 0.8709 - val_precision: 0.8765 - val_recall: 0.8648 - val_f1: 0.3443\n",
      "Epoch 41/200\n",
      "13/13 [==============================] - 3s 205ms/step - loss: 0.2462 - acc: 0.8667 - precision: 0.8711 - recall: 0.8618 - f1: 0.3805 - val_loss: 0.2345 - val_acc: 0.8703 - val_precision: 0.8744 - val_recall: 0.8666 - val_f1: 0.3433\n",
      "Epoch 42/200\n",
      "13/13 [==============================] - 3s 206ms/step - loss: 0.2456 - acc: 0.8671 - precision: 0.8713 - recall: 0.8620 - f1: 0.3832 - val_loss: 0.2360 - val_acc: 0.8679 - val_precision: 0.8708 - val_recall: 0.8648 - val_f1: 0.3459\n",
      "Epoch 43/200\n",
      "13/13 [==============================] - 3s 199ms/step - loss: 0.2457 - acc: 0.8672 - precision: 0.8712 - recall: 0.8625 - f1: 0.3817 - val_loss: 0.2348 - val_acc: 0.8694 - val_precision: 0.8730 - val_recall: 0.8661 - val_f1: 0.3497\n",
      "Epoch 44/200\n",
      "13/13 [==============================] - 3s 199ms/step - loss: 0.2458 - acc: 0.8666 - precision: 0.8700 - recall: 0.8621 - f1: 0.3844 - val_loss: 0.2347 - val_acc: 0.8695 - val_precision: 0.8724 - val_recall: 0.8679 - val_f1: 0.3399\n",
      "Epoch 45/200\n",
      "13/13 [==============================] - 3s 203ms/step - loss: 0.2456 - acc: 0.8666 - precision: 0.8707 - recall: 0.8622 - f1: 0.3832 - val_loss: 0.2330 - val_acc: 0.8716 - val_precision: 0.8754 - val_recall: 0.8669 - val_f1: 0.3443\n",
      "Epoch 46/200\n",
      "13/13 [==============================] - 3s 201ms/step - loss: 0.2448 - acc: 0.8664 - precision: 0.8706 - recall: 0.8620 - f1: 0.3790 - val_loss: 0.2349 - val_acc: 0.8708 - val_precision: 0.8736 - val_recall: 0.8682 - val_f1: 0.3499\n",
      "Epoch 47/200\n",
      "13/13 [==============================] - 3s 198ms/step - loss: 0.2446 - acc: 0.8674 - precision: 0.8708 - recall: 0.8627 - f1: 0.3857 - val_loss: 0.2339 - val_acc: 0.8707 - val_precision: 0.8733 - val_recall: 0.8684 - val_f1: 0.3469\n",
      "Epoch 48/200\n",
      "13/13 [==============================] - 3s 202ms/step - loss: 0.2443 - acc: 0.8679 - precision: 0.8716 - recall: 0.8632 - f1: 0.3833 - val_loss: 0.2326 - val_acc: 0.8718 - val_precision: 0.8749 - val_recall: 0.8686 - val_f1: 0.3466\n",
      "Epoch 49/200\n",
      "13/13 [==============================] - 3s 203ms/step - loss: 0.2438 - acc: 0.8678 - precision: 0.8713 - recall: 0.8631 - f1: 0.3859 - val_loss: 0.2320 - val_acc: 0.8715 - val_precision: 0.8746 - val_recall: 0.8684 - val_f1: 0.3420\n",
      "Epoch 50/200\n",
      "13/13 [==============================] - 3s 202ms/step - loss: 0.2436 - acc: 0.8679 - precision: 0.8713 - recall: 0.8636 - f1: 0.3831 - val_loss: 0.2316 - val_acc: 0.8718 - val_precision: 0.8767 - val_recall: 0.8656 - val_f1: 0.3446\n",
      "Epoch 51/200\n",
      "13/13 [==============================] - 3s 202ms/step - loss: 0.2432 - acc: 0.8679 - precision: 0.8712 - recall: 0.8633 - f1: 0.3837 - val_loss: 0.2318 - val_acc: 0.8716 - val_precision: 0.8741 - val_recall: 0.8692 - val_f1: 0.3419\n",
      "Epoch 52/200\n",
      "13/13 [==============================] - 3s 201ms/step - loss: 0.2428 - acc: 0.8684 - precision: 0.8714 - recall: 0.8645 - f1: 0.3811 - val_loss: 0.2316 - val_acc: 0.8727 - val_precision: 0.8753 - val_recall: 0.8690 - val_f1: 0.3482\n",
      "Epoch 53/200\n",
      "13/13 [==============================] - 3s 201ms/step - loss: 0.2424 - acc: 0.8689 - precision: 0.8719 - recall: 0.8644 - f1: 0.3878 - val_loss: 0.2306 - val_acc: 0.8738 - val_precision: 0.8770 - val_recall: 0.8695 - val_f1: 0.3449\n",
      "Epoch 54/200\n",
      "13/13 [==============================] - 3s 200ms/step - loss: 0.2423 - acc: 0.8687 - precision: 0.8715 - recall: 0.8645 - f1: 0.3842 - val_loss: 0.2314 - val_acc: 0.8715 - val_precision: 0.8733 - val_recall: 0.8674 - val_f1: 0.3492\n",
      "Epoch 55/200\n",
      "13/13 [==============================] - 3s 201ms/step - loss: 0.2420 - acc: 0.8682 - precision: 0.8712 - recall: 0.8642 - f1: 0.3822 - val_loss: 0.2315 - val_acc: 0.8719 - val_precision: 0.8738 - val_recall: 0.8698 - val_f1: 0.3402\n",
      "Epoch 56/200\n",
      "13/13 [==============================] - 3s 205ms/step - loss: 0.2427 - acc: 0.8677 - precision: 0.8704 - recall: 0.8639 - f1: 0.3848 - val_loss: 0.2303 - val_acc: 0.8737 - val_precision: 0.8771 - val_recall: 0.8689 - val_f1: 0.3450\n",
      "Epoch 57/200\n",
      "13/13 [==============================] - 3s 202ms/step - loss: 0.2421 - acc: 0.8684 - precision: 0.8713 - recall: 0.8648 - f1: 0.3867 - val_loss: 0.2297 - val_acc: 0.8733 - val_precision: 0.8769 - val_recall: 0.8696 - val_f1: 0.3497\n",
      "Epoch 58/200\n",
      "13/13 [==============================] - 3s 202ms/step - loss: 0.2414 - acc: 0.8692 - precision: 0.8720 - recall: 0.8654 - f1: 0.3843 - val_loss: 0.2299 - val_acc: 0.8736 - val_precision: 0.8757 - val_recall: 0.8706 - val_f1: 0.3460\n",
      "Epoch 59/200\n",
      "13/13 [==============================] - 3s 198ms/step - loss: 0.2412 - acc: 0.8692 - precision: 0.8718 - recall: 0.8656 - f1: 0.3834 - val_loss: 0.2299 - val_acc: 0.8738 - val_precision: 0.8760 - val_recall: 0.8716 - val_f1: 0.3500\n",
      "Epoch 60/200\n",
      "13/13 [==============================] - 3s 200ms/step - loss: 0.2413 - acc: 0.8690 - precision: 0.8716 - recall: 0.8654 - f1: 0.3864 - val_loss: 0.2313 - val_acc: 0.8725 - val_precision: 0.8744 - val_recall: 0.8704 - val_f1: 0.3484\n",
      "Epoch 61/200\n",
      "13/13 [==============================] - 3s 199ms/step - loss: 0.2412 - acc: 0.8692 - precision: 0.8716 - recall: 0.8657 - f1: 0.3862 - val_loss: 0.2288 - val_acc: 0.8734 - val_precision: 0.8763 - val_recall: 0.8713 - val_f1: 0.3453\n",
      "Epoch 62/200\n",
      "13/13 [==============================] - 3s 203ms/step - loss: 0.2408 - acc: 0.8689 - precision: 0.8715 - recall: 0.8651 - f1: 0.3827 - val_loss: 0.2300 - val_acc: 0.8730 - val_precision: 0.8747 - val_recall: 0.8711 - val_f1: 0.3407\n",
      "Epoch 63/200\n",
      "13/13 [==============================] - 3s 201ms/step - loss: 0.2407 - acc: 0.8691 - precision: 0.8711 - recall: 0.8665 - f1: 0.3833 - val_loss: 0.2290 - val_acc: 0.8737 - val_precision: 0.8758 - val_recall: 0.8709 - val_f1: 0.3509\n",
      "Epoch 64/200\n",
      "13/13 [==============================] - 3s 202ms/step - loss: 0.2407 - acc: 0.8690 - precision: 0.8709 - recall: 0.8663 - f1: 0.3822 - val_loss: 0.2289 - val_acc: 0.8735 - val_precision: 0.8767 - val_recall: 0.8696 - val_f1: 0.3503\n",
      "Epoch 65/200\n",
      "13/13 [==============================] - 3s 199ms/step - loss: 0.2406 - acc: 0.8687 - precision: 0.8715 - recall: 0.8649 - f1: 0.3819 - val_loss: 0.2299 - val_acc: 0.8731 - val_precision: 0.8745 - val_recall: 0.8718 - val_f1: 0.3411\n",
      "Epoch 66/200\n",
      "13/13 [==============================] - 3s 201ms/step - loss: 0.2404 - acc: 0.8692 - precision: 0.8713 - recall: 0.8667 - f1: 0.3836 - val_loss: 0.2287 - val_acc: 0.8736 - val_precision: 0.8763 - val_recall: 0.8683 - val_f1: 0.3494\n",
      "Epoch 67/200\n"
     ]
    },
    {
     "name": "stdout",
     "output_type": "stream",
     "text": [
      "13/13 [==============================] - 3s 201ms/step - loss: 0.2404 - acc: 0.8689 - precision: 0.8714 - recall: 0.8657 - f1: 0.3850 - val_loss: 0.2295 - val_acc: 0.8737 - val_precision: 0.8753 - val_recall: 0.8727 - val_f1: 0.3470\n",
      "Epoch 68/200\n",
      "13/13 [==============================] - 3s 201ms/step - loss: 0.2396 - acc: 0.8697 - precision: 0.8719 - recall: 0.8668 - f1: 0.3851 - val_loss: 0.2278 - val_acc: 0.8744 - val_precision: 0.8769 - val_recall: 0.8720 - val_f1: 0.3482\n",
      "Epoch 69/200\n",
      "13/13 [==============================] - 3s 204ms/step - loss: 0.2395 - acc: 0.8696 - precision: 0.8717 - recall: 0.8670 - f1: 0.3852 - val_loss: 0.2285 - val_acc: 0.8732 - val_precision: 0.8754 - val_recall: 0.8709 - val_f1: 0.3518\n",
      "Epoch 70/200\n",
      "13/13 [==============================] - 3s 200ms/step - loss: 0.2397 - acc: 0.8693 - precision: 0.8717 - recall: 0.8666 - f1: 0.3842 - val_loss: 0.2280 - val_acc: 0.8737 - val_precision: 0.8752 - val_recall: 0.8713 - val_f1: 0.3513\n",
      "Epoch 71/200\n",
      "13/13 [==============================] - 3s 204ms/step - loss: 0.2395 - acc: 0.8698 - precision: 0.8719 - recall: 0.8666 - f1: 0.3846 - val_loss: 0.2288 - val_acc: 0.8730 - val_precision: 0.8744 - val_recall: 0.8716 - val_f1: 0.3471\n",
      "Epoch 72/200\n",
      "13/13 [==============================] - 3s 200ms/step - loss: 0.2393 - acc: 0.8699 - precision: 0.8717 - recall: 0.8674 - f1: 0.3911 - val_loss: 0.2281 - val_acc: 0.8723 - val_precision: 0.8750 - val_recall: 0.8691 - val_f1: 0.3510\n",
      "Epoch 73/200\n",
      "13/13 [==============================] - 3s 204ms/step - loss: 0.2391 - acc: 0.8696 - precision: 0.8716 - recall: 0.8671 - f1: 0.3895 - val_loss: 0.2276 - val_acc: 0.8740 - val_precision: 0.8754 - val_recall: 0.8720 - val_f1: 0.3453\n",
      "Epoch 74/200\n",
      "13/13 [==============================] - 3s 201ms/step - loss: 0.2391 - acc: 0.8695 - precision: 0.8714 - recall: 0.8670 - f1: 0.3891 - val_loss: 0.2272 - val_acc: 0.8758 - val_precision: 0.8775 - val_recall: 0.8724 - val_f1: 0.3479\n",
      "Epoch 75/200\n",
      "13/13 [==============================] - 3s 200ms/step - loss: 0.2391 - acc: 0.8698 - precision: 0.8717 - recall: 0.8672 - f1: 0.3828 - val_loss: 0.2276 - val_acc: 0.8746 - val_precision: 0.8754 - val_recall: 0.8726 - val_f1: 0.3454\n",
      "Epoch 76/200\n",
      "13/13 [==============================] - 3s 202ms/step - loss: 0.2389 - acc: 0.8698 - precision: 0.8716 - recall: 0.8671 - f1: 0.3887 - val_loss: 0.2279 - val_acc: 0.8741 - val_precision: 0.8764 - val_recall: 0.8701 - val_f1: 0.3503\n",
      "Epoch 77/200\n",
      "13/13 [==============================] - 3s 202ms/step - loss: 0.2387 - acc: 0.8699 - precision: 0.8717 - recall: 0.8675 - f1: 0.3830 - val_loss: 0.2269 - val_acc: 0.8754 - val_precision: 0.8769 - val_recall: 0.8727 - val_f1: 0.3492\n",
      "Epoch 78/200\n",
      "13/13 [==============================] - 3s 201ms/step - loss: 0.2382 - acc: 0.8704 - precision: 0.8721 - recall: 0.8682 - f1: 0.3879 - val_loss: 0.2271 - val_acc: 0.8752 - val_precision: 0.8766 - val_recall: 0.8733 - val_f1: 0.3504\n",
      "Epoch 79/200\n",
      "13/13 [==============================] - 3s 206ms/step - loss: 0.2383 - acc: 0.8701 - precision: 0.8721 - recall: 0.8677 - f1: 0.3896 - val_loss: 0.2267 - val_acc: 0.8749 - val_precision: 0.8774 - val_recall: 0.8723 - val_f1: 0.3526\n",
      "Epoch 80/200\n",
      "13/13 [==============================] - 3s 203ms/step - loss: 0.2382 - acc: 0.8703 - precision: 0.8718 - recall: 0.8680 - f1: 0.3871 - val_loss: 0.2267 - val_acc: 0.8743 - val_precision: 0.8757 - val_recall: 0.8733 - val_f1: 0.3461\n",
      "Epoch 81/200\n",
      "13/13 [==============================] - 3s 206ms/step - loss: 0.2382 - acc: 0.8702 - precision: 0.8715 - recall: 0.8679 - f1: 0.3854 - val_loss: 0.2269 - val_acc: 0.8752 - val_precision: 0.8775 - val_recall: 0.8721 - val_f1: 0.3527\n",
      "Epoch 82/200\n",
      "13/13 [==============================] - 3s 201ms/step - loss: 0.2382 - acc: 0.8697 - precision: 0.8714 - recall: 0.8674 - f1: 0.3895 - val_loss: 0.2270 - val_acc: 0.8757 - val_precision: 0.8763 - val_recall: 0.8736 - val_f1: 0.3493\n",
      "Epoch 83/200\n",
      "13/13 [==============================] - 3s 203ms/step - loss: 0.2380 - acc: 0.8703 - precision: 0.8718 - recall: 0.8682 - f1: 0.3862 - val_loss: 0.2269 - val_acc: 0.8752 - val_precision: 0.8764 - val_recall: 0.8739 - val_f1: 0.3514\n",
      "Epoch 84/200\n",
      "13/13 [==============================] - 3s 203ms/step - loss: 0.2382 - acc: 0.8706 - precision: 0.8721 - recall: 0.8682 - f1: 0.3878 - val_loss: 0.2265 - val_acc: 0.8751 - val_precision: 0.8768 - val_recall: 0.8731 - val_f1: 0.3517\n",
      "Epoch 85/200\n",
      "13/13 [==============================] - 3s 205ms/step - loss: 0.2385 - acc: 0.8705 - precision: 0.8721 - recall: 0.8678 - f1: 0.3890 - val_loss: 0.2276 - val_acc: 0.8745 - val_precision: 0.8752 - val_recall: 0.8734 - val_f1: 0.3465\n",
      "Epoch 86/200\n",
      "13/13 [==============================] - 3s 198ms/step - loss: 0.2380 - acc: 0.8703 - precision: 0.8716 - recall: 0.8684 - f1: 0.3887 - val_loss: 0.2263 - val_acc: 0.8760 - val_precision: 0.8784 - val_recall: 0.8724 - val_f1: 0.3532\n",
      "Epoch 87/200\n",
      "13/13 [==============================] - 3s 204ms/step - loss: 0.2381 - acc: 0.8703 - precision: 0.8720 - recall: 0.8676 - f1: 0.3874 - val_loss: 0.2268 - val_acc: 0.8748 - val_precision: 0.8754 - val_recall: 0.8737 - val_f1: 0.3491\n",
      "Epoch 88/200\n",
      "13/13 [==============================] - 3s 201ms/step - loss: 0.2378 - acc: 0.8709 - precision: 0.8721 - recall: 0.8691 - f1: 0.3872 - val_loss: 0.2266 - val_acc: 0.8745 - val_precision: 0.8761 - val_recall: 0.8736 - val_f1: 0.3482\n",
      "Epoch 89/200\n",
      "13/13 [==============================] - 3s 204ms/step - loss: 0.2375 - acc: 0.8706 - precision: 0.8720 - recall: 0.8686 - f1: 0.3887 - val_loss: 0.2263 - val_acc: 0.8748 - val_precision: 0.8770 - val_recall: 0.8722 - val_f1: 0.3551\n",
      "Epoch 90/200\n",
      "13/13 [==============================] - 3s 203ms/step - loss: 0.2377 - acc: 0.8706 - precision: 0.8721 - recall: 0.8683 - f1: 0.3898 - val_loss: 0.2262 - val_acc: 0.8750 - val_precision: 0.8766 - val_recall: 0.8739 - val_f1: 0.3517\n",
      "Epoch 91/200\n",
      "13/13 [==============================] - 3s 204ms/step - loss: 0.2373 - acc: 0.8707 - precision: 0.8718 - recall: 0.8690 - f1: 0.3886 - val_loss: 0.2265 - val_acc: 0.8745 - val_precision: 0.8753 - val_recall: 0.8742 - val_f1: 0.3471\n",
      "Epoch 92/200\n",
      "13/13 [==============================] - 3s 200ms/step - loss: 0.2380 - acc: 0.8704 - precision: 0.8718 - recall: 0.8683 - f1: 0.3893 - val_loss: 0.2261 - val_acc: 0.8745 - val_precision: 0.8760 - val_recall: 0.8737 - val_f1: 0.3491\n",
      "Epoch 93/200\n",
      "13/13 [==============================] - 3s 197ms/step - loss: 0.2378 - acc: 0.8702 - precision: 0.8717 - recall: 0.8682 - f1: 0.3894 - val_loss: 0.2258 - val_acc: 0.8750 - val_precision: 0.8767 - val_recall: 0.8740 - val_f1: 0.3494\n",
      "Epoch 94/200\n",
      "13/13 [==============================] - 3s 204ms/step - loss: 0.2377 - acc: 0.8705 - precision: 0.8717 - recall: 0.8688 - f1: 0.3886 - val_loss: 0.2267 - val_acc: 0.8754 - val_precision: 0.8765 - val_recall: 0.8743 - val_f1: 0.3548\n",
      "Epoch 95/200\n",
      "13/13 [==============================] - 3s 199ms/step - loss: 0.2374 - acc: 0.8708 - precision: 0.8720 - recall: 0.8693 - f1: 0.3899 - val_loss: 0.2262 - val_acc: 0.8746 - val_precision: 0.8763 - val_recall: 0.8726 - val_f1: 0.3538\n",
      "Epoch 96/200\n",
      "13/13 [==============================] - 3s 201ms/step - loss: 0.2373 - acc: 0.8704 - precision: 0.8717 - recall: 0.8684 - f1: 0.3887 - val_loss: 0.2258 - val_acc: 0.8754 - val_precision: 0.8765 - val_recall: 0.8740 - val_f1: 0.3500\n",
      "Epoch 97/200\n",
      "13/13 [==============================] - 3s 199ms/step - loss: 0.2371 - acc: 0.8702 - precision: 0.8718 - recall: 0.8683 - f1: 0.3864 - val_loss: 0.2258 - val_acc: 0.8754 - val_precision: 0.8769 - val_recall: 0.8744 - val_f1: 0.3529\n",
      "Epoch 98/200\n",
      "13/13 [==============================] - 3s 204ms/step - loss: 0.2370 - acc: 0.8709 - precision: 0.8721 - recall: 0.8693 - f1: 0.3910 - val_loss: 0.2256 - val_acc: 0.8752 - val_precision: 0.8768 - val_recall: 0.8735 - val_f1: 0.3498\n",
      "Epoch 99/200\n",
      "13/13 [==============================] - 3s 203ms/step - loss: 0.2372 - acc: 0.8703 - precision: 0.8717 - recall: 0.8685 - f1: 0.3892 - val_loss: 0.2256 - val_acc: 0.8762 - val_precision: 0.8773 - val_recall: 0.8728 - val_f1: 0.3463\n",
      "Epoch 100/200\n"
     ]
    },
    {
     "name": "stdout",
     "output_type": "stream",
     "text": [
      "13/13 [==============================] - 3s 202ms/step - loss: 0.2371 - acc: 0.8706 - precision: 0.8720 - recall: 0.8690 - f1: 0.3902 - val_loss: 0.2259 - val_acc: 0.8755 - val_precision: 0.8766 - val_recall: 0.8744 - val_f1: 0.3503\n",
      "Epoch 101/200\n",
      "13/13 [==============================] - 3s 203ms/step - loss: 0.2368 - acc: 0.8704 - precision: 0.8718 - recall: 0.8687 - f1: 0.3891 - val_loss: 0.2259 - val_acc: 0.8758 - val_precision: 0.8764 - val_recall: 0.8750 - val_f1: 0.3527\n",
      "Epoch 102/200\n",
      "13/13 [==============================] - 3s 201ms/step - loss: 0.2371 - acc: 0.8708 - precision: 0.8720 - recall: 0.8691 - f1: 0.3878 - val_loss: 0.2259 - val_acc: 0.8749 - val_precision: 0.8770 - val_recall: 0.8716 - val_f1: 0.3529\n",
      "Epoch 103/200\n",
      "13/13 [==============================] - 3s 207ms/step - loss: 0.2370 - acc: 0.8705 - precision: 0.8720 - recall: 0.8684 - f1: 0.3871 - val_loss: 0.2265 - val_acc: 0.8746 - val_precision: 0.8751 - val_recall: 0.8741 - val_f1: 0.3471\n",
      "Epoch 104/200\n",
      "13/13 [==============================] - 3s 208ms/step - loss: 0.2370 - acc: 0.8708 - precision: 0.8720 - recall: 0.8694 - f1: 0.3877 - val_loss: 0.2258 - val_acc: 0.8749 - val_precision: 0.8765 - val_recall: 0.8723 - val_f1: 0.3533\n"
     ]
    }
   ],
   "source": [
    "loss = tf.keras.losses.CategoricalCrossentropy()\n",
    "optimizer = tf.keras.optimizers.Adam(learning_rate=3e-4)\n",
    "#optimizer = tf.keras.optimizers.SGD(learning_rate=0.01, momentum=0, nesterov=False)\n",
    "\n",
    "early_stop = tf.keras.callbacks.EarlyStopping(monitor=\"val_f1\", mode='max', patience = 15, restore_best_weights=True)\n",
    "\n",
    "model.compile(loss=loss, optimizer=optimizer, metrics=['acc', precision, recall, f1])\n",
    "\n",
    "# generate training dataset\n",
    "print(X1.shape,X2.shape,Y.shape)\n",
    "# train model\n",
    "#history = model.fit([X1, X2], Y, batch_size=32, epochs=200)\n",
    "history = model.fit([X1, X2], Y, batch_size=32, epochs=200, validation_data=([X1_valid, X2_valid],Y_valid),callbacks=[early_stop])"
   ]
  },
  {
   "cell_type": "code",
   "execution_count": 68,
   "metadata": {
    "colab": {
     "base_uri": "https://localhost:8080/"
    },
    "id": "1mW3VQGTNIDe",
    "outputId": "4bd21abd-1f57-48ce-fc3c-0cb6ee2545cb"
   },
   "outputs": [
    {
     "name": "stdout",
     "output_type": "stream",
     "text": [
      "Model: \"model\"\n",
      "__________________________________________________________________________________________________\n",
      "Layer (type)                    Output Shape         Param #     Connected to                     \n",
      "==================================================================================================\n",
      "input_1 (InputLayer)            [(None, None, 501)]  0                                            \n",
      "__________________________________________________________________________________________________\n",
      "input_2 (InputLayer)            [(None, None, 4)]    0                                            \n",
      "__________________________________________________________________________________________________\n",
      "lstm (LSTM)                     [(None, None, 128),  322560      input_1[0][0]                    \n",
      "__________________________________________________________________________________________________\n",
      "lstm_2 (LSTM)                   [(None, None, 128),  68096       input_2[0][0]                    \n",
      "                                                                 lstm[0][1]                       \n",
      "                                                                 lstm[0][2]                       \n",
      "__________________________________________________________________________________________________\n",
      "lstm_1 (LSTM)                   [(None, 128), (None, 131584      lstm[0][0]                       \n",
      "__________________________________________________________________________________________________\n",
      "lstm_3 (LSTM)                   [(None, None, 128),  131584      lstm_2[0][0]                     \n",
      "                                                                 lstm_1[0][1]                     \n",
      "                                                                 lstm_1[0][2]                     \n",
      "__________________________________________________________________________________________________\n",
      "dense (Dense)                   (None, None, 4)      516         lstm_3[0][0]                     \n",
      "==================================================================================================\n",
      "Total params: 654,340\n",
      "Trainable params: 654,340\n",
      "Non-trainable params: 0\n",
      "__________________________________________________________________________________________________\n"
     ]
    }
   ],
   "source": [
    "model.summary()"
   ]
  },
  {
   "cell_type": "code",
   "execution_count": 69,
   "metadata": {
    "colab": {
     "base_uri": "https://localhost:8080/",
     "height": 466
    },
    "id": "wnp8RzOvNIIR",
    "outputId": "d5aaa890-da06-46b0-f7dc-a1713ada5ee5"
   },
   "outputs": [
    {
     "data": {
      "image/png": "[encoded data removed]",
      "text/plain": [
       "<IPython.core.display.Image object>"
      ]
     },
     "execution_count": 69,
     "metadata": {},
     "output_type": "execute_result"
    }
   ],
   "source": [
    "from tensorflow.keras.utils import plot_model\n",
    "tf.keras.utils.plot_model(model,to_file='model.png')\n",
    "#tf.keras.utils.plot_model(model,to_file='/content/model.png')"
   ]
  },
  {
   "cell_type": "code",
   "execution_count": 70,
   "metadata": {
    "colab": {
     "base_uri": "https://localhost:8080/",
     "height": 588
    },
    "id": "AW6Yno6P3M8K",
    "outputId": "9648c99f-bb2a-4df5-bfc9-31ad992b1ac8"
   },
   "outputs": [
    {
     "name": "stdout",
     "output_type": "stream",
     "text": [
      "dict_keys(['loss', 'acc', 'precision', 'recall', 'f1', 'val_loss', 'val_acc', 'val_precision', 'val_recall', 'val_f1'])\n"
     ]
    },
    {
     "data": {
      "image/png": "[encoded data removed]",
      "text/plain": [
       "<Figure size 432x288 with 1 Axes>"
      ]
     },
     "metadata": {
      "needs_background": "light"
     },
     "output_type": "display_data"
    },
    {
     "data": {
      "image/png": "[encoded data removed]",
      "text/plain": [
       "<Figure size 432x288 with 1 Axes>"
      ]
     },
     "metadata": {
      "needs_background": "light"
     },
     "output_type": "display_data"
    }
   ],
   "source": [
    "import matplotlib.pyplot as plt \n",
    "print(history.history.keys())\n",
    "# summarize history for F1Score\n",
    "plt.plot(history.history['f1'])\n",
    "plt.plot(history.history['val_f1'])\n",
    "plt.title('model F1Score')\n",
    "plt.ylabel('F1Score')\n",
    "plt.xlabel('epoch')\n",
    "plt.legend(['train', 'test'], loc='upper left')\n",
    "plt.show()\n",
    "# summarize history for loss\n",
    "plt.plot(history.history['loss'])\n",
    "plt.plot(history.history['val_loss'])\n",
    "plt.title('model loss')\n",
    "plt.ylabel('loss')\n",
    "plt.xlabel('epoch')\n",
    "plt.legend(['train', 'test'], loc='upper left')\n",
    "plt.show()"
   ]
  },
  {
   "cell_type": "code",
   "execution_count": 71,
   "metadata": {
    "id": "xPq0B6IlAQOF"
   },
   "outputs": [],
   "source": [
    "def predict_sequence(encoder_model, decoder_model, input, n_steps_out, n_features): \n",
    "\n",
    "\tstate = encoder_model.predict(input)\n",
    "\t# start of sequence input\n",
    "\ttarget_seq = array([0.0 for _ in range(n_features)]).reshape(1, 1, n_features)\n",
    "\n",
    "\t# collect predictions\n",
    "\toutput = list()\n",
    "\tfor t in range(n_steps_out):\n",
    "\t\t# predict next char\n",
    "\t\toutput_tokens, h, c, h1, c1 = decoder_model.predict([target_seq] + state)\n",
    "\t\t# store prediction\n",
    "\t\toutput.append(output_tokens[0,0,:])\n",
    "\t\t# update state\n",
    "\t\tstate = [h, c, h1, c1]\n",
    "\t\t# update target sequence\n",
    "\t\ttarget_seq = output_tokens\n",
    "\treturn array(output)\n",
    "\n",
    "def one_hot_decode(encoded_seq):\n",
    " \treturn [argmax(vector) for vector in encoded_seq]"
   ]
  },
  {
   "cell_type": "code",
   "execution_count": null,
   "metadata": {
    "id": "lS3-_935ADyJ"
   },
   "outputs": [],
   "source": []
  },
  {
   "cell_type": "markdown",
   "metadata": {
    "id": "vh4FmUC74KAy"
   },
   "source": [
    "#Evaluate with test data"
   ]
  },
  {
   "cell_type": "code",
   "execution_count": 77,
   "metadata": {
    "id": "sgI_QM2uam6x"
   },
   "outputs": [],
   "source": [
    "prediction= []\n",
    "n_features=4\n",
    "n_steps_out = 267\n",
    "for i in range(X1_test.shape[0]):\n",
    "  test = X1_test[i]\n",
    "  test = test[newaxis,:, :]\n",
    "  pred = predict_sequence(encoder_model, decoder_model, test, n_steps_out, n_features)\n",
    "  pred = one_hot_decode(pred)\n",
    "  prediction.extend(pred)"
   ]
  },
  {
   "cell_type": "code",
   "execution_count": 78,
   "metadata": {
    "id": "4o0lQt2poogR"
   },
   "outputs": [],
   "source": [
    "compiled_data = get_compiled_data(\"C:/Users/ASUS/Desktop/system_code/dataset-460-40/y_test\")\n",
    "#compiled_data = get_compiled_data(\"/gdrive/MyDrive/dataset-460-40/y_test/\")"
   ]
  },
  {
   "cell_type": "code",
   "execution_count": 79,
   "metadata": {
    "id": "rivERZEYooiy"
   },
   "outputs": [],
   "source": [
    "truth = []\n",
    "for i in range(len(compiled_data)):\n",
    "  data = compiled_data[i]                                   \n",
    "  while len(data) < 267:                          \n",
    "    data.append(2)\n",
    "  truth.extend(data)"
   ]
  },
  {
   "cell_type": "code",
   "execution_count": 80,
   "metadata": {
    "id": "fqfIq0jLoooL"
   },
   "outputs": [],
   "source": [
    "from sklearn.metrics import confusion_matrix\n",
    "from sklearn.metrics import classification_report"
   ]
  },
  {
   "cell_type": "code",
   "execution_count": 81,
   "metadata": {
    "colab": {
     "base_uri": "https://localhost:8080/"
    },
    "id": "-f9E0s43ttEc",
    "outputId": "0301052f-9aa7-417e-d933-d06284b65d9a"
   },
   "outputs": [
    {
     "name": "stdout",
     "output_type": "stream",
     "text": [
      "Confusion matrix : \n",
      " [[  15 1415  221]\n",
      " [  24 1866  263]\n",
      " [   0  920 5956]]\n",
      "              precision    recall  f1-score   support\n",
      "\n",
      "           0       0.38      0.01      0.02      1651\n",
      "           1       0.44      0.87      0.59      2153\n",
      "           2       0.92      0.87      0.89      6876\n",
      "\n",
      "    accuracy                           0.73     10680\n",
      "   macro avg       0.58      0.58      0.50     10680\n",
      "weighted avg       0.74      0.73      0.70     10680\n",
      "\n"
     ]
    }
   ],
   "source": [
    "matrix = confusion_matrix(truth, prediction, labels=[0,1,2])\n",
    "print('Confusion matrix : \\n',matrix)\n",
    "print(classification_report(truth, prediction, labels=[0,1,2]))"
   ]
  },
  {
   "cell_type": "code",
   "execution_count": null,
   "metadata": {
    "id": "mvUlu8F1Nd8N"
   },
   "outputs": [],
   "source": []
  },
  {
   "cell_type": "markdown",
   "metadata": {
    "id": "eFTjE5usNlK5"
   },
   "source": [
    "###Examine single test sample"
   ]
  },
  {
   "cell_type": "code",
   "execution_count": 82,
   "metadata": {
    "colab": {
     "base_uri": "https://localhost:8080/"
    },
    "id": "cd862c84",
    "outputId": "8c855a6b-5cfa-4e5a-f481-3cfb662479e3"
   },
   "outputs": [
    {
     "data": {
      "text/plain": [
       "(1, 534, 501)"
      ]
     },
     "execution_count": 82,
     "metadata": {},
     "output_type": "execute_result"
    }
   ],
   "source": [
    "test = X1_test[0]\n",
    "test.shape\n",
    "test = test[newaxis,:, :]\n",
    "test.shape"
   ]
  },
  {
   "cell_type": "code",
   "execution_count": 83,
   "metadata": {
    "id": "c55cadad"
   },
   "outputs": [],
   "source": [
    "n_features=4\n",
    "n_steps_out = 267\n",
    "prediction = predict_sequence(encoder_model, decoder_model, test, n_steps_out, n_features)\n",
    "prediction = one_hot_decode(prediction)\n",
    "prediction = np.array(prediction)"
   ]
  },
  {
   "cell_type": "code",
   "execution_count": 84,
   "metadata": {
    "id": "ed8b2320"
   },
   "outputs": [],
   "source": [
    "truth = Y_test[0]\n",
    "truth = one_hot_decode(truth)\n",
    "truth = np.array(truth)"
   ]
  },
  {
   "cell_type": "code",
   "execution_count": 85,
   "metadata": {
    "colab": {
     "base_uri": "https://localhost:8080/"
    },
    "id": "b6521fe5",
    "outputId": "e787c5c4-3872-4b74-fc74-3e4c2a3c9c98"
   },
   "outputs": [
    {
     "name": "stdout",
     "output_type": "stream",
     "text": [
      "Confusion matrix : \n",
      " [[ 1 57 35]\n",
      " [ 0 48 29]\n",
      " [ 0  0 97]]\n",
      "              precision    recall  f1-score   support\n",
      "\n",
      "           0       1.00      0.01      0.02        93\n",
      "           1       0.46      0.62      0.53        77\n",
      "           2       0.60      1.00      0.75        97\n",
      "\n",
      "    accuracy                           0.55       267\n",
      "   macro avg       0.69      0.54      0.43       267\n",
      "weighted avg       0.70      0.55      0.43       267\n",
      "\n"
     ]
    }
   ],
   "source": [
    "matrix = confusion_matrix(truth, prediction, labels=[0,1,2])\n",
    "print('Confusion matrix : \\n',matrix)\n",
    "print(classification_report(truth, prediction, labels=[0,1,2]))"
   ]
  },
  {
   "cell_type": "code",
   "execution_count": 86,
   "metadata": {
    "colab": {
     "base_uri": "https://localhost:8080/"
    },
    "id": "63aa89b7",
    "outputId": "d38118f2-e08f-4e10-940b-9cec1c2604ed"
   },
   "outputs": [
    {
     "data": {
      "text/plain": [
       "array([1, 1, 1, 0, 1, 1, 1, 1, 1, 1, 1, 1, 1, 1, 1, 1, 1, 1, 1, 1, 1, 1,\n",
       "       1, 1, 1, 1, 1, 1, 1, 1, 1, 1, 1, 1, 1, 1, 1, 1, 1, 1, 1, 1, 1, 1,\n",
       "       1, 1, 1, 1, 1, 1, 1, 1, 1, 1, 1, 1, 1, 1, 1, 1, 1, 1, 1, 1, 1, 1,\n",
       "       1, 1, 1, 1, 1, 1, 1, 1, 1, 1, 1, 1, 1, 1, 1, 1, 1, 1, 1, 1, 1, 1,\n",
       "       1, 1, 1, 1, 1, 1, 1, 1, 1, 1, 1, 1, 1, 1, 1, 1, 1, 1, 2, 2, 2, 2,\n",
       "       2, 2, 2, 2, 2, 2, 2, 2, 2, 2, 2, 2, 2, 2, 2, 2, 2, 2, 2, 2, 2, 2,\n",
       "       2, 2, 2, 2, 2, 2, 2, 2, 2, 2, 2, 2, 2, 2, 2, 2, 2, 2, 2, 2, 2, 2,\n",
       "       2, 2, 2, 2, 2, 2, 2, 2, 2, 2, 2, 2, 2, 2, 2, 2, 2, 2, 2, 2, 2, 2,\n",
       "       2, 2, 2, 2, 2, 2, 2, 2, 2, 2, 2, 2, 2, 2, 2, 2, 2, 2, 2, 2, 2, 2,\n",
       "       2, 2, 2, 2, 2, 2, 2, 2, 2, 2, 2, 2, 2, 2, 2, 2, 2, 2, 2, 2, 2, 2,\n",
       "       2, 2, 2, 2, 2, 2, 2, 2, 2, 2, 2, 2, 2, 2, 2, 2, 2, 2, 2, 2, 2, 2,\n",
       "       2, 2, 2, 2, 2, 2, 2, 2, 2, 2, 2, 2, 2, 2, 2, 2, 2, 2, 2, 2, 2, 2,\n",
       "       2, 2, 2], dtype=int64)"
      ]
     },
     "execution_count": 86,
     "metadata": {},
     "output_type": "execute_result"
    }
   ],
   "source": [
    "prediction"
   ]
  },
  {
   "cell_type": "code",
   "execution_count": 87,
   "metadata": {
    "colab": {
     "base_uri": "https://localhost:8080/"
    },
    "id": "df5b1f81",
    "outputId": "35b3a9a7-076c-45f0-dad2-7d044b020b48"
   },
   "outputs": [
    {
     "data": {
      "text/plain": [
       "array([1, 1, 0, 0, 1, 0, 1, 1, 1, 0, 1, 1, 1, 1, 1, 1, 0, 1, 0, 0, 0, 0,\n",
       "       1, 0, 0, 1, 0, 1, 0, 0, 1, 1, 0, 0, 0, 1, 0, 1, 1, 1, 0, 0, 1, 0,\n",
       "       1, 1, 1, 1, 1, 1, 0, 1, 0, 1, 0, 1, 0, 1, 0, 1, 1, 0, 0, 0, 1, 0,\n",
       "       0, 1, 1, 1, 0, 0, 1, 0, 0, 0, 1, 0, 1, 0, 0, 0, 0, 0, 0, 0, 0, 0,\n",
       "       0, 0, 1, 1, 1, 0, 1, 0, 1, 0, 0, 0, 0, 0, 0, 0, 0, 1, 1, 0, 0, 1,\n",
       "       0, 0, 1, 0, 0, 1, 1, 1, 0, 0, 0, 0, 1, 1, 0, 0, 0, 0, 1, 0, 0, 0,\n",
       "       1, 0, 1, 0, 0, 1, 1, 0, 0, 0, 1, 1, 0, 0, 1, 1, 0, 1, 1, 0, 1, 0,\n",
       "       0, 0, 1, 0, 1, 0, 1, 0, 1, 0, 1, 0, 1, 1, 1, 1, 2, 2, 2, 2, 2, 2,\n",
       "       2, 2, 2, 2, 2, 2, 2, 2, 2, 2, 2, 2, 2, 2, 2, 2, 2, 2, 2, 2, 2, 2,\n",
       "       2, 2, 2, 2, 2, 2, 2, 2, 2, 2, 2, 2, 2, 2, 2, 2, 2, 2, 2, 2, 2, 2,\n",
       "       2, 2, 2, 2, 2, 2, 2, 2, 2, 2, 2, 2, 2, 2, 2, 2, 2, 2, 2, 2, 2, 2,\n",
       "       2, 2, 2, 2, 2, 2, 2, 2, 2, 2, 2, 2, 2, 2, 2, 2, 2, 2, 2, 2, 2, 2,\n",
       "       2, 2, 2], dtype=int64)"
      ]
     },
     "execution_count": 87,
     "metadata": {},
     "output_type": "execute_result"
    }
   ],
   "source": [
    "truth"
   ]
  },
  {
   "cell_type": "markdown",
   "metadata": {
    "id": "a6c1fc84"
   },
   "source": [
    "### Examine training data (optional)"
   ]
  },
  {
   "cell_type": "code",
   "execution_count": null,
   "metadata": {
    "colab": {
     "base_uri": "https://localhost:8080/"
    },
    "id": "d67bf491",
    "outputId": "365b46c5-e77d-47be-a1bb-b51e38812e7c"
   },
   "outputs": [],
   "source": [
    "test = X1[0]\n",
    "test.shape\n",
    "test = test[newaxis,:, :]\n",
    "test.shape"
   ]
  },
  {
   "cell_type": "code",
   "execution_count": null,
   "metadata": {
    "id": "cd09ac34"
   },
   "outputs": [],
   "source": [
    "n_features=4\n",
    "n_steps_out = 267\n",
    "prediction = predict_sequence(encoder_model, decoder_model, test, n_steps_out, n_features)\n",
    "prediction = one_hot_decode(prediction)\n",
    "prediction = np.array(prediction)"
   ]
  },
  {
   "cell_type": "code",
   "execution_count": null,
   "metadata": {
    "id": "7a8733de"
   },
   "outputs": [],
   "source": [
    "truth = Y[0]\n",
    "truth = one_hot_decode(truth)\n",
    "truth = np.array(truth)"
   ]
  },
  {
   "cell_type": "code",
   "execution_count": null,
   "metadata": {
    "colab": {
     "base_uri": "https://localhost:8080/"
    },
    "id": "b65a4f2f",
    "outputId": "bb2031fa-ad4a-49dd-e535-ce559fcaf0d9"
   },
   "outputs": [],
   "source": [
    "prediction"
   ]
  },
  {
   "cell_type": "code",
   "execution_count": null,
   "metadata": {
    "colab": {
     "base_uri": "https://localhost:8080/"
    },
    "id": "NkH9ERvkmMVF",
    "outputId": "a46914da-c4eb-44b8-c01c-81f83010dc3c"
   },
   "outputs": [],
   "source": [
    "truth"
   ]
  }
 ],
 "metadata": {
  "accelerator": "GPU",
  "colab": {
   "collapsed_sections": [],
   "name": "Seq2Seq_stacked_LSTM_latest.ipynb",
   "provenance": []
  },
  "kernelspec": {
   "display_name": "Python 3",
   "language": "python",
   "name": "python3"
  },
  "language_info": {
   "codemirror_mode": {
    "name": "ipython",
    "version": 3
   },
   "file_extension": ".py",
   "mimetype": "text/x-python",
   "name": "python",
   "nbconvert_exporter": "python",
   "pygments_lexer": "ipython3",
   "version": "3.6.13"
  }
 },
 "nbformat": 4,
 "nbformat_minor": 1
}
