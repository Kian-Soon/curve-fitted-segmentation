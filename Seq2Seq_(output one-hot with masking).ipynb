{
 "cells": [
  {
   "cell_type": "code",
   "execution_count": 1,
   "metadata": {
    "id": "sw2ODPE3L3Lv"
   },
   "outputs": [],
   "source": [
    "import os\n",
    "os.environ[\"TF_CPP_MIN_LOG_LEVEL\"] = \"3\""
   ]
  },
  {
   "cell_type": "code",
   "execution_count": 2,
   "metadata": {},
   "outputs": [],
   "source": [
    "import tensorflow as tf "
   ]
  },
  {
   "cell_type": "code",
   "execution_count": 3,
   "metadata": {},
   "outputs": [],
   "source": [
    "gpus = tf.config.experimental.list_physical_devices('GPU')\n",
    "tf.config.experimental.set_memory_growth(gpus[0], True)"
   ]
  },
  {
   "cell_type": "code",
   "execution_count": 4,
   "metadata": {},
   "outputs": [
    {
     "name": "stdout",
     "output_type": "stream",
     "text": [
      "C:\\Users\\ASUS\\Desktop\\dataset-460-40\n"
     ]
    }
   ],
   "source": [
    "cd C:\\Users\\ASUS\\Desktop\\dataset-460-40"
   ]
  },
  {
   "cell_type": "code",
   "execution_count": 5,
   "metadata": {},
   "outputs": [],
   "source": [
    "import os\n",
    "import json\n",
    "from glob import glob\n",
    "import numpy as np\n",
    "from numpy import array\n",
    "from numpy import argmax\n",
    "from numpy import newaxis\n",
    "import tensorflow as tf\n",
    "from tensorflow.keras.utils import to_categorical\n",
    "from tensorflow.keras.models import Model\n",
    "from tensorflow.keras.layers import Input, LSTM, Bidirectional, Concatenate, Masking, Multiply, Activation, Dense, Flatten"
   ]
  },
  {
   "cell_type": "code",
   "execution_count": 6,
   "metadata": {},
   "outputs": [],
   "source": [
    "# from google.colab import drive\n",
    "# drive.mount('/gdrive')"
   ]
  },
  {
   "cell_type": "code",
   "execution_count": 7,
   "metadata": {},
   "outputs": [],
   "source": [
    "tf.random.set_seed(123)"
   ]
  },
  {
   "cell_type": "markdown",
   "metadata": {
    "id": "A4WLqUinL3Lw"
   },
   "source": [
    "### Data Preprocessing"
   ]
  },
  {
   "cell_type": "code",
   "execution_count": 8,
   "metadata": {
    "id": "mY8seJJbL3Lx"
   },
   "outputs": [],
   "source": [
    "def get_compiled_data(path):\n",
    "    f_path = path\n",
    "    f_list = sorted(glob(os.path.join(f_path, \"*.json\")))\n",
    "\n",
    "    f_compile =[]\n",
    "\n",
    "    for j in f_list: \n",
    "        file = open(j, \"r\")\n",
    "        content = file.read()\n",
    "        data = json.loads(content)\n",
    "        f_compile.append(data)\n",
    "    return f_compile"
   ]
  },
  {
   "cell_type": "code",
   "execution_count": 9,
   "metadata": {},
   "outputs": [],
   "source": [
    "X = get_compiled_data(\"C:/Users/ASUS/Desktop/system_code/dataset-460-40/x\")\n",
    "y = get_compiled_data(\"C:/Users/ASUS/Desktop/system_code/dataset-460-40/y\")\n",
    "#X = get_compiled_data(\"/gdrive/MyDrive/dataset-460-40/x/\")\n",
    "#y = get_compiled_data(\"/gdrive/MyDrive/dataset-460-40/y/\")"
   ]
  },
  {
   "cell_type": "code",
   "execution_count": 10,
   "metadata": {
    "colab": {
     "base_uri": "https://localhost:8080/"
    },
    "id": "CyOa9pY9L3Lz",
    "outputId": "8453286e-fd6e-4200-fe2b-7b230d549b02"
   },
   "outputs": [
    {
     "name": "stdout",
     "output_type": "stream",
     "text": [
      "0\n",
      "499\n"
     ]
    }
   ],
   "source": [
    "#Find min and max values of coordinates\n",
    "coord_values = []\n",
    "for i in range(len(X)):\n",
    "  data = X[i] \n",
    "  for j in range(len(data)):\n",
    "    data1 = data[j]\n",
    "    for k in range(len(data1)):\n",
    "      coord_values.append(data1[k])\n",
    "print(min(coord_values))\n",
    "print(max(coord_values))"
   ]
  },
  {
   "cell_type": "code",
   "execution_count": 11,
   "metadata": {
    "id": "m4yruC9vL3L1"
   },
   "outputs": [],
   "source": [
    "from sklearn.model_selection import train_test_split\n",
    "X_train, X_valid, y_train, y_valid = train_test_split(X, y, test_size=0.2, random_state=1)"
   ]
  },
  {
   "cell_type": "code",
   "execution_count": 12,
   "metadata": {
    "colab": {
     "base_uri": "https://localhost:8080/"
    },
    "id": "2-THV1SWL3L1",
    "outputId": "75cd0a3b-83f1-45c7-a6a9-1f922e1e8a13"
   },
   "outputs": [
    {
     "name": "stdout",
     "output_type": "stream",
     "text": [
      "368 368\n"
     ]
    }
   ],
   "source": [
    "print(len(X_train), len(y_train)) "
   ]
  },
  {
   "cell_type": "markdown",
   "metadata": {
    "id": "RLwSRZ8ZL3L1"
   },
   "source": [
    "### Data Augmentation for X_train and y_train"
   ]
  },
  {
   "cell_type": "code",
   "execution_count": 13,
   "metadata": {
    "id": "9cuSOrFAL3L2"
   },
   "outputs": [],
   "source": [
    "# ##Data Augmentation (reverse seq)\n",
    "# for i in range(len(X_train)):\n",
    "#   compiled_x_reverse = X_train[i][::-1]\n",
    "#   X_train.append(compiled_x_reverse)\n",
    "\n",
    "# for i in range(len(y_train)):\n",
    "#   compiled_y_reverse = y_train[i][::-1]\n",
    "#   y_train.append(compiled_y_reverse)"
   ]
  },
  {
   "cell_type": "code",
   "execution_count": 14,
   "metadata": {
    "id": "2IpJIDhHL3L3"
   },
   "outputs": [],
   "source": [
    "# print(len(X_train))\n",
    "# len(y_train)"
   ]
  },
  {
   "cell_type": "code",
   "execution_count": 15,
   "metadata": {
    "id": "5z0eoVW8L3L4"
   },
   "outputs": [],
   "source": [
    "# #Data Augmentation (translation by 5 units up and right)\n",
    "# X_train_trans_aug_1 = [[[v+1 for v in inner1] for inner1 in inner] for inner in X_train]\n",
    "# X_train_trans_aug_2 = [[[v+3 for v in inner1] for inner1 in inner] for inner in X_train]\n",
    "# X_train_trans_aug_3 = [[[v+5 for v in inner1] for inner1 in inner] for inner in X_train]\n",
    "# X_train_trans_aug_4 = [[[v+7 for v in inner1] for inner1 in inner] for inner in X_train]"
   ]
  },
  {
   "cell_type": "code",
   "execution_count": 16,
   "metadata": {
    "colab": {
     "base_uri": "https://localhost:8080/"
    },
    "id": "GLb0cyCXL3L4",
    "outputId": "679a1124-c087-4661-c0eb-dc76d91a47f0"
   },
   "outputs": [],
   "source": [
    "# import copy\n",
    "# y_train_trans_aug = copy.deepcopy(y_train)"
   ]
  },
  {
   "cell_type": "code",
   "execution_count": 17,
   "metadata": {},
   "outputs": [],
   "source": [
    "# X_train.extend(X_train_trans_aug_1)\n",
    "# y_train.extend(y_train_trans_aug)\n",
    "\n",
    "# X_train.extend(X_train_trans_aug_2)\n",
    "# y_train.extend(y_train_trans_aug)\n",
    "\n",
    "# X_train.extend(X_train_trans_aug_3)\n",
    "# y_train.extend(y_train_trans_aug)\n",
    "\n",
    "# X_train.extend(X_train_trans_aug_4)\n",
    "# y_train.extend(y_train_trans_aug)"
   ]
  },
  {
   "cell_type": "code",
   "execution_count": 18,
   "metadata": {},
   "outputs": [],
   "source": [
    "# print(len(X_train), len(y_train)) "
   ]
  },
  {
   "cell_type": "markdown",
   "metadata": {
    "id": "m8rcsQhDL3L5"
   },
   "source": [
    "Remove sequences with values above 499"
   ]
  },
  {
   "cell_type": "code",
   "execution_count": 19,
   "metadata": {
    "id": "2_VWfqcHL3L5"
   },
   "outputs": [],
   "source": [
    "compiled_x = []\n",
    "compiled_y = []\n",
    "\n",
    "for i, seq in enumerate(X_train):\n",
    "  value_check=[]\n",
    "  for _, coord in enumerate(seq):\n",
    "    coord_01 = coord[0]\n",
    "    coord_02 = coord[1]\n",
    "    value_check.append(coord_01)\n",
    "    value_check.append(coord_02)\n",
    "  if max(value_check) < 500:\n",
    "    compiled_x.append(seq)\n",
    "    compiled_y.append(y_train[i])\n",
    "    "
   ]
  },
  {
   "cell_type": "code",
   "execution_count": 20,
   "metadata": {
    "colab": {
     "base_uri": "https://localhost:8080/"
    },
    "id": "XYkqW-exL3L5",
    "outputId": "93ed827b-424f-4797-b611-7185bdb1879a"
   },
   "outputs": [
    {
     "name": "stdout",
     "output_type": "stream",
     "text": [
      "368 368 92 92\n"
     ]
    }
   ],
   "source": [
    "print(len(compiled_x), len(compiled_y), len(X_valid), len(y_valid))"
   ]
  },
  {
   "cell_type": "code",
   "execution_count": 21,
   "metadata": {
    "id": "bODi1807L3L6"
   },
   "outputs": [],
   "source": [
    "#For variable naming standardisation, \"rename\" X_valid to compiled_x_valid\n",
    "compiled_x_valid = X_valid\n",
    "compiled_y_valid = y_valid"
   ]
  },
  {
   "cell_type": "markdown",
   "metadata": {
    "id": "MaKazO_NL3L6"
   },
   "source": [
    "### For encoder input (training)"
   ]
  },
  {
   "cell_type": "code",
   "execution_count": 22,
   "metadata": {
    "id": "mpLqwWNjL3L6"
   },
   "outputs": [],
   "source": [
    "encoder_input = []\n",
    "for i in range(len(compiled_x)):\n",
    "  data = compiled_x[i]   \n",
    "  n = len(data)\n",
    "  while len(data) < 267:                       \n",
    "    data.append([500,500])                      \n",
    "  encoder_input.append(data)"
   ]
  },
  {
   "cell_type": "code",
   "execution_count": 23,
   "metadata": {
    "colab": {
     "base_uri": "https://localhost:8080/"
    },
    "id": "6kIB1tquL3L6",
    "outputId": "a1fbeebd-c995-4b7c-f429-a2b84fc6af5c"
   },
   "outputs": [
    {
     "data": {
      "text/plain": [
       "(368, 267, 2)"
      ]
     },
     "execution_count": 23,
     "metadata": {},
     "output_type": "execute_result"
    }
   ],
   "source": [
    "encoder_input = np.array(encoder_input)/500\n",
    "encoder_input.shape"
   ]
  },
  {
   "cell_type": "code",
   "execution_count": 24,
   "metadata": {
    "colab": {
     "base_uri": "https://localhost:8080/"
    },
    "id": "DnKuDg6WL3L7",
    "outputId": "db22fe34-0e94-4aa7-fb7d-462ac121d547"
   },
   "outputs": [
    {
     "data": {
      "text/plain": [
       "(368, 267, 2)"
      ]
     },
     "execution_count": 24,
     "metadata": {},
     "output_type": "execute_result"
    }
   ],
   "source": [
    "X1 = np.array(encoder_input)\n",
    "X1.shape"
   ]
  },
  {
   "cell_type": "code",
   "execution_count": 25,
   "metadata": {
    "id": "wV5_ppbcL3L8"
   },
   "outputs": [],
   "source": [
    "encoder_input_valid = []\n",
    "for i in range(len(compiled_x_valid)):\n",
    "  data = compiled_x_valid[i]\n",
    "  while  len(data)  < 267:                      \n",
    "    data.append([500,500])                      \n",
    "  encoder_input_valid.append(data)\n"
   ]
  },
  {
   "cell_type": "code",
   "execution_count": 26,
   "metadata": {
    "colab": {
     "base_uri": "https://localhost:8080/"
    },
    "id": "eCfubn0yL3L8",
    "outputId": "23d57142-ef1c-426d-d86c-2965d5b71b8a"
   },
   "outputs": [
    {
     "data": {
      "text/plain": [
       "(92, 267, 2)"
      ]
     },
     "execution_count": 26,
     "metadata": {},
     "output_type": "execute_result"
    }
   ],
   "source": [
    "encoder_input_valid = np.array(encoder_input_valid)/500\n",
    "encoder_input_valid.shape"
   ]
  },
  {
   "cell_type": "code",
   "execution_count": 27,
   "metadata": {},
   "outputs": [
    {
     "data": {
      "text/plain": [
       "(92, 267, 2)"
      ]
     },
     "execution_count": 27,
     "metadata": {},
     "output_type": "execute_result"
    }
   ],
   "source": [
    "X1_valid = np.array(encoder_input_valid)\n",
    "X1_valid.shape"
   ]
  },
  {
   "cell_type": "markdown",
   "metadata": {
    "id": "JMc5zCBtL3L9"
   },
   "source": [
    "### For decoder_target (training)"
   ]
  },
  {
   "cell_type": "code",
   "execution_count": 28,
   "metadata": {
    "id": "q7uRQFqlL3L9"
   },
   "outputs": [],
   "source": [
    "Y = []\n",
    "for i in range(len(compiled_y)):\n",
    "  data = compiled_y[i]                                   \n",
    "  while len(data) < 267:                         \n",
    "    data.append(2)\n",
    "  Y.append(data)"
   ]
  },
  {
   "cell_type": "code",
   "execution_count": 29,
   "metadata": {
    "colab": {
     "base_uri": "https://localhost:8080/"
    },
    "id": "iGSZK6mpL3L9",
    "outputId": "192d66f9-cbf2-404a-bb33-cb9c9fde2dac"
   },
   "outputs": [
    {
     "data": {
      "text/plain": [
       "(368, 267)"
      ]
     },
     "execution_count": 29,
     "metadata": {},
     "output_type": "execute_result"
    }
   ],
   "source": [
    "Y = np.array(Y)\n",
    "Y.shape"
   ]
  },
  {
   "cell_type": "code",
   "execution_count": 30,
   "metadata": {
    "id": "7ES7QbwoL3L-"
   },
   "outputs": [
    {
     "data": {
      "text/plain": [
       "(1, 368, 267, 4)"
      ]
     },
     "execution_count": 30,
     "metadata": {},
     "output_type": "execute_result"
    }
   ],
   "source": [
    "Y = to_categorical([Y], num_classes=4)\n",
    "Y.shape"
   ]
  },
  {
   "cell_type": "code",
   "execution_count": 31,
   "metadata": {
    "colab": {
     "base_uri": "https://localhost:8080/"
    },
    "id": "rA9xBtS3L3L-",
    "outputId": "04bcad54-44e1-494c-d6b5-409ab0a6616d"
   },
   "outputs": [
    {
     "data": {
      "text/plain": [
       "(368, 267, 4)"
      ]
     },
     "execution_count": 31,
     "metadata": {},
     "output_type": "execute_result"
    }
   ],
   "source": [
    "Y = Y.reshape(368, 267, 4)                  \n",
    "Y.shape"
   ]
  },
  {
   "cell_type": "markdown",
   "metadata": {
    "id": "-3DMHfgaL3L-"
   },
   "source": [
    "### For decoder_target (validation)"
   ]
  },
  {
   "cell_type": "code",
   "execution_count": 32,
   "metadata": {
    "id": "EN86ebvuL3L-"
   },
   "outputs": [],
   "source": [
    "Y_valid = []\n",
    "for i in range(len(compiled_y_valid)):\n",
    "  data = compiled_y_valid[i]                                   \n",
    "  while len(data) < 267:                       \n",
    "    data.append(2)\n",
    "  Y_valid.append(data)"
   ]
  },
  {
   "cell_type": "code",
   "execution_count": 33,
   "metadata": {
    "colab": {
     "base_uri": "https://localhost:8080/"
    },
    "id": "ISBnJKIXL3L-",
    "outputId": "18eaaef7-e39e-4b34-b36d-c1a766391071"
   },
   "outputs": [
    {
     "data": {
      "text/plain": [
       "(92, 267)"
      ]
     },
     "execution_count": 33,
     "metadata": {},
     "output_type": "execute_result"
    }
   ],
   "source": [
    "Y_valid = np.array(Y_valid)\n",
    "Y_valid.shape"
   ]
  },
  {
   "cell_type": "code",
   "execution_count": 34,
   "metadata": {
    "id": "svi2Q96PL3L-"
   },
   "outputs": [
    {
     "data": {
      "text/plain": [
       "(1, 92, 267, 4)"
      ]
     },
     "execution_count": 34,
     "metadata": {},
     "output_type": "execute_result"
    }
   ],
   "source": [
    "Y_valid = to_categorical([Y_valid], num_classes=4)\n",
    "Y_valid.shape"
   ]
  },
  {
   "cell_type": "code",
   "execution_count": 35,
   "metadata": {},
   "outputs": [
    {
     "data": {
      "text/plain": [
       "(92, 267, 4)"
      ]
     },
     "execution_count": 35,
     "metadata": {},
     "output_type": "execute_result"
    }
   ],
   "source": [
    "Y_valid = Y_valid.reshape(92, 267, 4)  \n",
    "Y_valid.shape"
   ]
  },
  {
   "cell_type": "markdown",
   "metadata": {
    "id": "XR6BD-lVL3L_"
   },
   "source": [
    "### For decoder input (shifted version of decoder target) - (training)"
   ]
  },
  {
   "cell_type": "code",
   "execution_count": 36,
   "metadata": {
    "id": "guzxg9QJL3L_"
   },
   "outputs": [],
   "source": [
    "X2 = []\n",
    "for i in range(len(compiled_y)):\n",
    "  data = compiled_y[i] \n",
    "  while len(data) < 267:                         \n",
    "    data.append(2)\n",
    "  data = [3] + data[:-1]                         #? for indicating start of decoder input sequence (requirement for force teaching)\n",
    "  X2.append(data)"
   ]
  },
  {
   "cell_type": "code",
   "execution_count": 37,
   "metadata": {
    "colab": {
     "base_uri": "https://localhost:8080/"
    },
    "id": "wOG9tYsDL3L_",
    "outputId": "53484902-8852-41be-c449-8b478db1c45d"
   },
   "outputs": [
    {
     "data": {
      "text/plain": [
       "(368, 267)"
      ]
     },
     "execution_count": 37,
     "metadata": {},
     "output_type": "execute_result"
    }
   ],
   "source": [
    "X2 = np.array(X2)\n",
    "X2.shape"
   ]
  },
  {
   "cell_type": "code",
   "execution_count": 38,
   "metadata": {
    "colab": {
     "base_uri": "https://localhost:8080/"
    },
    "id": "MnUWAALhL3L_",
    "outputId": "2cc41192-8725-45d9-aefa-fa1657480285"
   },
   "outputs": [
    {
     "data": {
      "text/plain": [
       "(368, 267, 4)"
      ]
     },
     "execution_count": 38,
     "metadata": {},
     "output_type": "execute_result"
    }
   ],
   "source": [
    "X2 = to_categorical([X2], num_classes=4)\n",
    "X2.shape\n",
    "X2 = X2.reshape(368, 267, 4)\n",
    "X2.shape"
   ]
  },
  {
   "cell_type": "markdown",
   "metadata": {
    "id": "O3EWNMa0L3L_"
   },
   "source": [
    "### For decoder input (shifted version of decoder target) - (validation)"
   ]
  },
  {
   "cell_type": "code",
   "execution_count": 39,
   "metadata": {
    "id": "dTUi11PjL3L_"
   },
   "outputs": [],
   "source": [
    "X2_valid = []\n",
    "for i in range(len(compiled_y_valid)):\n",
    "  data = compiled_y_valid[i] \n",
    "  while len(data) < 267:                        \n",
    "    data.append(2)\n",
    "  data = [3] + data[:-1]\n",
    "  X2_valid.append(data)"
   ]
  },
  {
   "cell_type": "code",
   "execution_count": 40,
   "metadata": {
    "colab": {
     "base_uri": "https://localhost:8080/"
    },
    "id": "87BOqcHWL3L_",
    "outputId": "e09155ee-828b-43dd-b59b-16639aa62e00"
   },
   "outputs": [
    {
     "data": {
      "text/plain": [
       "(92, 267)"
      ]
     },
     "execution_count": 40,
     "metadata": {},
     "output_type": "execute_result"
    }
   ],
   "source": [
    "X2_valid = np.array(X2_valid)\n",
    "X2_valid.shape"
   ]
  },
  {
   "cell_type": "code",
   "execution_count": 41,
   "metadata": {
    "colab": {
     "base_uri": "https://localhost:8080/"
    },
    "id": "qSISvQWsL3L_",
    "outputId": "d2819c63-5c46-460a-bc95-8ea0837d6c95"
   },
   "outputs": [
    {
     "data": {
      "text/plain": [
       "(92, 267, 4)"
      ]
     },
     "execution_count": 41,
     "metadata": {},
     "output_type": "execute_result"
    }
   ],
   "source": [
    "X2_valid = to_categorical([X2_valid], num_classes=4)\n",
    "X2_valid.shape\n",
    "X2_valid = X2_valid.reshape(92, 267, 4)  \n",
    "X2_valid.shape"
   ]
  },
  {
   "cell_type": "markdown",
   "metadata": {
    "id": "LzvdcjlKL3MA"
   },
   "source": [
    "### Creation of test samples"
   ]
  },
  {
   "cell_type": "code",
   "execution_count": 42,
   "metadata": {
    "id": "cDqI71pGL3MA"
   },
   "outputs": [],
   "source": [
    "compiled_data = get_compiled_data(\"C:/Users/ASUS/Desktop/system_code/dataset-460-40/x_test\")\n",
    "#compiled_data = get_compiled_data(\"/gdrive/MyDrive/dataset-460-40/x_test/\")"
   ]
  },
  {
   "cell_type": "code",
   "execution_count": 43,
   "metadata": {
    "id": "3BPuPXgzL3MA"
   },
   "outputs": [],
   "source": [
    "encoder_input_test = []\n",
    "for i in range(len(compiled_data)):\n",
    "  data = compiled_data[i] \n",
    "  while len(data) < 267:                         \n",
    "    data.append([500,500])                      \n",
    "  encoder_input_test.append(data)\n"
   ]
  },
  {
   "cell_type": "code",
   "execution_count": 44,
   "metadata": {
    "colab": {
     "base_uri": "https://localhost:8080/"
    },
    "id": "G94g9zU6L3MA",
    "outputId": "1225dc05-5e9f-47f4-9f3a-63498ff53e92"
   },
   "outputs": [
    {
     "data": {
      "text/plain": [
       "(40, 267, 2)"
      ]
     },
     "execution_count": 44,
     "metadata": {},
     "output_type": "execute_result"
    }
   ],
   "source": [
    "encoder_input_test = np.array(encoder_input_test)/500\n",
    "encoder_input_test.shape"
   ]
  },
  {
   "cell_type": "code",
   "execution_count": 45,
   "metadata": {
    "colab": {
     "base_uri": "https://localhost:8080/"
    },
    "id": "YvfrHND4L3MA",
    "outputId": "6551f75d-5fa7-4555-b2e5-44e5b53a1f06"
   },
   "outputs": [
    {
     "data": {
      "text/plain": [
       "(40, 267, 2)"
      ]
     },
     "execution_count": 45,
     "metadata": {},
     "output_type": "execute_result"
    }
   ],
   "source": [
    "X1_test = np.array(encoder_input_test)\n",
    "X1_test.shape"
   ]
  },
  {
   "cell_type": "code",
   "execution_count": 46,
   "metadata": {
    "id": "ky93NH7FL3MB"
   },
   "outputs": [],
   "source": [
    "compiled_data = get_compiled_data(\"C:/Users/ASUS/Desktop/system_code/dataset-460-40/y_test\")\n",
    "#compiled_data = get_compiled_data(\"/gdrive/MyDrive/dataset-460-40/y_test/\")"
   ]
  },
  {
   "cell_type": "code",
   "execution_count": 47,
   "metadata": {
    "id": "_TQBUSh1L3MB"
   },
   "outputs": [],
   "source": [
    "Y_test = []\n",
    "for i in range(len(compiled_data)):\n",
    "  data = compiled_data[i]                                   \n",
    "  while len(data) < 267:                          \n",
    "    data.append(2)\n",
    "  Y_test.append(data)"
   ]
  },
  {
   "cell_type": "code",
   "execution_count": 48,
   "metadata": {
    "colab": {
     "base_uri": "https://localhost:8080/"
    },
    "id": "0UnsSytOL3MB",
    "outputId": "6b3bda0d-2cf7-4c8b-959a-ef1c4cb566f3"
   },
   "outputs": [
    {
     "data": {
      "text/plain": [
       "(40, 267)"
      ]
     },
     "execution_count": 48,
     "metadata": {},
     "output_type": "execute_result"
    }
   ],
   "source": [
    "Y_test = np.array(Y_test)\n",
    "Y_test.shape"
   ]
  },
  {
   "cell_type": "code",
   "execution_count": 49,
   "metadata": {
    "id": "nge9T53lL3MB"
   },
   "outputs": [
    {
     "data": {
      "text/plain": [
       "(1, 40, 267, 4)"
      ]
     },
     "execution_count": 49,
     "metadata": {},
     "output_type": "execute_result"
    }
   ],
   "source": [
    "Y_test = to_categorical([Y_test], num_classes=4)\n",
    "Y_test.shape"
   ]
  },
  {
   "cell_type": "code",
   "execution_count": 50,
   "metadata": {
    "colab": {
     "base_uri": "https://localhost:8080/"
    },
    "id": "19eSzryWL3MB",
    "outputId": "c619e876-0093-45bc-e358-0f3185fa55d2"
   },
   "outputs": [
    {
     "data": {
      "text/plain": [
       "(40, 267, 4)"
      ]
     },
     "execution_count": 50,
     "metadata": {},
     "output_type": "execute_result"
    }
   ],
   "source": [
    "Y_test = Y_test.reshape(40, 267, 4)  \n",
    "Y_test.shape"
   ]
  },
  {
   "cell_type": "markdown",
   "metadata": {
    "id": "bGAOTV3mL3MB"
   },
   "source": [
    "### Start of main program"
   ]
  },
  {
   "cell_type": "markdown",
   "metadata": {
    "id": "l4pNtq0bzpxE"
   },
   "source": [
    "Model built with bidirectional LSTM cell"
   ]
  },
  {
   "cell_type": "code",
   "execution_count": 51,
   "metadata": {
    "id": "w09tRLLjvAS0"
   },
   "outputs": [],
   "source": [
    "def define_models(n_in, n_out, n_units):\n",
    "\n",
    "    # define encoder\n",
    "    enc_inputs = Input(shape=(None, n_in))\n",
    "    encoder_inputs = Masking(mask_value=1.0)(enc_inputs) \n",
    "    encoder = Bidirectional(LSTM(n_units, return_state=True))   #Bidirectional LSTM\n",
    "    encoder_outputs, forward_h, forward_c, backward_h, backward_c = encoder(encoder_inputs)\n",
    "    state_h = Concatenate()([forward_h, backward_h])\n",
    "    state_c = Concatenate()([forward_c, backward_c])\n",
    "    encoder_states = [state_h, state_c]\n",
    "\n",
    "    # define decoder\n",
    "    dec_inputs = Input(shape=(None, n_out))\n",
    "    decoder_inputs = Masking(mask_value=2)(dec_inputs) \n",
    "    decoder_lstm = LSTM(n_units*2, return_sequences=True, return_state=True)      #Multiple by 2 cuz of bidirectional\n",
    "    decoder_outputs, _, _ = decoder_lstm(decoder_inputs, initial_state=encoder_states)\n",
    "    decoder_dense = Dense(n_out, activation='sigmoid')\n",
    "    decoder_outputs = decoder_dense(decoder_outputs)\n",
    "    model = Model([enc_inputs, dec_inputs], decoder_outputs)\n",
    "\n",
    "    # define inference encoder\n",
    "    encoder_model = Model(enc_inputs, encoder_states)\n",
    "\n",
    "    # define inference decoder\n",
    "    decoder_state_input_h = Input(shape=(n_units*2,))    #Multiple by 2 cuz of bidirectional\n",
    "    decoder_state_input_c = Input(shape=(n_units*2,))    #Multiple by 2 cuz of bidirectional\n",
    "    decoder_states_inputs = [decoder_state_input_h, decoder_state_input_c]\n",
    "    decoder_outputs, state_h, state_c = decoder_lstm(decoder_inputs, initial_state=decoder_states_inputs)\n",
    "    decoder_states = [state_h, state_c]\n",
    "    decoder_outputs = decoder_dense(decoder_outputs)\n",
    "    decoder_model = Model([dec_inputs] + decoder_states_inputs, [decoder_outputs] + decoder_states)\n",
    "\n",
    "    # return all models\n",
    "    return model, encoder_model, decoder_model"
   ]
  },
  {
   "cell_type": "code",
   "execution_count": 52,
   "metadata": {},
   "outputs": [],
   "source": [
    "precision =tf.keras.metrics.Precision()\n",
    "recall = tf.keras.metrics.Recall()"
   ]
  },
  {
   "cell_type": "code",
   "execution_count": 53,
   "metadata": {},
   "outputs": [],
   "source": [
    "from tensorflow.keras import backend as K\n",
    "\n",
    "def f1(y_true, y_pred):\n",
    "    y_pred = K.round(y_pred)\n",
    "    tp = K.sum(K.cast(y_true*y_pred, 'float'), axis=0)\n",
    "    tn = K.sum(K.cast((1-y_true)*(1-y_pred), 'float'), axis=0)\n",
    "    fp = K.sum(K.cast((1-y_true)*y_pred, 'float'), axis=0)\n",
    "    fn = K.sum(K.cast(y_true*(1-y_pred), 'float'), axis=0)\n",
    "\n",
    "    p = tp / (tp + fp + K.epsilon())\n",
    "    r = tp / (tp + fn + K.epsilon())\n",
    "\n",
    "    f1 = 2*p*r / (p+r+K.epsilon())\n",
    "    f1 = tf.where(tf.math.is_nan(f1), tf.zeros_like(f1), f1)\n",
    "    return K.mean(f1)\n",
    "\n",
    "def f1_loss(y_true, y_pred):\n",
    "    \n",
    "    tp = K.sum(K.cast(y_true*y_pred, 'float'), axis=0)\n",
    "    tn = K.sum(K.cast((1-y_true)*(1-y_pred), 'float'), axis=0)\n",
    "    fp = K.sum(K.cast((1-y_true)*y_pred, 'float'), axis=0)\n",
    "    fn = K.sum(K.cast(y_true*(1-y_pred), 'float'), axis=0)\n",
    "\n",
    "    p = tp / (tp + fp + K.epsilon())\n",
    "    r = tp / (tp + fn + K.epsilon())\n",
    "\n",
    "    f1 = 2*p*r / (p+r+K.epsilon())    \n",
    "    f1 = tf.where(tf.math.is_nan(f1), tf.zeros_like(f1), f1)\n",
    "\n",
    "    \n",
    "    return 1 - K.mean(f1)"
   ]
  },
  {
   "cell_type": "code",
   "execution_count": 54,
   "metadata": {},
   "outputs": [
    {
     "name": "stdout",
     "output_type": "stream",
     "text": [
      "(368, 267, 2) (368, 267, 4) (368, 267, 4)\n",
      "Epoch 1/200\n",
      "12/12 [==============================] - 12s 350ms/step - loss: 1.2175 - acc: 0.6348 - precision: 0.4020 - recall: 0.8901 - f1: 0.3018 - val_loss: 0.8151 - val_acc: 0.8650 - val_precision: 0.5992 - val_recall: 0.9984 - val_f1: 0.3705\n",
      "Epoch 2/200\n",
      "12/12 [==============================] - 1s 87ms/step - loss: 0.5595 - acc: 0.7868 - precision: 0.6288 - recall: 0.9883 - f1: 0.3561 - val_loss: 0.4514 - val_acc: 0.8273 - val_precision: 0.6958 - val_recall: 0.9663 - val_f1: 0.3812\n",
      "Epoch 3/200\n",
      "12/12 [==============================] - 1s 86ms/step - loss: 0.4292 - acc: 0.8180 - precision: 0.6905 - recall: 0.9682 - f1: 0.3725 - val_loss: 0.3579 - val_acc: 0.8406 - val_precision: 0.7114 - val_recall: 0.9821 - val_f1: 0.3961\n",
      "Epoch 4/200\n",
      "12/12 [==============================] - 1s 85ms/step - loss: 0.3497 - acc: 0.8291 - precision: 0.6949 - recall: 0.9870 - f1: 0.3873 - val_loss: 0.3824 - val_acc: 0.8115 - val_precision: 0.6727 - val_recall: 0.9603 - val_f1: 0.3679\n",
      "Epoch 5/200\n",
      "12/12 [==============================] - 1s 84ms/step - loss: 0.3850 - acc: 0.8113 - precision: 0.6719 - recall: 0.9621 - f1: 0.3669 - val_loss: 0.3433 - val_acc: 0.8340 - val_precision: 0.7019 - val_recall: 0.9746 - val_f1: 0.3882\n",
      "Epoch 6/200\n",
      "12/12 [==============================] - 1s 83ms/step - loss: 0.3517 - acc: 0.8418 - precision: 0.7014 - recall: 0.9794 - f1: 0.3914 - val_loss: 0.3340 - val_acc: 0.8515 - val_precision: 0.7109 - val_recall: 0.9813 - val_f1: 0.3963\n",
      "Epoch 7/200\n",
      "12/12 [==============================] - 1s 74ms/step - loss: 0.3376 - acc: 0.8419 - precision: 0.7036 - recall: 0.9814 - f1: 0.3895 - val_loss: 0.3168 - val_acc: 0.8422 - val_precision: 0.7093 - val_recall: 0.9813 - val_f1: 0.3955\n",
      "Epoch 8/200\n",
      "12/12 [==============================] - 1s 75ms/step - loss: 0.3230 - acc: 0.8319 - precision: 0.7019 - recall: 0.9817 - f1: 0.3905 - val_loss: 0.3057 - val_acc: 0.8423 - val_precision: 0.7092 - val_recall: 0.9834 - val_f1: 0.3959\n",
      "Epoch 9/200\n",
      "12/12 [==============================] - 1s 75ms/step - loss: 0.3111 - acc: 0.8379 - precision: 0.7041 - recall: 0.9853 - f1: 0.3924 - val_loss: 0.2943 - val_acc: 0.8514 - val_precision: 0.7141 - val_recall: 0.9878 - val_f1: 0.4006\n",
      "Epoch 10/200\n",
      "12/12 [==============================] - 1s 76ms/step - loss: 0.2991 - acc: 0.8471 - precision: 0.7081 - recall: 0.9897 - f1: 0.3947 - val_loss: 0.2831 - val_acc: 0.8545 - val_precision: 0.7126 - val_recall: 0.9920 - val_f1: 0.4004\n",
      "Epoch 11/200\n",
      "12/12 [==============================] - 1s 76ms/step - loss: 0.2879 - acc: 0.8494 - precision: 0.6908 - recall: 0.9949 - f1: 0.3902 - val_loss: 0.2766 - val_acc: 0.8597 - val_precision: 0.6884 - val_recall: 0.9955 - val_f1: 0.3933\n",
      "Epoch 12/200\n",
      "12/12 [==============================] - 1s 76ms/step - loss: 0.2776 - acc: 0.8549 - precision: 0.6815 - recall: 0.9977 - f1: 0.3926 - val_loss: 0.2615 - val_acc: 0.8601 - val_precision: 0.6968 - val_recall: 0.9982 - val_f1: 0.4011\n",
      "Epoch 13/200\n",
      "12/12 [==============================] - 1s 76ms/step - loss: 0.2624 - acc: 0.8597 - precision: 0.6935 - recall: 0.9995 - f1: 0.3976 - val_loss: 0.2456 - val_acc: 0.8661 - val_precision: 0.7119 - val_recall: 0.9996 - val_f1: 0.4037\n",
      "Epoch 14/200\n",
      "12/12 [==============================] - 1s 75ms/step - loss: 0.2516 - acc: 0.8614 - precision: 0.7052 - recall: 0.9995 - f1: 0.3880 - val_loss: 0.2496 - val_acc: 0.8618 - val_precision: 0.7159 - val_recall: 0.9986 - val_f1: 0.4001\n",
      "Epoch 15/200\n",
      "12/12 [==============================] - 1s 74ms/step - loss: 0.2551 - acc: 0.8608 - precision: 0.6999 - recall: 0.9990 - f1: 0.3966 - val_loss: 0.2513 - val_acc: 0.8608 - val_precision: 0.7164 - val_recall: 0.9985 - val_f1: 0.4085\n",
      "Epoch 16/200\n",
      "12/12 [==============================] - 1s 75ms/step - loss: 0.2493 - acc: 0.8618 - precision: 0.7099 - recall: 0.9993 - f1: 0.4023 - val_loss: 0.2392 - val_acc: 0.8679 - val_precision: 0.7088 - val_recall: 1.0000 - val_f1: 0.4017\n",
      "Epoch 17/200\n",
      "12/12 [==============================] - 1s 75ms/step - loss: 0.2428 - acc: 0.8646 - precision: 0.7124 - recall: 0.9998 - f1: 0.3983 - val_loss: 0.2328 - val_acc: 0.8697 - val_precision: 0.7245 - val_recall: 0.9996 - val_f1: 0.4083\n",
      "Epoch 18/200\n",
      "12/12 [==============================] - 1s 76ms/step - loss: 0.2376 - acc: 0.8669 - precision: 0.7170 - recall: 0.9998 - f1: 0.4035 - val_loss: 0.2295 - val_acc: 0.8717 - val_precision: 0.7272 - val_recall: 0.9998 - val_f1: 0.4095\n",
      "Epoch 19/200\n",
      "12/12 [==============================] - 1s 73ms/step - loss: 0.2341 - acc: 0.8682 - precision: 0.7208 - recall: 0.9999 - f1: 0.4091 - val_loss: 0.2309 - val_acc: 0.8697 - val_precision: 0.7311 - val_recall: 0.9996 - val_f1: 0.4126\n",
      "Epoch 20/200\n",
      "12/12 [==============================] - 1s 75ms/step - loss: 0.2328 - acc: 0.8682 - precision: 0.7237 - recall: 0.9999 - f1: 0.4086 - val_loss: 0.2255 - val_acc: 0.8713 - val_precision: 0.7308 - val_recall: 1.0000 - val_f1: 0.4143\n",
      "Epoch 21/200\n",
      "12/12 [==============================] - 1s 75ms/step - loss: 0.2338 - acc: 0.8672 - precision: 0.7247 - recall: 0.9998 - f1: 0.4119 - val_loss: 0.2227 - val_acc: 0.8744 - val_precision: 0.7317 - val_recall: 1.0000 - val_f1: 0.4146\n",
      "Epoch 22/200\n",
      "12/12 [==============================] - 1s 75ms/step - loss: 0.2311 - acc: 0.8685 - precision: 0.7244 - recall: 0.9999 - f1: 0.4096 - val_loss: 0.2246 - val_acc: 0.8744 - val_precision: 0.7312 - val_recall: 1.0000 - val_f1: 0.4132\n",
      "Epoch 23/200\n",
      "12/12 [==============================] - 1s 77ms/step - loss: 0.2304 - acc: 0.8689 - precision: 0.7249 - recall: 1.0000 - f1: 0.4097 - val_loss: 0.2252 - val_acc: 0.8712 - val_precision: 0.7337 - val_recall: 1.0000 - val_f1: 0.4155\n",
      "Epoch 24/200\n",
      "12/12 [==============================] - 1s 76ms/step - loss: 0.2285 - acc: 0.8698 - precision: 0.7259 - recall: 1.0000 - f1: 0.4107 - val_loss: 0.2207 - val_acc: 0.8755 - val_precision: 0.7334 - val_recall: 1.0000 - val_f1: 0.4160\n",
      "Epoch 25/200\n",
      "12/12 [==============================] - 1s 75ms/step - loss: 0.2267 - acc: 0.8710 - precision: 0.7269 - recall: 1.0000 - f1: 0.4086 - val_loss: 0.2199 - val_acc: 0.8762 - val_precision: 0.7344 - val_recall: 1.0000 - val_f1: 0.4170\n",
      "Epoch 26/200\n",
      "12/12 [==============================] - 1s 76ms/step - loss: 0.2260 - acc: 0.8713 - precision: 0.7279 - recall: 1.0000 - f1: 0.4075 - val_loss: 0.2204 - val_acc: 0.8743 - val_precision: 0.7355 - val_recall: 1.0000 - val_f1: 0.4178\n",
      "Epoch 27/200\n",
      "12/12 [==============================] - 1s 76ms/step - loss: 0.2260 - acc: 0.8717 - precision: 0.7287 - recall: 1.0000 - f1: 0.4157 - val_loss: 0.2187 - val_acc: 0.8770 - val_precision: 0.7359 - val_recall: 1.0000 - val_f1: 0.4181\n",
      "Epoch 28/200\n",
      "12/12 [==============================] - 1s 75ms/step - loss: 0.2262 - acc: 0.8705 - precision: 0.7294 - recall: 1.0000 - f1: 0.4114 - val_loss: 0.2201 - val_acc: 0.8740 - val_precision: 0.7359 - val_recall: 1.0000 - val_f1: 0.4181\n",
      "Epoch 29/200\n",
      "12/12 [==============================] - 1s 76ms/step - loss: 0.2261 - acc: 0.8708 - precision: 0.7296 - recall: 1.0000 - f1: 0.4123 - val_loss: 0.2220 - val_acc: 0.8703 - val_precision: 0.7382 - val_recall: 1.0000 - val_f1: 0.4189\n",
      "Epoch 30/200\n",
      "12/12 [==============================] - 1s 76ms/step - loss: 0.2258 - acc: 0.8713 - precision: 0.7301 - recall: 1.0000 - f1: 0.4107 - val_loss: 0.2191 - val_acc: 0.8752 - val_precision: 0.7364 - val_recall: 1.0000 - val_f1: 0.4187\n",
      "Epoch 31/200\n",
      "12/12 [==============================] - 1s 76ms/step - loss: 0.2238 - acc: 0.8727 - precision: 0.7305 - recall: 1.0000 - f1: 0.4139 - val_loss: 0.2176 - val_acc: 0.8768 - val_precision: 0.7375 - val_recall: 1.0000 - val_f1: 0.4183\n",
      "Epoch 32/200\n",
      "12/12 [==============================] - 1s 75ms/step - loss: 0.2237 - acc: 0.8731 - precision: 0.7306 - recall: 1.0000 - f1: 0.4150 - val_loss: 0.2180 - val_acc: 0.8745 - val_precision: 0.7388 - val_recall: 1.0000 - val_f1: 0.4199\n",
      "Epoch 33/200\n",
      "12/12 [==============================] - 1s 75ms/step - loss: 0.2237 - acc: 0.8725 - precision: 0.7312 - recall: 1.0000 - f1: 0.4154 - val_loss: 0.2189 - val_acc: 0.8751 - val_precision: 0.7378 - val_recall: 0.9999 - val_f1: 0.4200\n",
      "Epoch 34/200\n",
      "12/12 [==============================] - 1s 76ms/step - loss: 0.2267 - acc: 0.8712 - precision: 0.7312 - recall: 1.0000 - f1: 0.4114 - val_loss: 0.2193 - val_acc: 0.8745 - val_precision: 0.7379 - val_recall: 1.0000 - val_f1: 0.4185\n",
      "Epoch 35/200\n",
      "12/12 [==============================] - 1s 75ms/step - loss: 0.2262 - acc: 0.8707 - precision: 0.7309 - recall: 0.9999 - f1: 0.4166 - val_loss: 0.2196 - val_acc: 0.8738 - val_precision: 0.7373 - val_recall: 1.0000 - val_f1: 0.4195\n",
      "Epoch 36/200\n",
      "12/12 [==============================] - 1s 75ms/step - loss: 0.2237 - acc: 0.8723 - precision: 0.7310 - recall: 1.0000 - f1: 0.4117 - val_loss: 0.2175 - val_acc: 0.8755 - val_precision: 0.7379 - val_recall: 1.0000 - val_f1: 0.4193\n",
      "Epoch 37/200\n",
      "12/12 [==============================] - 1s 74ms/step - loss: 0.2228 - acc: 0.8731 - precision: 0.7314 - recall: 1.0000 - f1: 0.4151 - val_loss: 0.2167 - val_acc: 0.8775 - val_precision: 0.7383 - val_recall: 1.0000 - val_f1: 0.4194\n",
      "Epoch 38/200\n",
      "12/12 [==============================] - 1s 76ms/step - loss: 0.2227 - acc: 0.8729 - precision: 0.7318 - recall: 1.0000 - f1: 0.4158 - val_loss: 0.2189 - val_acc: 0.8734 - val_precision: 0.7377 - val_recall: 1.0000 - val_f1: 0.4202\n",
      "Epoch 39/200\n",
      "12/12 [==============================] - 1s 75ms/step - loss: 0.2231 - acc: 0.8718 - precision: 0.7318 - recall: 1.0000 - f1: 0.4184 - val_loss: 0.2167 - val_acc: 0.8768 - val_precision: 0.7396 - val_recall: 1.0000 - val_f1: 0.4206\n",
      "Epoch 40/200\n",
      "12/12 [==============================] - 1s 76ms/step - loss: 0.2224 - acc: 0.8728 - precision: 0.7322 - recall: 1.0000 - f1: 0.4102 - val_loss: 0.2162 - val_acc: 0.8783 - val_precision: 0.7395 - val_recall: 1.0000 - val_f1: 0.4203\n",
      "Epoch 41/200\n",
      "12/12 [==============================] - 1s 75ms/step - loss: 0.2225 - acc: 0.8730 - precision: 0.7323 - recall: 1.0000 - f1: 0.4149 - val_loss: 0.2159 - val_acc: 0.8772 - val_precision: 0.7396 - val_recall: 1.0000 - val_f1: 0.4205\n",
      "Epoch 42/200\n",
      "12/12 [==============================] - 1s 75ms/step - loss: 0.2217 - acc: 0.8737 - precision: 0.7324 - recall: 1.0000 - f1: 0.4154 - val_loss: 0.2160 - val_acc: 0.8777 - val_precision: 0.7401 - val_recall: 1.0000 - val_f1: 0.4202\n",
      "Epoch 43/200\n",
      "12/12 [==============================] - 1s 76ms/step - loss: 0.2221 - acc: 0.8731 - precision: 0.7330 - recall: 1.0000 - f1: 0.4160 - val_loss: 0.2178 - val_acc: 0.8775 - val_precision: 0.7394 - val_recall: 0.9996 - val_f1: 0.4195\n",
      "Epoch 44/200\n",
      "12/12 [==============================] - 1s 75ms/step - loss: 0.2216 - acc: 0.8741 - precision: 0.7328 - recall: 1.0000 - f1: 0.4119 - val_loss: 0.2164 - val_acc: 0.8754 - val_precision: 0.7397 - val_recall: 1.0000 - val_f1: 0.4206\n",
      "Epoch 45/200\n",
      "12/12 [==============================] - 1s 76ms/step - loss: 0.2218 - acc: 0.8731 - precision: 0.7331 - recall: 1.0000 - f1: 0.4182 - val_loss: 0.2162 - val_acc: 0.8779 - val_precision: 0.7399 - val_recall: 1.0000 - val_f1: 0.4206\n",
      "Epoch 46/200\n",
      "12/12 [==============================] - 1s 74ms/step - loss: 0.2214 - acc: 0.8745 - precision: 0.7330 - recall: 1.0000 - f1: 0.4148 - val_loss: 0.2156 - val_acc: 0.8756 - val_precision: 0.7399 - val_recall: 1.0000 - val_f1: 0.4206\n",
      "Epoch 47/200\n",
      "12/12 [==============================] - 1s 75ms/step - loss: 0.2216 - acc: 0.8738 - precision: 0.7333 - recall: 1.0000 - f1: 0.4138 - val_loss: 0.2157 - val_acc: 0.8765 - val_precision: 0.7408 - val_recall: 1.0000 - val_f1: 0.4209\n",
      "Epoch 48/200\n",
      "12/12 [==============================] - 1s 76ms/step - loss: 0.2282 - acc: 0.8705 - precision: 0.7331 - recall: 0.9998 - f1: 0.4204 - val_loss: 0.2270 - val_acc: 0.8727 - val_precision: 0.7378 - val_recall: 0.9997 - val_f1: 0.4195\n",
      "Epoch 49/200\n",
      "12/12 [==============================] - 1s 75ms/step - loss: 0.2255 - acc: 0.8715 - precision: 0.7326 - recall: 0.9999 - f1: 0.4179 - val_loss: 0.2204 - val_acc: 0.8728 - val_precision: 0.7380 - val_recall: 1.0000 - val_f1: 0.4196\n",
      "Epoch 50/200\n",
      "12/12 [==============================] - 1s 75ms/step - loss: 0.2237 - acc: 0.8713 - precision: 0.7320 - recall: 1.0000 - f1: 0.4149 - val_loss: 0.2204 - val_acc: 0.8747 - val_precision: 0.7413 - val_recall: 0.9998 - val_f1: 0.4203\n",
      "Epoch 51/200\n",
      "12/12 [==============================] - 1s 74ms/step - loss: 0.2236 - acc: 0.8716 - precision: 0.7328 - recall: 1.0000 - f1: 0.4163 - val_loss: 0.2179 - val_acc: 0.8725 - val_precision: 0.7395 - val_recall: 1.0000 - val_f1: 0.4205\n",
      "Epoch 52/200\n",
      "12/12 [==============================] - 1s 74ms/step - loss: 0.2237 - acc: 0.8710 - precision: 0.7328 - recall: 1.0000 - f1: 0.4153 - val_loss: 0.2159 - val_acc: 0.8776 - val_precision: 0.7401 - val_recall: 1.0000 - val_f1: 0.4201\n",
      "Epoch 53/200\n",
      "12/12 [==============================] - 1s 75ms/step - loss: 0.2220 - acc: 0.8731 - precision: 0.7332 - recall: 1.0000 - f1: 0.4185 - val_loss: 0.2167 - val_acc: 0.8757 - val_precision: 0.7404 - val_recall: 1.0000 - val_f1: 0.4215\n",
      "Epoch 54/200\n",
      "12/12 [==============================] - 1s 75ms/step - loss: 0.2214 - acc: 0.8738 - precision: 0.7334 - recall: 1.0000 - f1: 0.4156 - val_loss: 0.2169 - val_acc: 0.8748 - val_precision: 0.7407 - val_recall: 1.0000 - val_f1: 0.4201\n",
      "Epoch 55/200\n",
      "12/12 [==============================] - 1s 75ms/step - loss: 0.2224 - acc: 0.8723 - precision: 0.7335 - recall: 1.0000 - f1: 0.4132 - val_loss: 0.2166 - val_acc: 0.8772 - val_precision: 0.7408 - val_recall: 0.9999 - val_f1: 0.4214\n",
      "Epoch 56/200\n",
      "12/12 [==============================] - 1s 76ms/step - loss: 0.2216 - acc: 0.8737 - precision: 0.7335 - recall: 1.0000 - f1: 0.4152 - val_loss: 0.2160 - val_acc: 0.8753 - val_precision: 0.7409 - val_recall: 0.9999 - val_f1: 0.4208\n",
      "Epoch 57/200\n",
      "12/12 [==============================] - 1s 75ms/step - loss: 0.2212 - acc: 0.8734 - precision: 0.7336 - recall: 1.0000 - f1: 0.4137 - val_loss: 0.2171 - val_acc: 0.8771 - val_precision: 0.7404 - val_recall: 1.0000 - val_f1: 0.4208\n",
      "Epoch 58/200\n",
      "12/12 [==============================] - 1s 76ms/step - loss: 0.2223 - acc: 0.8729 - precision: 0.7338 - recall: 1.0000 - f1: 0.4139 - val_loss: 0.2158 - val_acc: 0.8740 - val_precision: 0.7407 - val_recall: 1.0000 - val_f1: 0.4214\n",
      "Epoch 59/200\n",
      "12/12 [==============================] - 1s 75ms/step - loss: 0.2210 - acc: 0.8735 - precision: 0.7338 - recall: 1.0000 - f1: 0.4129 - val_loss: 0.2152 - val_acc: 0.8779 - val_precision: 0.7407 - val_recall: 1.0000 - val_f1: 0.4214\n",
      "Epoch 60/200\n",
      "12/12 [==============================] - 1s 77ms/step - loss: 0.2205 - acc: 0.8741 - precision: 0.7339 - recall: 1.0000 - f1: 0.4173 - val_loss: 0.2146 - val_acc: 0.8775 - val_precision: 0.7415 - val_recall: 1.0000 - val_f1: 0.4220\n",
      "Epoch 61/200\n",
      "12/12 [==============================] - 1s 75ms/step - loss: 0.2207 - acc: 0.8742 - precision: 0.7341 - recall: 1.0000 - f1: 0.4131 - val_loss: 0.2152 - val_acc: 0.8775 - val_precision: 0.7414 - val_recall: 1.0000 - val_f1: 0.4224\n",
      "Epoch 62/200\n",
      "12/12 [==============================] - 1s 76ms/step - loss: 0.2208 - acc: 0.8733 - precision: 0.7342 - recall: 1.0000 - f1: 0.4120 - val_loss: 0.2172 - val_acc: 0.8749 - val_precision: 0.7409 - val_recall: 1.0000 - val_f1: 0.4211\n",
      "Epoch 63/200\n",
      "12/12 [==============================] - 1s 75ms/step - loss: 0.2216 - acc: 0.8728 - precision: 0.7344 - recall: 1.0000 - f1: 0.4171 - val_loss: 0.2146 - val_acc: 0.8784 - val_precision: 0.7416 - val_recall: 1.0000 - val_f1: 0.4223\n",
      "Epoch 64/200\n",
      "12/12 [==============================] - 1s 75ms/step - loss: 0.2204 - acc: 0.8745 - precision: 0.7341 - recall: 1.0000 - f1: 0.4184 - val_loss: 0.2143 - val_acc: 0.8779 - val_precision: 0.7416 - val_recall: 1.0000 - val_f1: 0.4221\n",
      "Epoch 65/200\n",
      "12/12 [==============================] - 1s 76ms/step - loss: 0.2201 - acc: 0.8741 - precision: 0.7342 - recall: 1.0000 - f1: 0.4115 - val_loss: 0.2145 - val_acc: 0.8784 - val_precision: 0.7415 - val_recall: 1.0000 - val_f1: 0.4220\n",
      "Epoch 66/200\n",
      "12/12 [==============================] - 1s 74ms/step - loss: 0.2201 - acc: 0.8740 - precision: 0.7343 - recall: 1.0000 - f1: 0.4174 - val_loss: 0.2142 - val_acc: 0.8771 - val_precision: 0.7416 - val_recall: 1.0000 - val_f1: 0.4220\n",
      "Epoch 67/200\n",
      "12/12 [==============================] - 1s 75ms/step - loss: 0.2202 - acc: 0.8738 - precision: 0.7343 - recall: 1.0000 - f1: 0.4151 - val_loss: 0.2143 - val_acc: 0.8781 - val_precision: 0.7418 - val_recall: 1.0000 - val_f1: 0.4223\n",
      "Epoch 68/200\n",
      "12/12 [==============================] - 1s 75ms/step - loss: 0.2207 - acc: 0.8728 - precision: 0.7346 - recall: 1.0000 - f1: 0.4163 - val_loss: 0.2145 - val_acc: 0.8784 - val_precision: 0.7415 - val_recall: 1.0000 - val_f1: 0.4220\n",
      "Epoch 69/200\n",
      "12/12 [==============================] - 1s 75ms/step - loss: 0.2208 - acc: 0.8733 - precision: 0.7348 - recall: 1.0000 - f1: 0.4137 - val_loss: 0.2149 - val_acc: 0.8762 - val_precision: 0.7415 - val_recall: 1.0000 - val_f1: 0.4220\n",
      "Epoch 70/200\n",
      "12/12 [==============================] - 1s 75ms/step - loss: 0.2203 - acc: 0.8739 - precision: 0.7347 - recall: 1.0000 - f1: 0.4172 - val_loss: 0.2140 - val_acc: 0.8782 - val_precision: 0.7420 - val_recall: 1.0000 - val_f1: 0.4222\n",
      "Epoch 71/200\n",
      "12/12 [==============================] - 1s 75ms/step - loss: 0.2200 - acc: 0.8742 - precision: 0.7349 - recall: 1.0000 - f1: 0.4180 - val_loss: 0.2140 - val_acc: 0.8777 - val_precision: 0.7416 - val_recall: 1.0000 - val_f1: 0.4220\n",
      "Epoch 72/200\n",
      "12/12 [==============================] - 1s 75ms/step - loss: 0.2202 - acc: 0.8731 - precision: 0.7350 - recall: 1.0000 - f1: 0.4170 - val_loss: 0.2148 - val_acc: 0.8785 - val_precision: 0.7415 - val_recall: 1.0000 - val_f1: 0.4220 0.2166 - acc: 0.8749 - precision: 0.7368 - recall: 1.0000 - f1: 0.421 - ETA: 0s - loss: 0.2188 - acc: 0.8745 - precision: 0.7345 - recall: 1.0000 - f1: \n",
      "Epoch 73/200\n",
      "12/12 [==============================] - 1s 76ms/step - loss: 0.2204 - acc: 0.8737 - precision: 0.7349 - recall: 1.0000 - f1: 0.4185 - val_loss: 0.2153 - val_acc: 0.8750 - val_precision: 0.7421 - val_recall: 1.0000 - val_f1: 0.4227\n",
      "Epoch 74/200\n",
      "12/12 [==============================] - 1s 75ms/step - loss: 0.2205 - acc: 0.8728 - precision: 0.7351 - recall: 1.0000 - f1: 0.4136 - val_loss: 0.2157 - val_acc: 0.8776 - val_precision: 0.7420 - val_recall: 1.0000 - val_f1: 0.4219\n",
      "Epoch 75/200\n",
      "12/12 [==============================] - 1s 76ms/step - loss: 0.2209 - acc: 0.8732 - precision: 0.7353 - recall: 1.0000 - f1: 0.4143 - val_loss: 0.2148 - val_acc: 0.8775 - val_precision: 0.7416 - val_recall: 1.0000 - val_f1: 0.4221\n",
      "Epoch 76/200\n",
      "12/12 [==============================] - 1s 75ms/step - loss: 0.2203 - acc: 0.8742 - precision: 0.7352 - recall: 1.0000 - f1: 0.4129 - val_loss: 0.2148 - val_acc: 0.8777 - val_precision: 0.7434 - val_recall: 1.0000 - val_f1: 0.4224\n",
      "Epoch 77/200\n",
      "12/12 [==============================] - 1s 75ms/step - loss: 0.2202 - acc: 0.8737 - precision: 0.7354 - recall: 1.0000 - f1: 0.4150 - val_loss: 0.2146 - val_acc: 0.8781 - val_precision: 0.7430 - val_recall: 1.0000 - val_f1: 0.4231\n",
      "Epoch 78/200\n",
      "12/12 [==============================] - 1s 75ms/step - loss: 0.2201 - acc: 0.8732 - precision: 0.7351 - recall: 1.0000 - f1: 0.4142 - val_loss: 0.2144 - val_acc: 0.8781 - val_precision: 0.7416 - val_recall: 1.0000 - val_f1: 0.4222\n",
      "Epoch 79/200\n",
      "12/12 [==============================] - 1s 75ms/step - loss: 0.2199 - acc: 0.8733 - precision: 0.7351 - recall: 1.0000 - f1: 0.4144 - val_loss: 0.2142 - val_acc: 0.8778 - val_precision: 0.7438 - val_recall: 1.0000 - val_f1: 0.4234.2218 - acc: 0.8714 - precision: 0.7345 - recall: 1.0000 - f1: 0.4 - ETA: 0s - loss: 0.2196 - acc: 0.8736 - precision: 0.7355 - recall: 1.0000 - f1: 0.41\n",
      "Epoch 80/200\n",
      "12/12 [==============================] - 1s 75ms/step - loss: 0.2197 - acc: 0.8741 - precision: 0.7354 - recall: 1.0000 - f1: 0.4125 - val_loss: 0.2140 - val_acc: 0.8773 - val_precision: 0.7439 - val_recall: 1.0000 - val_f1: 0.4234\n",
      "Epoch 81/200\n",
      "12/12 [==============================] - 1s 74ms/step - loss: 0.2197 - acc: 0.8740 - precision: 0.7356 - recall: 1.0000 - f1: 0.4195 - val_loss: 0.2140 - val_acc: 0.8762 - val_precision: 0.7422 - val_recall: 1.0000 - val_f1: 0.4223\n",
      "Epoch 82/200\n",
      "12/12 [==============================] - 1s 75ms/step - loss: 0.2197 - acc: 0.8743 - precision: 0.7356 - recall: 1.0000 - f1: 0.4161 - val_loss: 0.2146 - val_acc: 0.8785 - val_precision: 0.7416 - val_recall: 1.0000 - val_f1: 0.4221\n",
      "Epoch 83/200\n",
      "12/12 [==============================] - 1s 76ms/step - loss: 0.2199 - acc: 0.8739 - precision: 0.7354 - recall: 1.0000 - f1: 0.4151 - val_loss: 0.2136 - val_acc: 0.8783 - val_precision: 0.7422 - val_recall: 1.0000 - val_f1: 0.4224\n",
      "Epoch 84/200\n",
      "12/12 [==============================] - 1s 75ms/step - loss: 0.2198 - acc: 0.8737 - precision: 0.7356 - recall: 1.0000 - f1: 0.4152 - val_loss: 0.2145 - val_acc: 0.8760 - val_precision: 0.7436 - val_recall: 1.0000 - val_f1: 0.4228\n",
      "Epoch 85/200\n",
      "12/12 [==============================] - 1s 75ms/step - loss: 0.2203 - acc: 0.8734 - precision: 0.7358 - recall: 1.0000 - f1: 0.4207 - val_loss: 0.2141 - val_acc: 0.8766 - val_precision: 0.7420 - val_recall: 1.0000 - val_f1: 0.4225.2190 - acc: 0.8738 - precision: 0.7375 - recall: 1.0000 - f1: 0.\n",
      "Epoch 86/200\n",
      "12/12 [==============================] - 1s 76ms/step - loss: 0.2205 - acc: 0.8734 - precision: 0.7356 - recall: 1.0000 - f1: 0.4174 - val_loss: 0.2145 - val_acc: 0.8783 - val_precision: 0.7418 - val_recall: 1.0000 - val_f1: 0.4221\n",
      "Epoch 87/200\n",
      "12/12 [==============================] - 1s 74ms/step - loss: 0.2200 - acc: 0.8736 - precision: 0.7357 - recall: 1.0000 - f1: 0.4116 - val_loss: 0.2158 - val_acc: 0.8755 - val_precision: 0.7427 - val_recall: 1.0000 - val_f1: 0.4233\n",
      "Epoch 88/200\n",
      "12/12 [==============================] - 1s 78ms/step - loss: 0.2201 - acc: 0.8735 - precision: 0.7360 - recall: 1.0000 - f1: 0.4202 - val_loss: 0.2146 - val_acc: 0.8741 - val_precision: 0.7436 - val_recall: 1.0000 - val_f1: 0.4234\n",
      "Epoch 89/200\n",
      "12/12 [==============================] - 1s 77ms/step - loss: 0.2200 - acc: 0.8733 - precision: 0.7359 - recall: 1.0000 - f1: 0.4199 - val_loss: 0.2136 - val_acc: 0.8782 - val_precision: 0.7420 - val_recall: 1.0000 - val_f1: 0.4222\n",
      "Epoch 90/200\n",
      "12/12 [==============================] - 1s 77ms/step - loss: 0.2197 - acc: 0.8733 - precision: 0.7358 - recall: 1.0000 - f1: 0.4169 - val_loss: 0.2137 - val_acc: 0.8783 - val_precision: 0.7433 - val_recall: 1.0000 - val_f1: 0.4228\n",
      "Epoch 91/200\n",
      "12/12 [==============================] - 1s 78ms/step - loss: 0.2194 - acc: 0.8739 - precision: 0.7358 - recall: 1.0000 - f1: 0.4170 - val_loss: 0.2136 - val_acc: 0.8768 - val_precision: 0.7436 - val_recall: 1.0000 - val_f1: 0.4233\n",
      "Epoch 92/200\n",
      "12/12 [==============================] - 1s 76ms/step - loss: 0.2193 - acc: 0.8741 - precision: 0.7360 - recall: 1.0000 - f1: 0.4198 - val_loss: 0.2141 - val_acc: 0.8782 - val_precision: 0.7433 - val_recall: 1.0000 - val_f1: 0.422896 - acc: 0.8739 - precision: 0.7358 - recall: 1.0000 - f1: 0.42\n",
      "Epoch 93/200\n",
      "12/12 [==============================] - 1s 77ms/step - loss: 0.2199 - acc: 0.8732 - precision: 0.7359 - recall: 1.0000 - f1: 0.4160 - val_loss: 0.2137 - val_acc: 0.8780 - val_precision: 0.7438 - val_recall: 1.0000 - val_f1: 0.4234\n",
      "Epoch 94/200\n",
      "12/12 [==============================] - 1s 76ms/step - loss: 0.2194 - acc: 0.8742 - precision: 0.7360 - recall: 1.0000 - f1: 0.4112 - val_loss: 0.2147 - val_acc: 0.8765 - val_precision: 0.7447 - val_recall: 1.0000 - val_f1: 0.4238\n",
      "Epoch 95/200\n",
      "12/12 [==============================] - 1s 78ms/step - loss: 0.2197 - acc: 0.8741 - precision: 0.7362 - recall: 1.0000 - f1: 0.4147 - val_loss: 0.2149 - val_acc: 0.8780 - val_precision: 0.7451 - val_recall: 1.0000 - val_f1: 0.4239\n",
      "Epoch 96/200\n",
      "12/12 [==============================] - 1s 76ms/step - loss: 0.2276 - acc: 0.8712 - precision: 0.7360 - recall: 0.9997 - f1: 0.4206 - val_loss: 0.2213 - val_acc: 0.8746 - val_precision: 0.7445 - val_recall: 0.9998 - val_f1: 0.4235\n",
      "Epoch 97/200\n",
      "12/12 [==============================] - 1s 77ms/step - loss: 0.2223 - acc: 0.8723 - precision: 0.7358 - recall: 0.9999 - f1: 0.4188 - val_loss: 0.2139 - val_acc: 0.8764 - val_precision: 0.7428 - val_recall: 1.0000 - val_f1: 0.42270.2190 - acc: 0.8745 - precision: 0.7387 - recall: 0.9998 - f1: 0\n",
      "Epoch 98/200\n",
      "12/12 [==============================] - 1s 78ms/step - loss: 0.2203 - acc: 0.8734 - precision: 0.7356 - recall: 1.0000 - f1: 0.4181 - val_loss: 0.2153 - val_acc: 0.8772 - val_precision: 0.7431 - val_recall: 0.9999 - val_f1: 0.4229\n",
      "Epoch 99/200\n",
      "12/12 [==============================] - 1s 76ms/step - loss: 0.2199 - acc: 0.8741 - precision: 0.7356 - recall: 1.0000 - f1: 0.4180 - val_loss: 0.2138 - val_acc: 0.8769 - val_precision: 0.7431 - val_recall: 1.0000 - val_f1: 0.4231\n",
      "Epoch 100/200\n",
      "12/12 [==============================] - 1s 76ms/step - loss: 0.2197 - acc: 0.8738 - precision: 0.7358 - recall: 1.0000 - f1: 0.4142 - val_loss: 0.2137 - val_acc: 0.8772 - val_precision: 0.7428 - val_recall: 1.0000 - val_f1: 0.4224\n",
      "Epoch 101/200\n",
      "12/12 [==============================] - 1s 77ms/step - loss: 0.2195 - acc: 0.8739 - precision: 0.7359 - recall: 1.0000 - f1: 0.4151 - val_loss: 0.2147 - val_acc: 0.8781 - val_precision: 0.7429 - val_recall: 1.0000 - val_f1: 0.4237\n",
      "Epoch 102/200\n",
      "12/12 [==============================] - 1s 76ms/step - loss: 0.2201 - acc: 0.8731 - precision: 0.7358 - recall: 1.0000 - f1: 0.4193 - val_loss: 0.2135 - val_acc: 0.8779 - val_precision: 0.7435 - val_recall: 1.0000 - val_f1: 0.4228\n",
      "Epoch 103/200\n",
      "12/12 [==============================] - 1s 76ms/step - loss: 0.2194 - acc: 0.8737 - precision: 0.7360 - recall: 1.0000 - f1: 0.4144 - val_loss: 0.2142 - val_acc: 0.8763 - val_precision: 0.7438 - val_recall: 1.0000 - val_f1: 0.4233\n",
      "Epoch 104/200\n",
      "12/12 [==============================] - 1s 76ms/step - loss: 0.2192 - acc: 0.8743 - precision: 0.7360 - recall: 1.0000 - f1: 0.4178 - val_loss: 0.2133 - val_acc: 0.8782 - val_precision: 0.7434 - val_recall: 1.0000 - val_f1: 0.4231\n",
      "Epoch 105/200\n",
      "12/12 [==============================] - 1s 75ms/step - loss: 0.2189 - acc: 0.8742 - precision: 0.7361 - recall: 1.0000 - f1: 0.4173 - val_loss: 0.2134 - val_acc: 0.8765 - val_precision: 0.7436 - val_recall: 1.0000 - val_f1: 0.4233\n",
      "Epoch 106/200\n",
      "12/12 [==============================] - 1s 77ms/step - loss: 0.2193 - acc: 0.8738 - precision: 0.7361 - recall: 1.0000 - f1: 0.4166 - val_loss: 0.2136 - val_acc: 0.8767 - val_precision: 0.7436 - val_recall: 1.0000 - val_f1: 0.4234\n",
      "Epoch 107/200\n",
      "12/12 [==============================] - 1s 76ms/step - loss: 0.2201 - acc: 0.8722 - precision: 0.7362 - recall: 1.0000 - f1: 0.4120 - val_loss: 0.2141 - val_acc: 0.8781 - val_precision: 0.7420 - val_recall: 1.0000 - val_f1: 0.42220.2208 - acc: 0.8727 - precision: 0.7363 - recall: 1.0000 - f1: \n",
      "Epoch 108/200\n",
      "12/12 [==============================] - 1s 76ms/step - loss: 0.2200 - acc: 0.8735 - precision: 0.7361 - recall: 1.0000 - f1: 0.4163 - val_loss: 0.2162 - val_acc: 0.8718 - val_precision: 0.7439 - val_recall: 1.0000 - val_f1: 0.4228\n",
      "Epoch 109/200\n",
      "12/12 [==============================] - 1s 77ms/step - loss: 0.2200 - acc: 0.8738 - precision: 0.7363 - recall: 1.0000 - f1: 0.4160 - val_loss: 0.2136 - val_acc: 0.8784 - val_precision: 0.7438 - val_recall: 1.0000 - val_f1: 0.4234\n",
      "Epoch 110/200\n",
      "12/12 [==============================] - 1s 77ms/step - loss: 0.2196 - acc: 0.8738 - precision: 0.7364 - recall: 1.0000 - f1: 0.4148 - val_loss: 0.2167 - val_acc: 0.8757 - val_precision: 0.7453 - val_recall: 0.9999 - val_f1: 0.4241\n",
      "Epoch 111/200\n",
      "12/12 [==============================] - 1s 77ms/step - loss: 0.2200 - acc: 0.8734 - precision: 0.7365 - recall: 0.9999 - f1: 0.4167 - val_loss: 0.2137 - val_acc: 0.8769 - val_precision: 0.7436 - val_recall: 1.0000 - val_f1: 0.4233\n",
      "Epoch 112/200\n",
      "12/12 [==============================] - 1s 76ms/step - loss: 0.2216 - acc: 0.8722 - precision: 0.7363 - recall: 1.0000 - f1: 0.4189 - val_loss: 0.2143 - val_acc: 0.8775 - val_precision: 0.7431 - val_recall: 1.0000 - val_f1: 0.42252213 - acc: 0.8724 - precision: 0.7367 - recall: 1.0000 - f1: 0.42\n",
      "Epoch 113/200\n",
      "12/12 [==============================] - 1s 76ms/step - loss: 0.2209 - acc: 0.8731 - precision: 0.7364 - recall: 0.9999 - f1: 0.4208 - val_loss: 0.2140 - val_acc: 0.8788 - val_precision: 0.7444 - val_recall: 1.0000 - val_f1: 0.4232\n",
      "Epoch 114/200\n",
      "12/12 [==============================] - 1s 76ms/step - loss: 0.2226 - acc: 0.8726 - precision: 0.7361 - recall: 1.0000 - f1: 0.4132 - val_loss: 0.2143 - val_acc: 0.8762 - val_precision: 0.7426 - val_recall: 1.0000 - val_f1: 0.4232\n",
      "Epoch 115/200\n",
      "12/12 [==============================] - 1s 76ms/step - loss: 0.2202 - acc: 0.8732 - precision: 0.7365 - recall: 1.0000 - f1: 0.4147 - val_loss: 0.2146 - val_acc: 0.8786 - val_precision: 0.7435 - val_recall: 0.9999 - val_f1: 0.42258 - acc: 0.8724 - precision: 0.7368 - recall: 1.0000 - f1: 0.41\n",
      "Epoch 116/200\n",
      "12/12 [==============================] - 1s 76ms/step - loss: 0.2201 - acc: 0.8733 - precision: 0.7360 - recall: 1.0000 - f1: 0.4179 - val_loss: 0.2143 - val_acc: 0.8773 - val_precision: 0.7435 - val_recall: 1.0000 - val_f1: 0.4235\n",
      "Epoch 117/200\n",
      "12/12 [==============================] - 1s 76ms/step - loss: 0.2193 - acc: 0.8742 - precision: 0.7360 - recall: 1.0000 - f1: 0.4204 - val_loss: 0.2136 - val_acc: 0.8767 - val_precision: 0.7436 - val_recall: 1.0000 - val_f1: 0.4232\n",
      "Epoch 118/200\n",
      "12/12 [==============================] - 1s 77ms/step - loss: 0.2192 - acc: 0.8744 - precision: 0.7362 - recall: 1.0000 - f1: 0.4207 - val_loss: 0.2133 - val_acc: 0.8785 - val_precision: 0.7432 - val_recall: 1.0000 - val_f1: 0.4228\n",
      "Epoch 119/200\n",
      "12/12 [==============================] - 1s 78ms/step - loss: 0.2190 - acc: 0.8741 - precision: 0.7362 - recall: 1.0000 - f1: 0.4170 - val_loss: 0.2130 - val_acc: 0.8787 - val_precision: 0.7435 - val_recall: 1.0000 - val_f1: 0.4233\n",
      "Epoch 120/200\n",
      "12/12 [==============================] - 1s 77ms/step - loss: 0.2188 - acc: 0.8744 - precision: 0.7363 - recall: 1.0000 - f1: 0.4154 - val_loss: 0.2133 - val_acc: 0.8774 - val_precision: 0.7436 - val_recall: 1.0000 - val_f1: 0.4234\n",
      "Epoch 121/200\n",
      "12/12 [==============================] - 1s 76ms/step - loss: 0.2190 - acc: 0.8741 - precision: 0.7362 - recall: 1.0000 - f1: 0.4163 - val_loss: 0.2130 - val_acc: 0.8782 - val_precision: 0.7435 - val_recall: 1.0000 - val_f1: 0.4233\n",
      "Epoch 122/200\n",
      "12/12 [==============================] - 1s 76ms/step - loss: 0.2201 - acc: 0.8723 - precision: 0.7362 - recall: 1.0000 - f1: 0.4170 - val_loss: 0.2151 - val_acc: 0.8777 - val_precision: 0.7428 - val_recall: 1.0000 - val_f1: 0.4227\n",
      "Epoch 123/200\n",
      "12/12 [==============================] - 1s 77ms/step - loss: 0.2201 - acc: 0.8732 - precision: 0.7363 - recall: 1.0000 - f1: 0.4188 - val_loss: 0.2141 - val_acc: 0.8752 - val_precision: 0.7439 - val_recall: 1.0000 - val_f1: 0.4234\n",
      "Epoch 124/200\n",
      "12/12 [==============================] - 1s 77ms/step - loss: 0.2198 - acc: 0.8735 - precision: 0.7363 - recall: 1.0000 - f1: 0.4190 - val_loss: 0.2144 - val_acc: 0.8747 - val_precision: 0.7436 - val_recall: 1.0000 - val_f1: 0.4234\n",
      "Epoch 125/200\n",
      "12/12 [==============================] - 1s 76ms/step - loss: 0.2192 - acc: 0.8738 - precision: 0.7362 - recall: 1.0000 - f1: 0.4160 - val_loss: 0.2137 - val_acc: 0.8782 - val_precision: 0.7436 - val_recall: 1.0000 - val_f1: 0.4234\n"
     ]
    }
   ],
   "source": [
    "# configure problem\n",
    "import tensorflow as tf\n",
    "n_features_input = 2\n",
    "n_features_output = 4\n",
    "n_units = 128\n",
    "\n",
    "#from keras.callbacks import ReduceLROnPlateau\n",
    "#reduce_lr = ReduceLROnPlateau(monitor='val_f1', factor=0.2, patience=15, min_lr=0.001)\n",
    "\n",
    "# define model\n",
    "train, infenc, infdec = define_models(n_features_input, n_features_output, n_units)\n",
    "\n",
    "loss = tf.keras.losses.CategoricalCrossentropy()\n",
    "optimizer = tf.keras.optimizers.Adam(learning_rate=3e-4)\n",
    "#optimizer = tf.keras.optimizers.SGD(learning_rate=0.01, momentum=0, nesterov=False)\n",
    "\n",
    "early_stop = tf.keras.callbacks.EarlyStopping(monitor=\"val_f1\", mode='max', patience = 15, restore_best_weights=True)\n",
    "\n",
    "train.compile(loss=loss, optimizer=optimizer, metrics=['acc', precision, recall, f1])\n",
    "\n",
    "# generate training dataset\n",
    "print(X1.shape,X2.shape,Y.shape)\n",
    "# train model\n",
    "history = train.fit([X1, X2], Y, batch_size=32, epochs=200, validation_data=([X1_valid, X2_valid],Y_valid),callbacks=[early_stop])"
   ]
  },
  {
   "cell_type": "code",
   "execution_count": 55,
   "metadata": {
    "colab": {
     "base_uri": "https://localhost:8080/",
     "height": 466
    },
    "id": "LSskGcgAyApb",
    "outputId": "ef04e60f-aa62-4f1f-8fbe-6edee44aecdd"
   },
   "outputs": [
    {
     "data": {
      "image/png": "[encoded data removed]",
      "text/plain": [
       "<IPython.core.display.Image object>"
      ]
     },
     "execution_count": 55,
     "metadata": {},
     "output_type": "execute_result"
    }
   ],
   "source": [
    "from tensorflow.keras.utils import plot_model\n",
    "tf.keras.utils.plot_model(train,to_file='model.png')\n",
    "#tf.keras.utils.plot_model(train,to_file='/content/model.png')"
   ]
  },
  {
   "cell_type": "code",
   "execution_count": 56,
   "metadata": {
    "colab": {
     "base_uri": "https://localhost:8080/",
     "height": 573
    },
    "id": "8gZCeNdKL3MC",
    "outputId": "97cc2d4a-b4b2-4552-c339-7eebe03e5c66"
   },
   "outputs": [
    {
     "name": "stdout",
     "output_type": "stream",
     "text": [
      "dict_keys(['loss', 'acc', 'precision', 'recall', 'f1', 'val_loss', 'val_acc', 'val_precision', 'val_recall', 'val_f1'])\n"
     ]
    },
    {
     "data": {
      "image/png": "[encoded data removed]",
      "text/plain": [
       "<Figure size 432x288 with 1 Axes>"
      ]
     },
     "metadata": {
      "needs_background": "light"
     },
     "output_type": "display_data"
    },
    {
     "data": {
      "image/png": "[encoded data removed]",
      "text/plain": [
       "<Figure size 432x288 with 1 Axes>"
      ]
     },
     "metadata": {
      "needs_background": "light"
     },
     "output_type": "display_data"
    }
   ],
   "source": [
    "import matplotlib.pyplot as plt \n",
    "print(history.history.keys())\n",
    "# summarize history for F1Score\n",
    "plt.plot(history.history['f1'])\n",
    "plt.plot(history.history['val_f1'])\n",
    "plt.title('model F1Score')\n",
    "plt.ylabel('F1Score')\n",
    "plt.xlabel('epoch')\n",
    "plt.legend(['train', 'test'], loc='upper left')\n",
    "plt.show()\n",
    "# summarize history for loss\n",
    "plt.plot(history.history['loss'])\n",
    "plt.plot(history.history['val_loss'])\n",
    "plt.title('model loss')\n",
    "plt.ylabel('loss')\n",
    "plt.xlabel('epoch')\n",
    "plt.legend(['train', 'test'], loc='upper left')\n",
    "plt.show()"
   ]
  },
  {
   "cell_type": "code",
   "execution_count": 57,
   "metadata": {
    "id": "2WI0daUsL3MC"
   },
   "outputs": [],
   "source": [
    "# generate target given source sequence\n",
    "def predict_sequence(infenc, infdec, input, n_steps_out, n_features): \n",
    "  #n_steps_out->no. of time-step in output\n",
    "  #n_features->no. of features in output\n",
    "\t# encode\n",
    "\tstate = infenc.predict([input])\n",
    "\t# start of sequence input\n",
    "\ttarget_seq = array([0.0 for _ in range(n_features)]).reshape(1, 1, n_features)\n",
    "\t# collect predictions\n",
    "\toutput = list()\n",
    "\tfor t in range(n_steps_out):\n",
    "\t\t# predict next char\n",
    "\t\tyhat, h, c = infdec.predict([[target_seq] + state])\n",
    "\t\t# store prediction\n",
    "\t\toutput.append(yhat[0,0,:])\n",
    "\t\t# update state\n",
    "\t\tstate = [h, c]\n",
    "\t\t# update target sequence\n",
    "\t\ttarget_seq = yhat\n",
    "\treturn array(output)"
   ]
  },
  {
   "cell_type": "code",
   "execution_count": 58,
   "metadata": {},
   "outputs": [],
   "source": [
    "def one_hot_decode(encoded_seq):\n",
    "\treturn [argmax(vector) for vector in encoded_seq]"
   ]
  },
  {
   "cell_type": "markdown",
   "metadata": {
    "id": "BsdJLs3BL3MC"
   },
   "source": [
    "### Evaluate with test sample"
   ]
  },
  {
   "cell_type": "code",
   "execution_count": null,
   "metadata": {},
   "outputs": [],
   "source": [
    "prediction= []\n",
    "n_features=4\n",
    "n_steps_out = 267\n",
    "for i in range(X1_test.shape[0]):\n",
    "  test = X1_test[i]\n",
    "  test = test[newaxis,:, :]\n",
    "  pred = predict_sequence(infenc, infdec, test, n_steps_out, n_features)\n",
    "  pred = one_hot_decode(pred)\n",
    "  prediction.extend(pred)"
   ]
  },
  {
   "cell_type": "code",
   "execution_count": null,
   "metadata": {},
   "outputs": [],
   "source": [
    "compiled_data = get_compiled_data(\"C:/Users/ASUS/Desktop/system_code/dataset-460-40/y_test\")\n",
    "#compiled_data = get_compiled_data(\"/gdrive/MyDrive/dataset-460-40/y_test/\")"
   ]
  },
  {
   "cell_type": "code",
   "execution_count": null,
   "metadata": {},
   "outputs": [],
   "source": [
    "truth = []\n",
    "for i in range(len(compiled_data)):\n",
    "  data = compiled_data[i]                                   \n",
    "  while len(data) < 267:                          \n",
    "    data.append(2)\n",
    "  truth.extend(data)"
   ]
  },
  {
   "cell_type": "code",
   "execution_count": null,
   "metadata": {},
   "outputs": [],
   "source": [
    "from sklearn.metrics import confusion_matrix\n",
    "from sklearn.metrics import classification_report"
   ]
  },
  {
   "cell_type": "code",
   "execution_count": null,
   "metadata": {},
   "outputs": [],
   "source": [
    "matrix = confusion_matrix(truth, prediction, labels=[0,1,2])\n",
    "print('Confusion matrix : \\n',matrix)\n",
    "print(classification_report(truth, prediction, labels=[0,1,2]))"
   ]
  },
  {
   "cell_type": "code",
   "execution_count": null,
   "metadata": {},
   "outputs": [],
   "source": []
  },
  {
   "cell_type": "markdown",
   "metadata": {},
   "source": [
    "### Examine single test sample"
   ]
  },
  {
   "cell_type": "code",
   "execution_count": null,
   "metadata": {},
   "outputs": [],
   "source": [
    "test = X1_test[0]\n",
    "test.shape\n",
    "test = test[newaxis,:, :]\n",
    "test.shape"
   ]
  },
  {
   "cell_type": "code",
   "execution_count": null,
   "metadata": {},
   "outputs": [],
   "source": [
    "n_features=4\n",
    "n_steps_out = 267\n",
    "prediction = predict_sequence(infenc, infdec, test, n_steps_out, n_features)\n",
    "prediction = one_hot_decode(prediction)\n",
    "prediction = np.array(prediction)"
   ]
  },
  {
   "cell_type": "code",
   "execution_count": null,
   "metadata": {},
   "outputs": [],
   "source": [
    "truth = Y_test[0]\n",
    "truth = one_hot_decode(truth)\n",
    "truth = np.array(truth)"
   ]
  },
  {
   "cell_type": "code",
   "execution_count": null,
   "metadata": {},
   "outputs": [],
   "source": [
    "matrix = confusion_matrix(truth, prediction, labels=[0,1,2])\n",
    "print('Confusion matrix : \\n',matrix)\n",
    "print(classification_report(truth, prediction, labels=[0,1,2]))"
   ]
  },
  {
   "cell_type": "code",
   "execution_count": null,
   "metadata": {},
   "outputs": [],
   "source": [
    "prediction"
   ]
  },
  {
   "cell_type": "code",
   "execution_count": null,
   "metadata": {},
   "outputs": [],
   "source": [
    "truth"
   ]
  },
  {
   "cell_type": "code",
   "execution_count": null,
   "metadata": {},
   "outputs": [],
   "source": []
  }
 ],
 "metadata": {
  "accelerator": "GPU",
  "colab": {
   "collapsed_sections": [],
   "name": "Sequence_Prediction_Seq2Seq_one_hot_output (2).ipynb",
   "provenance": []
  },
  "kernelspec": {
   "display_name": "Python 3",
   "language": "python",
   "name": "python3"
  },
  "language_info": {
   "codemirror_mode": {
    "name": "ipython",
    "version": 3
   },
   "file_extension": ".py",
   "mimetype": "text/x-python",
   "name": "python",
   "nbconvert_exporter": "python",
   "pygments_lexer": "ipython3",
   "version": "3.6.13"
  }
 },
 "nbformat": 4,
 "nbformat_minor": 1
}
