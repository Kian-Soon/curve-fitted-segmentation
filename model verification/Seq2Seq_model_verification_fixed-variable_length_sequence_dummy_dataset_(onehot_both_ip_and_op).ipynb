{
  "nbformat": 4,
  "nbformat_minor": 0,
  "metadata": {
    "colab": {
      "name": "Seq2Seq_model_verification_fixed_length_sequence_dummy_dataset (onehot both ip and op).ipynb",
      "provenance": [],
      "collapsed_sections": []
    },
    "kernelspec": {
      "name": "python3",
      "display_name": "Python 3"
    },
    "language_info": {
      "name": "python"
    }
  },
  "cells": [
    {
      "cell_type": "markdown",
      "metadata": {
        "id": "hwplC89fKU7i"
      },
      "source": [
        "##Purpose of this notebook is to verify the seq2seq model coding (for both LSTM and bi-direction LSTM) via a dummy dataset with fixed sequence length\n",
        "\n",
        "- where both input and output are one-hot encoded"
      ]
    },
    {
      "cell_type": "code",
      "metadata": {
        "id": "MW9Fg-W-JdkZ"
      },
      "source": [
        "import numpy as np\n",
        "from numpy import array\n",
        "from numpy import argmax\n",
        "from random import randint\n",
        "from numpy import array_equal\n",
        "import tensorflow as tf\n",
        "from tensorflow.keras.utils import to_categorical\n",
        "from keras.models import Model\n",
        "from keras.layers import Input, LSTM, Dense"
      ],
      "execution_count": null,
      "outputs": []
    },
    {
      "cell_type": "markdown",
      "metadata": {
        "id": "O2JBxrG_JARZ"
      },
      "source": [
        "#Dummy dataset creation \n",
        "- with fixed sequence length of 10"
      ]
    },
    {
      "cell_type": "code",
      "metadata": {
        "id": "2JdBlrFSZB8M"
      },
      "source": [
        "#Function to generate a sequence of integers (e.g. from 0 to 499) \n",
        "def generate_sequence(length, n_unique):\n",
        "\treturn [randint(0, n_unique-1) for _ in range(length)]"
      ],
      "execution_count": null,
      "outputs": []
    },
    {
      "cell_type": "code",
      "metadata": {
        "id": "GH5LRjuiiPJV"
      },
      "source": [
        "#n_unique -> no. of unique digits (0,1,2,3,4,,...,499) to be chosen for use in each sample of input sequence\n",
        "#n_samples -> total no. of samples in dataset\n",
        "\n",
        "#Function to return arrays of dataset for encoder input, decoder input and decoder output\n",
        "def get_dataset(n_unique, n_samples):\n",
        "\n",
        "    encoder_input = list()\n",
        "    decoder_input = list()\n",
        "    decoder_output = list()\n",
        "\n",
        "    for _ in range(n_samples):\n",
        "\n",
        "        length = 10\n",
        "        #length = randint(20, 267)\n",
        "        \n",
        "        encoder_ip = list()\n",
        "        encoder_ip_x = generate_sequence(length, n_unique) #list of x-coordinates of encoder input\n",
        "        encoder_ip_y = generate_sequence(length, n_unique) #list y-coordinates of encoder input\n",
        "\n",
        "        for i in range(length):\n",
        "            coordinate_pair = (encoder_ip_x[i], encoder_ip_y[i])\n",
        "            encoder_ip.append(coordinate_pair)\n",
        "        while len(encoder_ip) < 10: \n",
        "          encoder_ip.append([500,500]) \n",
        "\n",
        "        x_sum = 0\n",
        "        x_coord_running_sum = list()  #list of x_coord running sum\n",
        "        for i in range(length):\n",
        "            x_sum = x_sum + encoder_ip[i][0]\n",
        "            x_coord_running_sum.append(x_sum)\n",
        "\n",
        "        y_sum = 0\n",
        "        y_coord_running_sum = list()  #list of y_coord running sum\n",
        "        for i in range(length):\n",
        "            y_sum = y_sum + encoder_ip[i][1]\n",
        "            y_coord_running_sum.append(y_sum)\n",
        "\n",
        "        decoder_op = list()\n",
        "        for i in range(length): \n",
        "            if (x_coord_running_sum[i] + y_coord_running_sum[i])%2 == 0: #if sum of x and y coord is even, output is even; else output is odd\n",
        "                op = 0\n",
        "            else:\n",
        "                op = 1\n",
        "            decoder_op.append(op)\n",
        "        while len(decoder_op) < 10:\n",
        "          decoder_op.append(0)\n",
        "\n",
        "        decoder_ip =  [2] + decoder_op[:-1] #decoder_ip is one time-step ahead of decoder_op\n",
        "\n",
        "        encoder_input.append(encoder_ip)\n",
        "        decoder_input.append(decoder_ip)\n",
        "        decoder_output.append(decoder_op)\n",
        "\n",
        "    X1=np.array(encoder_input)\n",
        "    X2=np.array(decoder_input).reshape(n_samples,10,1)\n",
        "    Y=np.array(decoder_output).reshape(n_samples,10,1)\n",
        "\n",
        "    #One-hot-encode\n",
        "    encoder_input_onehot=list()\n",
        "    for i in range(X2.shape[0]):\n",
        "        row=list()\n",
        "        for j in range(10):\n",
        "            row.append(X1[i][j][0])\n",
        "            row.append(X1[i][j][1])\n",
        "        encoder_input_onehot.append(row)\n",
        "    encoder_input_onehot = np.array(encoder_input_onehot)\n",
        "    encoder_input_onehot = to_categorical([encoder_input_onehot], num_classes=10)\n",
        "\n",
        "    decoder_input_onehot = to_categorical([X2], num_classes=3)\n",
        "    decoder_output_onehot = to_categorical([Y], num_classes=3)\n",
        "\n",
        "    encoder_input_onehot = encoder_input_onehot.reshape(n_samples,20,10)\n",
        "    decoder_input_onehot = decoder_input_onehot.reshape(n_samples,10,3)\n",
        "    decoder_output_onehot = decoder_output_onehot.reshape(n_samples,10,3)\n",
        "\n",
        "    return encoder_input_onehot, decoder_input_onehot, decoder_output_onehot\n",
        "   "
      ],
      "execution_count": null,
      "outputs": []
    },
    {
      "cell_type": "code",
      "metadata": {
        "id": "XbDWUFlZZB_r"
      },
      "source": [
        "n_unique = 10\n",
        "n_samples = 100000\n",
        "X1, X2, Y = get_dataset(n_unique, n_samples)"
      ],
      "execution_count": null,
      "outputs": []
    },
    {
      "cell_type": "code",
      "metadata": {
        "colab": {
          "base_uri": "https://localhost:8080/"
        },
        "id": "GlqJot_kdBun",
        "outputId": "340449ae-c679-4435-e5dc-99c7926dfa2b"
      },
      "source": [
        "print(X1.shape,X2.shape,Y.shape)"
      ],
      "execution_count": null,
      "outputs": [
        {
          "output_type": "stream",
          "name": "stdout",
          "text": [
            "(100000, 20, 10) (100000, 10, 3) (100000, 10, 3)\n"
          ]
        }
      ]
    },
    {
      "cell_type": "code",
      "metadata": {
        "id": "1Q4dqmwBeMDq"
      },
      "source": [
        "n_unique = 10\n",
        "n_samples = 10000\n",
        "X1_valid, X2_valid, Y_valid = get_dataset(n_unique, n_samples)"
      ],
      "execution_count": null,
      "outputs": []
    },
    {
      "cell_type": "code",
      "metadata": {
        "colab": {
          "base_uri": "https://localhost:8080/"
        },
        "id": "h5Hde8Vf4rSC",
        "outputId": "ec201444-acf2-468c-d0b0-cb6a19099b5a"
      },
      "source": [
        "print(X1_valid.shape,X2_valid.shape,Y_valid.shape)"
      ],
      "execution_count": null,
      "outputs": [
        {
          "output_type": "stream",
          "name": "stdout",
          "text": [
            "(10000, 20, 10) (10000, 10, 3) (10000, 10, 3)\n"
          ]
        }
      ]
    },
    {
      "cell_type": "markdown",
      "metadata": {
        "id": "VakP6jjUJJZL"
      },
      "source": [
        "#Model creation and training"
      ]
    },
    {
      "cell_type": "code",
      "metadata": {
        "id": "xeEWTtiDvxLF"
      },
      "source": [
        "#Unidirectional\n",
        "\n",
        "# returns train, inference_encoder and inference_decoder models\n",
        "def define_models(n_features_input, n_features_output, n_units):\n",
        "\n",
        "\t#define training encoder\n",
        "\tencoder_inputs = Input(shape=(None, n_features_input))\n",
        "\tencoder = LSTM(n_units, return_state=True)\n",
        "\tencoder_outputs, state_h, state_c = encoder(encoder_inputs)\n",
        "\tencoder_states = [state_h, state_c]\n",
        "\n",
        "\t#define training decoder\n",
        "\tdecoder_inputs = Input(shape=(None, n_features_output))\n",
        "\tdecoder_lstm = LSTM(n_units, return_sequences=True, return_state=True)\n",
        "\tdecoder_outputs, _, _ = decoder_lstm(decoder_inputs, initial_state=encoder_states)\n",
        "\tdecoder_dense = Dense(n_features_output, activation='softmax')\n",
        "\tdecoder_outputs = decoder_dense(decoder_outputs)\n",
        "\tmodel = Model([encoder_inputs, decoder_inputs], decoder_outputs)\n",
        " \n",
        "\t#define inference encoder\n",
        "\tencoder_model = Model(encoder_inputs, encoder_states)\n",
        " \n",
        "\t#define inference decoder\n",
        "\tdecoder_state_input_h = Input(shape=(n_units,))\n",
        "\tdecoder_state_input_c = Input(shape=(n_units,))\n",
        "\tdecoder_states_inputs = [decoder_state_input_h, decoder_state_input_c]\n",
        "\tdecoder_outputs, state_h, state_c = decoder_lstm(decoder_inputs, initial_state=decoder_states_inputs)\n",
        "\tdecoder_states = [state_h, state_c]\n",
        "\tdecoder_outputs = decoder_dense(decoder_outputs)\n",
        "\tdecoder_model = Model([decoder_inputs] + decoder_states_inputs, [decoder_outputs] + decoder_states)\n",
        " \n",
        "\t#return all models\n",
        "\treturn model, encoder_model, decoder_model"
      ],
      "execution_count": null,
      "outputs": []
    },
    {
      "cell_type": "code",
      "metadata": {
        "id": "Gy8Z6vQsJp4x"
      },
      "source": [
        "# #Bidirectional\n",
        "\n",
        "# # returns train, inference_encoder and inference_decoder models\n",
        "# def define_models(n_features_input, n_features_output, n_units):\n",
        "\n",
        "# \t# define training encoder\n",
        "# \tencoder_inputs = Input(shape=(None, n_features_input))\n",
        "# \tencoder = Bidirectional(LSTM(n_units, return_state=True))                     \n",
        "# \tencoder_outputs, forward_h, forward_c, backward_h, backward_c = encoder(encoder_inputs)\n",
        "# \tstate_h = Concatenate()([forward_h, backward_h])\n",
        "# \tstate_c = Concatenate()([forward_c, backward_c])\n",
        "# \tencoder_states = [state_h, state_c]\n",
        "\n",
        "# \t# define training decoder\n",
        "# \tdecoder_inputs = Input(shape=(None, n_features_output))\n",
        "# \tdecoder_lstm = LSTM(n_units*2, return_sequences=True, return_state=True)      #Multiple by 2 cuz of bidirectional\n",
        "# \tdecoder_outputs, _, _ = decoder_lstm(decoder_inputs, initial_state=encoder_states)\n",
        "# \tdecoder_dense = Dense(n_features_output, activation='softmax')\n",
        "# \tdecoder_outputs = decoder_dense(decoder_outputs)\n",
        "# \tmodel = Model([encoder_inputs, decoder_inputs], decoder_outputs)\n",
        " \n",
        "# \t# define inference encoder\n",
        "# \tencoder_model = Model(encoder_inputs, encoder_states)\n",
        " \n",
        "# \t# define inference decoder\n",
        "# \tdecoder_state_input_h = Input(shape=(n_units*2,))                             #Multiple by 2 cuz of bidirectional\n",
        "# \tdecoder_state_input_c = Input(shape=(n_units*2,))                             #Multiple by 2 cuz of bidirectional\n",
        "# \tdecoder_states_inputs = [decoder_state_input_h, decoder_state_input_c]\n",
        "# \tdecoder_outputs, state_h, state_c = decoder_lstm(decoder_inputs, initial_state=decoder_states_inputs)\n",
        "# \tdecoder_states = [state_h, state_c]\n",
        "# \tdecoder_outputs = decoder_dense(decoder_outputs)\n",
        "# \tdecoder_model = Model([decoder_inputs] + decoder_states_inputs, [decoder_outputs] + decoder_states)\n",
        " \n",
        "# \t# return all models\n",
        "# \treturn model, encoder_model, decoder_model"
      ],
      "execution_count": null,
      "outputs": []
    },
    {
      "cell_type": "code",
      "metadata": {
        "colab": {
          "base_uri": "https://localhost:8080/"
        },
        "id": "PT1rUwemv6tj",
        "outputId": "c6dabce2-0cfb-4b0e-f5cb-36bacbed5d3a"
      },
      "source": [
        "# configure problem\n",
        "n_features_input = 10\n",
        "n_features_output = 3\n",
        "n_units = 128\n",
        "# define model\n",
        "train, infenc, infdec = define_models(n_features_input, n_features_output, n_units)\n",
        "train.compile(optimizer='adam', loss='categorical_crossentropy', metrics=['accuracy'])\n",
        "\n",
        "# generate training dataset\n",
        "print(X1.shape,X2.shape,Y.shape)\n",
        "# train model\n",
        "history = train.fit([X1, X2], Y, batch_size=32, epochs=50)\n"
      ],
      "execution_count": null,
      "outputs": [
        {
          "output_type": "stream",
          "name": "stdout",
          "text": [
            "(100000, 20, 10) (100000, 10, 3) (100000, 10, 3)\n",
            "Epoch 1/50\n",
            "3125/3125 [==============================] - 75s 23ms/step - loss: 0.6953 - accuracy: 0.5003\n",
            "Epoch 2/50\n",
            "3125/3125 [==============================] - 73s 23ms/step - loss: 0.6937 - accuracy: 0.5001\n",
            "Epoch 3/50\n",
            "3125/3125 [==============================] - 74s 24ms/step - loss: 0.6935 - accuracy: 0.5000\n",
            "Epoch 4/50\n",
            "3125/3125 [==============================] - 75s 24ms/step - loss: 0.6934 - accuracy: 0.5000\n",
            "Epoch 5/50\n",
            "3125/3125 [==============================] - 75s 24ms/step - loss: 0.6934 - accuracy: 0.5011\n",
            "Epoch 6/50\n",
            "3125/3125 [==============================] - 76s 24ms/step - loss: 0.6933 - accuracy: 0.4998\n",
            "Epoch 7/50\n",
            "3125/3125 [==============================] - 75s 24ms/step - loss: 0.6778 - accuracy: 0.5188\n",
            "Epoch 8/50\n",
            "3125/3125 [==============================] - 75s 24ms/step - loss: 0.6416 - accuracy: 0.5468\n",
            "Epoch 9/50\n",
            "3125/3125 [==============================] - 73s 23ms/step - loss: 0.5453 - accuracy: 0.6132\n",
            "Epoch 10/50\n",
            "3125/3125 [==============================] - 74s 24ms/step - loss: 0.4535 - accuracy: 0.6807\n",
            "Epoch 11/50\n",
            "3125/3125 [==============================] - 74s 24ms/step - loss: 0.3907 - accuracy: 0.7285\n",
            "Epoch 12/50\n",
            "3125/3125 [==============================] - 76s 24ms/step - loss: 0.3335 - accuracy: 0.7706\n",
            "Epoch 13/50\n",
            "3125/3125 [==============================] - 75s 24ms/step - loss: 0.2733 - accuracy: 0.8182\n",
            "Epoch 14/50\n",
            "3125/3125 [==============================] - 75s 24ms/step - loss: 0.2157 - accuracy: 0.8611\n",
            "Epoch 15/50\n",
            "3125/3125 [==============================] - 74s 24ms/step - loss: 0.1699 - accuracy: 0.8956\n",
            "Epoch 16/50\n",
            "3125/3125 [==============================] - 75s 24ms/step - loss: 0.1100 - accuracy: 0.9403\n",
            "Epoch 17/50\n",
            "3125/3125 [==============================] - 74s 24ms/step - loss: 0.0372 - accuracy: 0.9848\n",
            "Epoch 18/50\n",
            "3125/3125 [==============================] - 73s 23ms/step - loss: 0.0165 - accuracy: 0.9943\n",
            "Epoch 19/50\n",
            "3125/3125 [==============================] - 73s 24ms/step - loss: 0.0113 - accuracy: 0.9963\n",
            "Epoch 20/50\n",
            "3125/3125 [==============================] - 73s 23ms/step - loss: 0.0083 - accuracy: 0.9974\n",
            "Epoch 21/50\n",
            "3125/3125 [==============================] - 74s 24ms/step - loss: 0.0054 - accuracy: 0.9983\n",
            "Epoch 22/50\n",
            "3125/3125 [==============================] - 75s 24ms/step - loss: 0.0055 - accuracy: 0.9983\n",
            "Epoch 23/50\n",
            "3125/3125 [==============================] - 74s 24ms/step - loss: 0.0037 - accuracy: 0.9989\n",
            "Epoch 24/50\n",
            "3125/3125 [==============================] - 72s 23ms/step - loss: 0.0034 - accuracy: 0.9990\n",
            "Epoch 25/50\n",
            "3125/3125 [==============================] - 72s 23ms/step - loss: 0.0031 - accuracy: 0.9990\n",
            "Epoch 26/50\n",
            "3125/3125 [==============================] - 72s 23ms/step - loss: 0.0030 - accuracy: 0.9991\n",
            "Epoch 27/50\n",
            "3125/3125 [==============================] - 73s 23ms/step - loss: 0.0027 - accuracy: 0.9991\n",
            "Epoch 28/50\n",
            "3125/3125 [==============================] - 72s 23ms/step - loss: 0.0019 - accuracy: 0.9995\n",
            "Epoch 29/50\n",
            "3125/3125 [==============================] - 74s 24ms/step - loss: 0.0022 - accuracy: 0.9994\n",
            "Epoch 30/50\n",
            "3125/3125 [==============================] - 73s 23ms/step - loss: 0.0021 - accuracy: 0.9994\n",
            "Epoch 31/50\n",
            "3125/3125 [==============================] - 73s 24ms/step - loss: 0.0019 - accuracy: 0.9994\n",
            "Epoch 32/50\n",
            "3125/3125 [==============================] - 75s 24ms/step - loss: 0.0014 - accuracy: 0.9996\n",
            "Epoch 33/50\n",
            "3125/3125 [==============================] - 74s 24ms/step - loss: 0.0013 - accuracy: 0.9996\n",
            "Epoch 34/50\n",
            "3125/3125 [==============================] - 74s 24ms/step - loss: 0.0018 - accuracy: 0.9995\n",
            "Epoch 35/50\n",
            "3125/3125 [==============================] - 73s 23ms/step - loss: 0.0013 - accuracy: 0.9996\n",
            "Epoch 36/50\n",
            "3125/3125 [==============================] - 74s 24ms/step - loss: 0.0015 - accuracy: 0.9996\n",
            "Epoch 37/50\n",
            "3125/3125 [==============================] - 72s 23ms/step - loss: 0.0011 - accuracy: 0.9997\n",
            "Epoch 38/50\n",
            "3125/3125 [==============================] - 73s 23ms/step - loss: 0.0012 - accuracy: 0.9996\n",
            "Epoch 39/50\n",
            "3125/3125 [==============================] - 73s 23ms/step - loss: 0.0011 - accuracy: 0.9997\n",
            "Epoch 40/50\n",
            "3125/3125 [==============================] - 73s 24ms/step - loss: 9.0698e-04 - accuracy: 0.9997\n",
            "Epoch 41/50\n",
            "3125/3125 [==============================] - 74s 24ms/step - loss: 9.7893e-04 - accuracy: 0.9997\n",
            "Epoch 42/50\n",
            "3125/3125 [==============================] - 73s 23ms/step - loss: 8.2256e-04 - accuracy: 0.9998\n",
            "Epoch 43/50\n",
            "3125/3125 [==============================] - 73s 23ms/step - loss: 0.0011 - accuracy: 0.9997\n",
            "Epoch 44/50\n",
            "3125/3125 [==============================] - 73s 23ms/step - loss: 0.0010 - accuracy: 0.9997\n",
            "Epoch 45/50\n",
            "3125/3125 [==============================] - 73s 23ms/step - loss: 7.9624e-04 - accuracy: 0.9998\n",
            "Epoch 46/50\n",
            "3125/3125 [==============================] - 73s 23ms/step - loss: 7.2317e-04 - accuracy: 0.9998\n",
            "Epoch 47/50\n",
            "3125/3125 [==============================] - 73s 23ms/step - loss: 7.5653e-04 - accuracy: 0.9998\n",
            "Epoch 48/50\n",
            "3125/3125 [==============================] - 74s 24ms/step - loss: 8.4448e-04 - accuracy: 0.9998\n",
            "Epoch 49/50\n",
            "3125/3125 [==============================] - 74s 24ms/step - loss: 8.9147e-04 - accuracy: 0.9997\n",
            "Epoch 50/50\n",
            "3125/3125 [==============================] - 74s 24ms/step - loss: 7.8940e-04 - accuracy: 0.9998\n"
          ]
        }
      ]
    },
    {
      "cell_type": "code",
      "metadata": {
        "id": "2p_MRwqIxUN9"
      },
      "source": [
        "# generate target given source sequence\n",
        "def predict_sequence(infenc, infdec, input, n_steps_out, n_features): \n",
        "  #n_steps_out->no. of time-step in output\n",
        "  #n_features->no. of features in output\n",
        "\t# encode\n",
        "\tstate = infenc.predict(input)\n",
        "\t# start of sequence input\n",
        "\ttarget_seq = array([0.0 for _ in range(n_features)]).reshape(1, 1, n_features)\n",
        "\t# collect predictions\n",
        "\toutput = list()\n",
        "\tfor t in range(n_steps_out):\n",
        "\t\t# predict next char\n",
        "\t\tyhat, h, c = infdec.predict([target_seq] + state)\n",
        "\t\t# store prediction\n",
        "\t\toutput.append(yhat[0,0,:])\n",
        "\t\t# update state\n",
        "\t\tstate = [h, c]\n",
        "\t\t# update target sequence\n",
        "\t\ttarget_seq = yhat\n",
        "\treturn array(output)\n",
        "\n",
        "# decode a one hot encoded string\n",
        "def one_hot_decode(encoded_seq):\n",
        "\treturn [argmax(vector) for vector in encoded_seq]"
      ],
      "execution_count": null,
      "outputs": []
    },
    {
      "cell_type": "markdown",
      "metadata": {
        "id": "vh4FmUC74KAy"
      },
      "source": [
        "#Evaluate with test data"
      ]
    },
    {
      "cell_type": "code",
      "metadata": {
        "colab": {
          "base_uri": "https://localhost:8080/"
        },
        "id": "QYKEdkrzH2Mo",
        "outputId": "c8f3aa5c-eb3d-40c1-8702-bebba5d4d5d3"
      },
      "source": [
        "n_unique = 10\n",
        "n_samples = 1\n",
        "n_steps_out = 10\n",
        "n_features = 3\n",
        "\n",
        "total, correct = 100, 0\n",
        "for _ in range(total):\n",
        "\tX1_test, X2_test, y_test = get_dataset(n_unique, n_samples)\n",
        "\ttarget = predict_sequence(infenc, infdec, X1_test, n_steps_out, n_features)\n",
        "\tif array_equal(one_hot_decode(y_test[0]), one_hot_decode(target)):\n",
        "\t\tcorrect += 1\n",
        "print('Accuracy: %.2f%%' % (float(correct)/float(total)*100.0))"
      ],
      "execution_count": null,
      "outputs": [
        {
          "output_type": "stream",
          "name": "stdout",
          "text": [
            "Accuracy: 100.00%\n"
          ]
        }
      ]
    },
    {
      "cell_type": "markdown",
      "metadata": {
        "id": "LhTzC1UEI1Hq"
      },
      "source": [
        "###Evaluate with one test sample"
      ]
    },
    {
      "cell_type": "code",
      "metadata": {
        "id": "qYiDK-t81Nmk"
      },
      "source": [
        "n_unique = 10\n",
        "n_samples = 1\n",
        "n_steps_out = 10\n",
        "n_features = 3\n",
        "X1_test, X2_test, y_test = get_dataset(n_unique, n_samples)"
      ],
      "execution_count": null,
      "outputs": []
    },
    {
      "cell_type": "code",
      "metadata": {
        "id": "JmY5UYCG1dU8"
      },
      "source": [
        "prediction = predict_sequence(infenc, infdec, X1_test, n_steps_out, n_features)"
      ],
      "execution_count": null,
      "outputs": []
    },
    {
      "cell_type": "code",
      "metadata": {
        "id": "EGaWOL671hQu"
      },
      "source": [
        "prediction = one_hot_decode(prediction)"
      ],
      "execution_count": null,
      "outputs": []
    },
    {
      "cell_type": "code",
      "metadata": {
        "colab": {
          "base_uri": "https://localhost:8080/"
        },
        "id": "BG1SyKWh1wN8",
        "outputId": "bb31f7ed-682e-4c84-b5c9-09fc16279242"
      },
      "source": [
        "prediction"
      ],
      "execution_count": null,
      "outputs": [
        {
          "output_type": "execute_result",
          "data": {
            "text/plain": [
              "[0, 1, 0, 0, 0, 0, 1, 0, 0, 1]"
            ]
          },
          "metadata": {},
          "execution_count": 13
        }
      ]
    },
    {
      "cell_type": "code",
      "metadata": {
        "colab": {
          "base_uri": "https://localhost:8080/"
        },
        "id": "7j4r0rZM12dZ",
        "outputId": "9a10ea7e-2e2b-454e-f835-b0f9b2c4a6b9"
      },
      "source": [
        "y_test"
      ],
      "execution_count": null,
      "outputs": [
        {
          "output_type": "execute_result",
          "data": {
            "text/plain": [
              "array([[[1., 0., 0.],\n",
              "        [0., 1., 0.],\n",
              "        [1., 0., 0.],\n",
              "        [1., 0., 0.],\n",
              "        [1., 0., 0.],\n",
              "        [1., 0., 0.],\n",
              "        [0., 1., 0.],\n",
              "        [1., 0., 0.],\n",
              "        [1., 0., 0.],\n",
              "        [0., 1., 0.]]], dtype=float32)"
            ]
          },
          "metadata": {},
          "execution_count": 14
        }
      ]
    },
    {
      "cell_type": "markdown",
      "metadata": {
        "id": "5t8Pd4ra4QjS"
      },
      "source": [
        "###Evaluate with train data (optional)"
      ]
    },
    {
      "cell_type": "code",
      "metadata": {
        "colab": {
          "base_uri": "https://localhost:8080/"
        },
        "id": "e1dlNGI22nrL",
        "outputId": "4e7e1ff6-7915-4fa0-8208-0b3dbdd2eed3"
      },
      "source": [
        "X1[0].shape"
      ],
      "execution_count": null,
      "outputs": [
        {
          "output_type": "execute_result",
          "data": {
            "text/plain": [
              "(20, 10)"
            ]
          },
          "metadata": {},
          "execution_count": 15
        }
      ]
    },
    {
      "cell_type": "code",
      "metadata": {
        "id": "cq97gvbB2nwB"
      },
      "source": [
        "X1_train = X1[0].reshape(1,20,10)"
      ],
      "execution_count": null,
      "outputs": []
    },
    {
      "cell_type": "code",
      "metadata": {
        "id": "XdkxII_V2161"
      },
      "source": [
        "prediction = predict_sequence(infenc, infdec, X1_train, n_steps_out, n_features)\n"
      ],
      "execution_count": null,
      "outputs": []
    },
    {
      "cell_type": "code",
      "metadata": {
        "id": "k7U0IzDA3MJJ"
      },
      "source": [
        "prediction = one_hot_decode(prediction)"
      ],
      "execution_count": null,
      "outputs": []
    },
    {
      "cell_type": "code",
      "metadata": {
        "colab": {
          "base_uri": "https://localhost:8080/"
        },
        "id": "KGIEToKZ3OuJ",
        "outputId": "5ffb6b57-aa7a-4690-e9dc-778b6fbdf8cb"
      },
      "source": [
        "prediction"
      ],
      "execution_count": null,
      "outputs": [
        {
          "output_type": "execute_result",
          "data": {
            "text/plain": [
              "[1, 0, 0, 0, 1, 1, 1, 1, 1, 1]"
            ]
          },
          "metadata": {},
          "execution_count": 19
        }
      ]
    },
    {
      "cell_type": "code",
      "metadata": {
        "colab": {
          "base_uri": "https://localhost:8080/"
        },
        "id": "KsOLyBNh3PwU",
        "outputId": "ac84be4a-eaa0-4d9e-c1d7-7d18c0c1cc94"
      },
      "source": [
        "Y[0]"
      ],
      "execution_count": null,
      "outputs": [
        {
          "output_type": "execute_result",
          "data": {
            "text/plain": [
              "array([[0., 1., 0.],\n",
              "       [1., 0., 0.],\n",
              "       [1., 0., 0.],\n",
              "       [1., 0., 0.],\n",
              "       [0., 1., 0.],\n",
              "       [0., 1., 0.],\n",
              "       [0., 1., 0.],\n",
              "       [0., 1., 0.],\n",
              "       [0., 1., 0.],\n",
              "       [0., 1., 0.]], dtype=float32)"
            ]
          },
          "metadata": {},
          "execution_count": 20
        }
      ]
    }
  ]
}