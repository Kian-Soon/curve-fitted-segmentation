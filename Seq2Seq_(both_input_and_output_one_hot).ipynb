{
  "nbformat": 4,
  "nbformat_minor": 5,
  "metadata": {
    "accelerator": "GPU",
    "colab": {
      "name": "Seq2Seq_model_(both_input_and_output_one_hot).ipynb",
      "provenance": []
    },
    "kernelspec": {
      "display_name": "Python 3",
      "language": "python",
      "name": "python3"
    },
    "language_info": {
      "codemirror_mode": {
        "name": "ipython",
        "version": 3
      },
      "file_extension": ".py",
      "mimetype": "text/x-python",
      "name": "python",
      "nbconvert_exporter": "python",
      "pygments_lexer": "ipython3",
      "version": "3.6.13"
    }
  },
  "cells": [
    {
      "cell_type": "code",
      "metadata": {
        "id": "kHUerzj32yM5"
      },
      "source": [
        "# import os\n",
        "# os.environ[\"TF_CPP_MIN_LOG_LEVEL\"] = \"3\""
      ],
      "id": "kHUerzj32yM5",
      "execution_count": null,
      "outputs": []
    },
    {
      "cell_type": "code",
      "metadata": {
        "id": "22691c56"
      },
      "source": [
        "# import tensorflow as tf "
      ],
      "id": "22691c56",
      "execution_count": null,
      "outputs": []
    },
    {
      "cell_type": "code",
      "metadata": {
        "id": "1a982b4c"
      },
      "source": [
        "# gpus = tf.config.experimental.list_physical_devices('GPU')\n",
        "# tf.config.experimental.set_memory_growth(gpus[0], True)"
      ],
      "id": "1a982b4c",
      "execution_count": null,
      "outputs": []
    },
    {
      "cell_type": "code",
      "metadata": {
        "colab": {
          "base_uri": "https://localhost:8080/"
        },
        "id": "f5ea2a30",
        "outputId": "60b716b8-c391-40ae-ea0d-85171743094b"
      },
      "source": [
        "# cd C:\\Users\\ASUS\\Desktop\\dataset-460-40"
      ],
      "id": "f5ea2a30",
      "execution_count": null,
      "outputs": [
        {
          "output_type": "stream",
          "name": "stdout",
          "text": [
            "[Errno 2] No such file or directory: 'C:UsersASUSDesktopdataset-460-40'\n",
            "/content\n"
          ]
        }
      ]
    },
    {
      "cell_type": "code",
      "metadata": {
        "id": "c40067a8"
      },
      "source": [
        "import os\n",
        "import json\n",
        "from glob import glob\n",
        "import numpy as np\n",
        "from numpy import array\n",
        "from numpy import argmax\n",
        "from numpy import newaxis\n",
        "import tensorflow as tf\n",
        "from tensorflow.keras.utils import to_categorical\n",
        "from tensorflow.keras.models import Model\n",
        "from tensorflow.keras.layers import Input, LSTM, Bidirectional, Concatenate, Activation, Dense"
      ],
      "id": "c40067a8",
      "execution_count": null,
      "outputs": []
    },
    {
      "cell_type": "code",
      "metadata": {
        "colab": {
          "base_uri": "https://localhost:8080/"
        },
        "id": "cb9b1e80",
        "outputId": "d42a2f12-98e4-4538-cd12-dcf546a1867e"
      },
      "source": [
        "from google.colab import drive\n",
        "drive.mount('/gdrive')"
      ],
      "id": "cb9b1e80",
      "execution_count": null,
      "outputs": [
        {
          "output_type": "stream",
          "name": "stdout",
          "text": [
            "Drive already mounted at /gdrive; to attempt to forcibly remount, call drive.mount(\"/gdrive\", force_remount=True).\n"
          ]
        }
      ]
    },
    {
      "cell_type": "code",
      "metadata": {
        "id": "6f20a501"
      },
      "source": [
        "tf.random.set_seed(123)"
      ],
      "id": "6f20a501",
      "execution_count": null,
      "outputs": []
    },
    {
      "cell_type": "markdown",
      "metadata": {
        "id": "3aeb0356"
      },
      "source": [
        "### Data Preprocessing"
      ],
      "id": "3aeb0356"
    },
    {
      "cell_type": "code",
      "metadata": {
        "id": "ec1ae907"
      },
      "source": [
        "def get_compiled_data(path):\n",
        "    f_path = path\n",
        "    f_list = sorted(glob(os.path.join(f_path, \"*.json\")))\n",
        "\n",
        "    f_compile =[]\n",
        "\n",
        "    for j in f_list: \n",
        "        file = open(j, \"r\")\n",
        "        content = file.read()\n",
        "        data = json.loads(content)\n",
        "        f_compile.append(data)\n",
        "    return f_compile"
      ],
      "id": "ec1ae907",
      "execution_count": null,
      "outputs": []
    },
    {
      "cell_type": "code",
      "metadata": {
        "id": "64b2507b"
      },
      "source": [
        "# X = get_compiled_data(\"C:/Users/ASUS/Desktop/system_code/dataset-460-40/x\")\n",
        "# y = get_compiled_data(\"C:/Users/ASUS/Desktop/system_code/dataset-460-40/y\")\n",
        "X = get_compiled_data(\"/gdrive/MyDrive/dataset-460-40/x/\")\n",
        "y = get_compiled_data(\"/gdrive/MyDrive/dataset-460-40/y/\")"
      ],
      "id": "64b2507b",
      "execution_count": null,
      "outputs": []
    },
    {
      "cell_type": "code",
      "metadata": {
        "colab": {
          "base_uri": "https://localhost:8080/"
        },
        "id": "d9f6dee3",
        "outputId": "6c8bd3cc-27a1-44ad-e7ce-ec2c0a93f210"
      },
      "source": [
        "#Find min and max values of coordinates\n",
        "coord_values = []\n",
        "for i in range(len(X)):\n",
        "  data = X[i] \n",
        "  for j in range(len(data)):\n",
        "    data1 = data[j]\n",
        "    for k in range(len(data1)):\n",
        "      coord_values.append(data1[k])\n",
        "print(min(coord_values))\n",
        "print(max(coord_values))"
      ],
      "id": "d9f6dee3",
      "execution_count": null,
      "outputs": [
        {
          "output_type": "stream",
          "name": "stdout",
          "text": [
            "0\n",
            "499\n"
          ]
        }
      ]
    },
    {
      "cell_type": "code",
      "metadata": {
        "id": "c4f1e0b1"
      },
      "source": [
        "from sklearn.model_selection import train_test_split\n",
        "X_train, X_valid, y_train, y_valid = train_test_split(X, y, test_size=0.1, random_state=1)"
      ],
      "id": "c4f1e0b1",
      "execution_count": null,
      "outputs": []
    },
    {
      "cell_type": "code",
      "metadata": {
        "colab": {
          "base_uri": "https://localhost:8080/"
        },
        "id": "b53b8d0c",
        "outputId": "36645161-390f-407b-d024-a907db7335c7"
      },
      "source": [
        "print(len(X_train), len(y_train)) "
      ],
      "id": "b53b8d0c",
      "execution_count": null,
      "outputs": [
        {
          "output_type": "stream",
          "name": "stdout",
          "text": [
            "414 414\n"
          ]
        }
      ]
    },
    {
      "cell_type": "markdown",
      "metadata": {
        "id": "347b1279"
      },
      "source": [
        "### Data Augmentation for X_train and y_train"
      ],
      "id": "347b1279"
    },
    {
      "cell_type": "code",
      "metadata": {
        "id": "c76cb5e8"
      },
      "source": [
        "# ##Data Augmentation (reverse seq)\n",
        "# for i in range(len(X_train)):\n",
        "#   compiled_x_reverse = X_train[i][::-1]\n",
        "#   X_train.append(compiled_x_reverse)\n",
        "\n",
        "# for i in range(len(y_train)):\n",
        "#   compiled_y_reverse = y_train[i][::-1]\n",
        "#   y_train.append(compiled_y_reverse)"
      ],
      "id": "c76cb5e8",
      "execution_count": null,
      "outputs": []
    },
    {
      "cell_type": "code",
      "metadata": {
        "colab": {
          "base_uri": "https://localhost:8080/"
        },
        "id": "3fa612ea",
        "outputId": "6da004dd-6be4-4710-c4cb-272c67228ffc"
      },
      "source": [
        "# print(len(X_train))\n",
        "# len(y_train)"
      ],
      "id": "3fa612ea",
      "execution_count": null,
      "outputs": [
        {
          "output_type": "stream",
          "name": "stdout",
          "text": [
            "4140\n"
          ]
        },
        {
          "output_type": "execute_result",
          "data": {
            "text/plain": [
              "4140"
            ]
          },
          "metadata": {},
          "execution_count": 22
        }
      ]
    },
    {
      "cell_type": "code",
      "metadata": {
        "id": "717e34f3"
      },
      "source": [
        "# #Data Augmentation (translation by 5 units up and right)\n",
        "# X_train_trans_aug_1 = [[[v+1 for v in inner1] for inner1 in inner] for inner in X_train]\n",
        "# X_train_trans_aug_2 = [[[v+3 for v in inner1] for inner1 in inner] for inner in X_train]\n",
        "# X_train_trans_aug_3 = [[[v+5 for v in inner1] for inner1 in inner] for inner in X_train]\n",
        "# X_train_trans_aug_4 = [[[v+7 for v in inner1] for inner1 in inner] for inner in X_train]"
      ],
      "id": "717e34f3",
      "execution_count": null,
      "outputs": []
    },
    {
      "cell_type": "code",
      "metadata": {
        "id": "2ac21335"
      },
      "source": [
        "# import copy\n",
        "# y_train_trans_aug = copy.deepcopy(y_train)"
      ],
      "id": "2ac21335",
      "execution_count": null,
      "outputs": []
    },
    {
      "cell_type": "code",
      "metadata": {
        "id": "c422bff1"
      },
      "source": [
        "# X_train.extend(X_train_trans_aug_1)\n",
        "# y_train.extend(y_train_trans_aug)\n",
        "\n",
        "# X_train.extend(X_train_trans_aug_2)\n",
        "# y_train.extend(y_train_trans_aug)\n",
        "\n",
        "# X_train.extend(X_train_trans_aug_3)\n",
        "# y_train.extend(y_train_trans_aug)\n",
        "\n",
        "# X_train.extend(X_train_trans_aug_4)\n",
        "# y_train.extend(y_train_trans_aug)"
      ],
      "id": "c422bff1",
      "execution_count": null,
      "outputs": []
    },
    {
      "cell_type": "code",
      "metadata": {
        "id": "2db84c8d",
        "colab": {
          "base_uri": "https://localhost:8080/"
        },
        "outputId": "881b4493-9fd2-4912-fd62-b8ecd971bcc7"
      },
      "source": [
        "# print(len(X_train), len(y_train)) "
      ],
      "id": "2db84c8d",
      "execution_count": null,
      "outputs": [
        {
          "output_type": "stream",
          "name": "stdout",
          "text": [
            "4140 4140\n"
          ]
        }
      ]
    },
    {
      "cell_type": "markdown",
      "metadata": {
        "id": "38d16b77"
      },
      "source": [
        "Remove sequences with values above 499"
      ],
      "id": "38d16b77"
    },
    {
      "cell_type": "code",
      "metadata": {
        "id": "c898c5c6"
      },
      "source": [
        "compiled_x = []\n",
        "compiled_y = []\n",
        "\n",
        "for i, seq in enumerate(X_train):\n",
        "  value_check=[]\n",
        "  for _, coord in enumerate(seq):\n",
        "    coord_01 = coord[0]\n",
        "    coord_02 = coord[1]\n",
        "    value_check.append(coord_01)\n",
        "    value_check.append(coord_02)\n",
        "  if max(value_check) < 500:\n",
        "    compiled_x.append(seq)\n",
        "    compiled_y.append(y_train[i])\n",
        "    "
      ],
      "id": "c898c5c6",
      "execution_count": null,
      "outputs": []
    },
    {
      "cell_type": "code",
      "metadata": {
        "colab": {
          "base_uri": "https://localhost:8080/"
        },
        "id": "406c1ba0",
        "outputId": "99712583-d29e-443b-ea62-04d0c39780f9"
      },
      "source": [
        "print(len(compiled_x), len(compiled_y), len(X_valid), len(y_valid))"
      ],
      "id": "406c1ba0",
      "execution_count": null,
      "outputs": [
        {
          "output_type": "stream",
          "name": "stdout",
          "text": [
            "3786 3786 46 46\n"
          ]
        }
      ]
    },
    {
      "cell_type": "code",
      "metadata": {
        "id": "df3b7b33"
      },
      "source": [
        "#For variable naming standardisation, \"rename\" X_valid to compiled_x_valid\n",
        "compiled_x_valid = X_valid\n",
        "compiled_y_valid = y_valid"
      ],
      "id": "df3b7b33",
      "execution_count": null,
      "outputs": []
    },
    {
      "cell_type": "markdown",
      "metadata": {
        "id": "b47f40bd"
      },
      "source": [
        "### For encoder input (training)"
      ],
      "id": "b47f40bd"
    },
    {
      "cell_type": "code",
      "metadata": {
        "id": "2201398c"
      },
      "source": [
        "encoder_input = []\n",
        "for i in range(len(compiled_x)):\n",
        "  data = compiled_x[i]   \n",
        "  while len(data) < 267:                        #The sequence length of the longest input sample was earlier found to be 267 (not shown in this colab)\n",
        "    data.append([500,500])                      #Make all samples to be of the same sequence length by padding it with 500. \n",
        "  encoder_input.append(data)"
      ],
      "id": "2201398c",
      "execution_count": null,
      "outputs": []
    },
    {
      "cell_type": "code",
      "metadata": {
        "colab": {
          "base_uri": "https://localhost:8080/"
        },
        "id": "84f3b332",
        "outputId": "cda074e8-d7b5-4cbc-e678-f4b21d632f43"
      },
      "source": [
        "encoder_input = np.array(encoder_input)\n",
        "encoder_input.shape"
      ],
      "id": "84f3b332",
      "execution_count": null,
      "outputs": [
        {
          "output_type": "execute_result",
          "data": {
            "text/plain": [
              "(3786, 267, 2)"
            ]
          },
          "metadata": {},
          "execution_count": 28
        }
      ]
    },
    {
      "cell_type": "markdown",
      "metadata": {
        "id": "3d028281"
      },
      "source": [
        "One-hot encode encoder input (training)"
      ],
      "id": "3d028281"
    },
    {
      "cell_type": "code",
      "metadata": {
        "id": "716e3b83"
      },
      "source": [
        "# Concatenate all coordinates side by side so that [(12,15),(23, 30),(32, 41),...] becomes [12,15,23,30,32,41,...]\n",
        "X1 = list()\n",
        "for i in range(encoder_input.shape[0]):\n",
        "  row=list()\n",
        "  for j in range(267):                          #267 because there are 267 time-step in each sequence\n",
        "    row.append(encoder_input[i][j][0])\n",
        "    row.append(encoder_input[i][j][1])\n",
        "  X1.append(row)"
      ],
      "id": "716e3b83",
      "execution_count": null,
      "outputs": []
    },
    {
      "cell_type": "code",
      "metadata": {
        "colab": {
          "base_uri": "https://localhost:8080/"
        },
        "id": "27cd027d",
        "outputId": "3a2ca5e6-2d07-40c8-a8da-1c700c7a3203"
      },
      "source": [
        "X1 = np.array(X1)\n",
        "X1.shape"
      ],
      "id": "27cd027d",
      "execution_count": null,
      "outputs": [
        {
          "output_type": "execute_result",
          "data": {
            "text/plain": [
              "(3786, 534)"
            ]
          },
          "metadata": {},
          "execution_count": 30
        }
      ]
    },
    {
      "cell_type": "code",
      "metadata": {
        "colab": {
          "base_uri": "https://localhost:8080/"
        },
        "id": "d1272330",
        "outputId": "d4ea46de-4421-46b3-f884-c0130b426395"
      },
      "source": [
        "X1 = to_categorical([X1], num_classes=501)      #501 cuz 0-499 for input values, 500 for padding\n",
        "X1.shape"
      ],
      "id": "d1272330",
      "execution_count": null,
      "outputs": [
        {
          "output_type": "execute_result",
          "data": {
            "text/plain": [
              "(1, 3786, 534, 501)"
            ]
          },
          "metadata": {},
          "execution_count": 31
        }
      ]
    },
    {
      "cell_type": "code",
      "metadata": {
        "colab": {
          "base_uri": "https://localhost:8080/"
        },
        "id": "4efdffad",
        "outputId": "b065eec9-77e9-4354-866c-a9f91abe01f3"
      },
      "source": [
        "X1 = X1.reshape(3786, 534, 501)\n",
        "X1.shape"
      ],
      "id": "4efdffad",
      "execution_count": null,
      "outputs": [
        {
          "output_type": "execute_result",
          "data": {
            "text/plain": [
              "(3786, 534, 501)"
            ]
          },
          "metadata": {},
          "execution_count": 33
        }
      ]
    },
    {
      "cell_type": "markdown",
      "metadata": {
        "id": "e0591147"
      },
      "source": [
        "### For encoder input (validation)"
      ],
      "id": "e0591147"
    },
    {
      "cell_type": "code",
      "metadata": {
        "id": "9c6cf379"
      },
      "source": [
        "encoder_input_valid = []\n",
        "for i in range(len(compiled_x_valid)):\n",
        "  data = compiled_x_valid[i]   \n",
        "  while len(data) < 267:                        #The sequence length of the longest input sample was earlier found to be 267 (not shown in this colab)\n",
        "    data.append([500,500])                      #Make all samples to be of the same sequence length by padding it with 500. \n",
        "  encoder_input_valid.append(data)"
      ],
      "id": "9c6cf379",
      "execution_count": null,
      "outputs": []
    },
    {
      "cell_type": "code",
      "metadata": {
        "colab": {
          "base_uri": "https://localhost:8080/"
        },
        "id": "054fcabe",
        "outputId": "bc83de17-c0e1-42a6-8ddb-02211baa89db"
      },
      "source": [
        "encoder_input_valid = np.array(encoder_input_valid)\n",
        "encoder_input_valid.shape"
      ],
      "id": "054fcabe",
      "execution_count": null,
      "outputs": [
        {
          "output_type": "execute_result",
          "data": {
            "text/plain": [
              "(46, 267, 2)"
            ]
          },
          "metadata": {},
          "execution_count": 35
        }
      ]
    },
    {
      "cell_type": "code",
      "metadata": {
        "id": "0db4d4f5"
      },
      "source": [
        "X1_valid = list()\n",
        "for i in range(encoder_input_valid.shape[0]):\n",
        "  row=list()\n",
        "  for j in range(267):                           #267 cuz there are 267 time-step in each sequence\n",
        "    row.append(encoder_input_valid[i][j][0])\n",
        "    row.append(encoder_input_valid[i][j][1])\n",
        "  X1_valid.append(row)"
      ],
      "id": "0db4d4f5",
      "execution_count": null,
      "outputs": []
    },
    {
      "cell_type": "code",
      "metadata": {
        "colab": {
          "base_uri": "https://localhost:8080/"
        },
        "id": "d0133efb",
        "outputId": "0701e74e-ffe7-488a-fa59-1e683c7a89c7"
      },
      "source": [
        "X1_valid = np.array(X1_valid)\n",
        "X1_valid.shape"
      ],
      "id": "d0133efb",
      "execution_count": null,
      "outputs": [
        {
          "output_type": "execute_result",
          "data": {
            "text/plain": [
              "(46, 534)"
            ]
          },
          "metadata": {},
          "execution_count": 37
        }
      ]
    },
    {
      "cell_type": "code",
      "metadata": {
        "colab": {
          "base_uri": "https://localhost:8080/"
        },
        "id": "102eeebe",
        "outputId": "fdff23f0-7ce8-4a97-f5f6-fd07e6fe0c13"
      },
      "source": [
        "X1_valid = to_categorical([X1_valid], num_classes=501)\n",
        "X1_valid.shape"
      ],
      "id": "102eeebe",
      "execution_count": null,
      "outputs": [
        {
          "output_type": "execute_result",
          "data": {
            "text/plain": [
              "(1, 46, 534, 501)"
            ]
          },
          "metadata": {},
          "execution_count": 38
        }
      ]
    },
    {
      "cell_type": "code",
      "metadata": {
        "colab": {
          "base_uri": "https://localhost:8080/"
        },
        "id": "cbbe6284",
        "outputId": "0f1dfa8f-47b2-4efe-8f34-23bcda3402de"
      },
      "source": [
        "X1_valid = X1_valid.reshape(46, 534, 501)\n",
        "X1_valid.shape"
      ],
      "id": "cbbe6284",
      "execution_count": null,
      "outputs": [
        {
          "output_type": "execute_result",
          "data": {
            "text/plain": [
              "(46, 534, 501)"
            ]
          },
          "metadata": {},
          "execution_count": 39
        }
      ]
    },
    {
      "cell_type": "markdown",
      "metadata": {
        "id": "b6d23e75"
      },
      "source": [
        "### For decoder_target (training)"
      ],
      "id": "b6d23e75"
    },
    {
      "cell_type": "code",
      "metadata": {
        "id": "7a91ba78"
      },
      "source": [
        "Y = []\n",
        "for i in range(len(compiled_y)):\n",
        "  data = compiled_y[i]                                   \n",
        "  while len(data) < 267:                         #Make all samples to be of the same sequence length by padding it with \"2\"\n",
        "    data.append(2)\n",
        "  Y.append(data)"
      ],
      "id": "7a91ba78",
      "execution_count": null,
      "outputs": []
    },
    {
      "cell_type": "code",
      "metadata": {
        "colab": {
          "base_uri": "https://localhost:8080/"
        },
        "id": "582f782b",
        "outputId": "e7a0e91f-5c62-4e1f-8b8a-4d8805d612bb"
      },
      "source": [
        "Y = np.array(Y)\n",
        "Y.shape"
      ],
      "id": "582f782b",
      "execution_count": null,
      "outputs": [
        {
          "output_type": "execute_result",
          "data": {
            "text/plain": [
              "(3786, 267)"
            ]
          },
          "metadata": {},
          "execution_count": 41
        }
      ]
    },
    {
      "cell_type": "code",
      "metadata": {
        "colab": {
          "base_uri": "https://localhost:8080/"
        },
        "id": "dbdad920",
        "outputId": "e629fa8e-0f82-43f4-e92e-748dfaa11ae3"
      },
      "source": [
        "Y = Y.reshape(3786, 267, 1)                  \n",
        "Y.shape"
      ],
      "id": "dbdad920",
      "execution_count": null,
      "outputs": [
        {
          "output_type": "execute_result",
          "data": {
            "text/plain": [
              "(3786, 267, 1)"
            ]
          },
          "metadata": {},
          "execution_count": 42
        }
      ]
    },
    {
      "cell_type": "code",
      "metadata": {
        "colab": {
          "base_uri": "https://localhost:8080/"
        },
        "id": "479fe2fe",
        "outputId": "ecc30f02-c80b-4c17-f9ca-c5490063b5fc"
      },
      "source": [
        "Y = to_categorical([Y], num_classes=4)\n",
        "Y.shape"
      ],
      "id": "479fe2fe",
      "execution_count": null,
      "outputs": [
        {
          "output_type": "execute_result",
          "data": {
            "text/plain": [
              "(1, 3786, 267, 4)"
            ]
          },
          "metadata": {},
          "execution_count": 43
        }
      ]
    },
    {
      "cell_type": "code",
      "metadata": {
        "colab": {
          "base_uri": "https://localhost:8080/"
        },
        "id": "46b5f434",
        "outputId": "e3439d28-361c-484d-aca9-e5b3d7dad6c4"
      },
      "source": [
        "Y = Y.reshape(3786, 267, 4)\n",
        "Y.shape"
      ],
      "id": "46b5f434",
      "execution_count": null,
      "outputs": [
        {
          "output_type": "execute_result",
          "data": {
            "text/plain": [
              "(3786, 267, 4)"
            ]
          },
          "metadata": {},
          "execution_count": 44
        }
      ]
    },
    {
      "cell_type": "markdown",
      "metadata": {
        "id": "0ae62d76"
      },
      "source": [
        "### For decoder_target (validation)"
      ],
      "id": "0ae62d76"
    },
    {
      "cell_type": "code",
      "metadata": {
        "id": "012595b1"
      },
      "source": [
        "Y_valid = []\n",
        "for i in range(len(compiled_y_valid)):\n",
        "  data = compiled_y_valid[i]                                   \n",
        "  while len(data) < 267:                        #Make all samples to be of the same sequence length by padding it with \"2\"\n",
        "    data.append(2)\n",
        "  Y_valid.append(data)"
      ],
      "id": "012595b1",
      "execution_count": null,
      "outputs": []
    },
    {
      "cell_type": "code",
      "metadata": {
        "colab": {
          "base_uri": "https://localhost:8080/"
        },
        "id": "cb74fa9f",
        "outputId": "0e6d182e-9973-4b19-9016-b11683919ebe"
      },
      "source": [
        "Y_valid = np.array(Y_valid)\n",
        "Y_valid.shape"
      ],
      "id": "cb74fa9f",
      "execution_count": null,
      "outputs": [
        {
          "output_type": "execute_result",
          "data": {
            "text/plain": [
              "(46, 267)"
            ]
          },
          "metadata": {},
          "execution_count": 46
        }
      ]
    },
    {
      "cell_type": "code",
      "metadata": {
        "colab": {
          "base_uri": "https://localhost:8080/"
        },
        "id": "0abaa3c2",
        "outputId": "4a667507-7bd9-4c56-df55-8775331f82a7"
      },
      "source": [
        "Y_valid = Y_valid.reshape(46, 267, 1)    \n",
        "Y_valid.shape"
      ],
      "id": "0abaa3c2",
      "execution_count": null,
      "outputs": [
        {
          "output_type": "execute_result",
          "data": {
            "text/plain": [
              "(46, 267, 1)"
            ]
          },
          "metadata": {},
          "execution_count": 47
        }
      ]
    },
    {
      "cell_type": "code",
      "metadata": {
        "colab": {
          "base_uri": "https://localhost:8080/"
        },
        "id": "bcf27d99",
        "outputId": "43fda9aa-4575-4a62-a351-4d864d5635ae"
      },
      "source": [
        "Y_valid = to_categorical([Y_valid], num_classes=4)\n",
        "Y_valid.shape"
      ],
      "id": "bcf27d99",
      "execution_count": null,
      "outputs": [
        {
          "output_type": "execute_result",
          "data": {
            "text/plain": [
              "(1, 46, 267, 4)"
            ]
          },
          "metadata": {},
          "execution_count": 48
        }
      ]
    },
    {
      "cell_type": "code",
      "metadata": {
        "colab": {
          "base_uri": "https://localhost:8080/"
        },
        "id": "4e972fd4",
        "outputId": "e6c0f2bb-6065-4618-a7c0-3a9e94d78779"
      },
      "source": [
        "Y_valid = Y_valid.reshape(46, 267, 4)\n",
        "Y_valid.shape"
      ],
      "id": "4e972fd4",
      "execution_count": null,
      "outputs": [
        {
          "output_type": "execute_result",
          "data": {
            "text/plain": [
              "(46, 267, 4)"
            ]
          },
          "metadata": {},
          "execution_count": 49
        }
      ]
    },
    {
      "cell_type": "markdown",
      "metadata": {
        "id": "6dba9b89"
      },
      "source": [
        "### For decoder input (shifted version of decoder target) - (training)"
      ],
      "id": "6dba9b89"
    },
    {
      "cell_type": "code",
      "metadata": {
        "id": "9b934c42"
      },
      "source": [
        "X2 = []\n",
        "for i in range(len(compiled_y)):\n",
        "  data = compiled_y[i] \n",
        "  while len(data) < 267:                         #Make all samples to be of the same sequence length by padding it with two\n",
        "    data.append(2)\n",
        "  data = [3] + data[:-1]                         #3 for indicating start of decoder input sequence (requirement for force teaching)\n",
        "  X2.append(data)"
      ],
      "id": "9b934c42",
      "execution_count": null,
      "outputs": []
    },
    {
      "cell_type": "code",
      "metadata": {
        "colab": {
          "base_uri": "https://localhost:8080/"
        },
        "id": "e4c698ba",
        "outputId": "97b36d72-451d-43d7-a6c9-7c250de6f133"
      },
      "source": [
        "X2 = np.array(X2)\n",
        "X2.shape"
      ],
      "id": "e4c698ba",
      "execution_count": null,
      "outputs": [
        {
          "output_type": "execute_result",
          "data": {
            "text/plain": [
              "(3786, 267)"
            ]
          },
          "metadata": {},
          "execution_count": 51
        }
      ]
    },
    {
      "cell_type": "code",
      "metadata": {
        "colab": {
          "base_uri": "https://localhost:8080/"
        },
        "id": "7b2e9d9a",
        "outputId": "5357d070-f110-4c37-eef1-c0a306bee8e5"
      },
      "source": [
        "X2 = X2.reshape(3786, 267, 1)\n",
        "X2.shape"
      ],
      "id": "7b2e9d9a",
      "execution_count": null,
      "outputs": [
        {
          "output_type": "execute_result",
          "data": {
            "text/plain": [
              "(3786, 267, 1)"
            ]
          },
          "metadata": {},
          "execution_count": 53
        }
      ]
    },
    {
      "cell_type": "code",
      "metadata": {
        "colab": {
          "base_uri": "https://localhost:8080/"
        },
        "id": "fec17b2a",
        "outputId": "55e652b1-25e5-470c-d09c-dcc2a29e517e"
      },
      "source": [
        "X2 = to_categorical([X2], num_classes=4)\n",
        "X2.shape"
      ],
      "id": "fec17b2a",
      "execution_count": null,
      "outputs": [
        {
          "output_type": "execute_result",
          "data": {
            "text/plain": [
              "(1, 3786, 267, 4)"
            ]
          },
          "metadata": {},
          "execution_count": 54
        }
      ]
    },
    {
      "cell_type": "code",
      "metadata": {
        "colab": {
          "base_uri": "https://localhost:8080/"
        },
        "id": "ed73609e",
        "outputId": "bf88d3f1-c58f-424e-a5fe-bac6f4fb1aa5"
      },
      "source": [
        "X2 = X2.reshape(3786, 267, 4)\n",
        "X2.shape"
      ],
      "id": "ed73609e",
      "execution_count": null,
      "outputs": [
        {
          "output_type": "execute_result",
          "data": {
            "text/plain": [
              "(3786, 267, 4)"
            ]
          },
          "metadata": {},
          "execution_count": 56
        }
      ]
    },
    {
      "cell_type": "markdown",
      "metadata": {
        "id": "d7d22cde"
      },
      "source": [
        "### For decoder input (shifted version of decoder target) - (validation)"
      ],
      "id": "d7d22cde"
    },
    {
      "cell_type": "code",
      "metadata": {
        "id": "b47dd18a"
      },
      "source": [
        "X2_valid = []\n",
        "for i in range(len(compiled_y_valid)):\n",
        "  data = compiled_y_valid[i] \n",
        "  while len(data) < 267:                        #Make all samples to be of the same sequence length by padding it with two\n",
        "    data.append(2)\n",
        "  data = [3] + data[:-1]                        #3 for indicating start of decoder input sequence (requirement for force teaching)\n",
        "  X2_valid.append(data)"
      ],
      "id": "b47dd18a",
      "execution_count": null,
      "outputs": []
    },
    {
      "cell_type": "code",
      "metadata": {
        "colab": {
          "base_uri": "https://localhost:8080/"
        },
        "id": "9bbaf201",
        "outputId": "826d5949-82b7-4f6b-bf50-fa1302dd44fc"
      },
      "source": [
        "X2_valid = np.array(X2_valid)\n",
        "X2_valid.shape"
      ],
      "id": "9bbaf201",
      "execution_count": null,
      "outputs": [
        {
          "output_type": "execute_result",
          "data": {
            "text/plain": [
              "(46, 267)"
            ]
          },
          "metadata": {},
          "execution_count": 58
        }
      ]
    },
    {
      "cell_type": "code",
      "metadata": {
        "colab": {
          "base_uri": "https://localhost:8080/"
        },
        "id": "9cd59586",
        "outputId": "d46d0981-4005-42b3-9fcb-3a19dddf4f21"
      },
      "source": [
        "X2_valid = X2_valid.reshape(46, 267, 1)\n",
        "X2_valid.shape"
      ],
      "id": "9cd59586",
      "execution_count": null,
      "outputs": [
        {
          "output_type": "execute_result",
          "data": {
            "text/plain": [
              "(46, 267, 1)"
            ]
          },
          "metadata": {},
          "execution_count": 59
        }
      ]
    },
    {
      "cell_type": "code",
      "metadata": {
        "colab": {
          "base_uri": "https://localhost:8080/"
        },
        "id": "3ca79fa6",
        "outputId": "de97b702-99f9-430b-d909-601f27946bb5"
      },
      "source": [
        "X2_valid = to_categorical([X2_valid], num_classes=4)\n",
        "X2_valid.shape"
      ],
      "id": "3ca79fa6",
      "execution_count": null,
      "outputs": [
        {
          "output_type": "execute_result",
          "data": {
            "text/plain": [
              "(1, 46, 267, 4)"
            ]
          },
          "metadata": {},
          "execution_count": 60
        }
      ]
    },
    {
      "cell_type": "code",
      "metadata": {
        "colab": {
          "base_uri": "https://localhost:8080/"
        },
        "id": "7785b377",
        "outputId": "6d85bd18-f0a5-463c-d5c9-659f18888b2d"
      },
      "source": [
        "X2_valid = X2_valid.reshape(46, 267, 4)\n",
        "X2_valid.shape"
      ],
      "id": "7785b377",
      "execution_count": null,
      "outputs": [
        {
          "output_type": "execute_result",
          "data": {
            "text/plain": [
              "(46, 267, 4)"
            ]
          },
          "metadata": {},
          "execution_count": 61
        }
      ]
    },
    {
      "cell_type": "markdown",
      "metadata": {
        "id": "aceb08ba"
      },
      "source": [
        "### Creation of test samples"
      ],
      "id": "aceb08ba"
    },
    {
      "cell_type": "code",
      "metadata": {
        "id": "261c0403"
      },
      "source": [
        "#compiled_data = get_compiled_data(\"C:/Users/ASUS/Desktop/system_code/dataset-460-40/x_test\")\n",
        "compiled_data = get_compiled_data(\"/gdrive/MyDrive/dataset-460-40/x_test/\")"
      ],
      "id": "261c0403",
      "execution_count": null,
      "outputs": []
    },
    {
      "cell_type": "code",
      "metadata": {
        "id": "48e4b49f"
      },
      "source": [
        "encoder_input_test = []\n",
        "for i in range(len(compiled_data)):\n",
        "  data = compiled_data[i]   \n",
        "  while len(data) < 267:                         #The sequence length of the longest input sample was earlier found to be 267 (not shown in this colab)\n",
        "    data.append([500,500])                       #Make all samples to be of the same sequence length by padding it with 500. \n",
        "  encoder_input_test.append(data)"
      ],
      "id": "48e4b49f",
      "execution_count": null,
      "outputs": []
    },
    {
      "cell_type": "code",
      "metadata": {
        "colab": {
          "base_uri": "https://localhost:8080/"
        },
        "id": "b9e6f7bf",
        "outputId": "06699fce-2fc9-4158-a416-c3147f32dbfa"
      },
      "source": [
        "encoder_input_test = np.array(encoder_input_test)\n",
        "encoder_input_test.shape"
      ],
      "id": "b9e6f7bf",
      "execution_count": null,
      "outputs": [
        {
          "output_type": "execute_result",
          "data": {
            "text/plain": [
              "(40, 267, 2)"
            ]
          },
          "metadata": {},
          "execution_count": 64
        }
      ]
    },
    {
      "cell_type": "code",
      "metadata": {
        "id": "41dd8f25"
      },
      "source": [
        "X1_test = list()\n",
        "for i in range(encoder_input_test.shape[0]):\n",
        "  row=list()\n",
        "  for j in range(267):                           #267 cuz there are 267 time-step in each sequence\n",
        "    row.append(encoder_input_test[i][j][0])\n",
        "    row.append(encoder_input_test[i][j][1])\n",
        "  X1_test.append(row)"
      ],
      "id": "41dd8f25",
      "execution_count": null,
      "outputs": []
    },
    {
      "cell_type": "code",
      "metadata": {
        "colab": {
          "base_uri": "https://localhost:8080/"
        },
        "id": "894ddbcc",
        "outputId": "6444e8e7-0004-4342-bde7-58a02114180f"
      },
      "source": [
        "X1_test = np.array(X1_test)\n",
        "X1_test.shape"
      ],
      "id": "894ddbcc",
      "execution_count": null,
      "outputs": [
        {
          "output_type": "execute_result",
          "data": {
            "text/plain": [
              "(40, 534)"
            ]
          },
          "metadata": {},
          "execution_count": 66
        }
      ]
    },
    {
      "cell_type": "code",
      "metadata": {
        "colab": {
          "base_uri": "https://localhost:8080/"
        },
        "id": "4075a43d",
        "outputId": "9a3b7419-8a78-40f5-d553-b5fb4659ea6d"
      },
      "source": [
        "X1_test = to_categorical([X1_test], num_classes=501)\n",
        "X1_test.shape"
      ],
      "id": "4075a43d",
      "execution_count": null,
      "outputs": [
        {
          "output_type": "execute_result",
          "data": {
            "text/plain": [
              "(1, 40, 534, 501)"
            ]
          },
          "metadata": {},
          "execution_count": 67
        }
      ]
    },
    {
      "cell_type": "code",
      "metadata": {
        "colab": {
          "base_uri": "https://localhost:8080/"
        },
        "id": "a424e4e0",
        "outputId": "6853ff37-f717-46b3-b1d9-0c94488f9fe5"
      },
      "source": [
        "X1_test = X1_test.reshape(40, 534, 501)\n",
        "X1_test.shape"
      ],
      "id": "a424e4e0",
      "execution_count": null,
      "outputs": [
        {
          "output_type": "execute_result",
          "data": {
            "text/plain": [
              "(40, 534, 501)"
            ]
          },
          "metadata": {},
          "execution_count": 68
        }
      ]
    },
    {
      "cell_type": "code",
      "metadata": {
        "id": "072649f8"
      },
      "source": [
        "#compiled_data = get_compiled_data(\"C:/Users/ASUS/Desktop/system_code/dataset-460-40/y_test\")\n",
        "compiled_data = get_compiled_data(\"/gdrive/MyDrive/dataset-460-40/y_test/\")\n"
      ],
      "id": "072649f8",
      "execution_count": null,
      "outputs": []
    },
    {
      "cell_type": "code",
      "metadata": {
        "id": "9dda606e"
      },
      "source": [
        "Y_test = []\n",
        "for i in range(len(compiled_data)):\n",
        "  data = compiled_data[i]                                   \n",
        "  while len(data) < 267:                          #Make all samples to be of the same sequence length by padding it with \"2\"\n",
        "    data.append(2)\n",
        "  Y_test.append(data)"
      ],
      "id": "9dda606e",
      "execution_count": null,
      "outputs": []
    },
    {
      "cell_type": "code",
      "metadata": {
        "colab": {
          "base_uri": "https://localhost:8080/"
        },
        "id": "dce51ced",
        "outputId": "1f0b6a4c-f8c9-43bf-8488-2e373b4f184f"
      },
      "source": [
        "Y_test = np.array(Y_test)\n",
        "Y_test.shape"
      ],
      "id": "dce51ced",
      "execution_count": null,
      "outputs": [
        {
          "output_type": "execute_result",
          "data": {
            "text/plain": [
              "(40, 267)"
            ]
          },
          "metadata": {},
          "execution_count": 71
        }
      ]
    },
    {
      "cell_type": "code",
      "metadata": {
        "colab": {
          "base_uri": "https://localhost:8080/"
        },
        "id": "4ed3c694",
        "outputId": "88efc464-2bdb-4994-fb54-9cb89a415e06"
      },
      "source": [
        "Y_test = Y_test.reshape(40, 267, 1)\n",
        "Y_test.shape"
      ],
      "id": "4ed3c694",
      "execution_count": null,
      "outputs": [
        {
          "output_type": "execute_result",
          "data": {
            "text/plain": [
              "(40, 267, 1)"
            ]
          },
          "metadata": {},
          "execution_count": 72
        }
      ]
    },
    {
      "cell_type": "code",
      "metadata": {
        "colab": {
          "base_uri": "https://localhost:8080/"
        },
        "id": "be9bb6aa",
        "outputId": "154c1b7c-ca64-42ab-85da-d01a1b37746e"
      },
      "source": [
        "Y_test = to_categorical([Y_test], num_classes=4)\n",
        "Y_test.shape"
      ],
      "id": "be9bb6aa",
      "execution_count": null,
      "outputs": [
        {
          "output_type": "execute_result",
          "data": {
            "text/plain": [
              "(1, 40, 267, 4)"
            ]
          },
          "metadata": {},
          "execution_count": 73
        }
      ]
    },
    {
      "cell_type": "code",
      "metadata": {
        "colab": {
          "base_uri": "https://localhost:8080/"
        },
        "id": "94100aab",
        "outputId": "1fade7af-c454-4414-de5d-4ede34553717"
      },
      "source": [
        "Y_test = Y_test.reshape(40, 267, 4)\n",
        "Y_test.shape"
      ],
      "id": "94100aab",
      "execution_count": null,
      "outputs": [
        {
          "output_type": "execute_result",
          "data": {
            "text/plain": [
              "(40, 267, 4)"
            ]
          },
          "metadata": {},
          "execution_count": 74
        }
      ]
    },
    {
      "cell_type": "markdown",
      "metadata": {
        "id": "a25d32c9"
      },
      "source": [
        "### Model Creation"
      ],
      "id": "a25d32c9"
    },
    {
      "cell_type": "markdown",
      "metadata": {
        "id": "323b5291"
      },
      "source": [
        "Model built witih normal LSTM cell"
      ],
      "id": "323b5291"
    },
    {
      "cell_type": "code",
      "metadata": {
        "id": "06da0afe"
      },
      "source": [
        "# # returns train, inference_encoder and inference_decoder models\n",
        "# def define_models(n_features_input, n_features_output, n_units):\n",
        "\n",
        "# \t# define training encoder\n",
        "# \tencoder_inputs = Input(shape=(None, n_features_input))\n",
        "# \tencoder = LSTM(n_units, return_state=True)\n",
        "# \tencoder_outputs, state_h, state_c = encoder(encoder_inputs)\n",
        "# \tencoder_states = [state_h, state_c]\n",
        "\n",
        "# \t# define training decoder\n",
        "# \tdecoder_inputs = Input(shape=(None, n_features_output))\n",
        "# \tdecoder_lstm = LSTM(n_units, return_sequences=True, return_state=True)\n",
        "# \tdecoder_outputs, _, _ = decoder_lstm(decoder_inputs, initial_state=encoder_states)\n",
        "# \tdecoder_dense = Dense(n_features_output, activation='softmax')\n",
        "# \tdecoder_outputs = decoder_dense(decoder_outputs)\n",
        "# \tmodel = Model([encoder_inputs, decoder_inputs], decoder_outputs)\n",
        " \n",
        "# \t# define inference encoder\n",
        "# \tencoder_model = Model(encoder_inputs, encoder_states)\n",
        " \n",
        "# \t# define inference decoder\n",
        "# \tdecoder_state_input_h = Input(shape=(n_units,))\n",
        "# \tdecoder_state_input_c = Input(shape=(n_units,))\n",
        "# \tdecoder_states_inputs = [decoder_state_input_h, decoder_state_input_c]\n",
        "# \tdecoder_outputs, state_h, state_c = decoder_lstm(decoder_inputs, initial_state=decoder_states_inputs)\n",
        "# \tdecoder_states = [state_h, state_c]\n",
        "# \tdecoder_outputs = decoder_dense(decoder_outputs)\n",
        "# \tdecoder_model = Model([decoder_inputs] + decoder_states_inputs, [decoder_outputs] + decoder_states)\n",
        " \n",
        "# \t# return all models\n",
        "# \treturn model, encoder_model, decoder_model"
      ],
      "id": "06da0afe",
      "execution_count": null,
      "outputs": []
    },
    {
      "cell_type": "markdown",
      "metadata": {
        "id": "7a5d043c"
      },
      "source": [
        "Model built with bidirectional LSTM cell"
      ],
      "id": "7a5d043c"
    },
    {
      "cell_type": "code",
      "metadata": {
        "id": "7eec2d70"
      },
      "source": [
        "from keras.layers import Bidirectional, Concatenate\n",
        "\n",
        "# returns train, inference_encoder and inference_decoder models\n",
        "def define_models(n_features_input, n_features_output, n_units):\n",
        "\n",
        "\t# define training encoder\n",
        "\tencoder_inputs = Input(shape=(None, n_features_input))\n",
        "\tencoder = Bidirectional(LSTM(n_units, dropout=0.3, return_state=True))        #Bidirectional LSTM\n",
        "\tencoder_outputs, forward_h, forward_c, backward_h, backward_c = encoder(encoder_inputs)\n",
        "\tstate_h = Concatenate()([forward_h, backward_h])\n",
        "\tstate_c = Concatenate()([forward_c, backward_c])\n",
        "\tencoder_states = [state_h, state_c]\n",
        "\n",
        "\t# define training decoder\n",
        "\tdecoder_inputs = Input(shape=(None, n_features_output))\n",
        "\tdecoder_lstm = LSTM(n_units*2, return_sequences=True, return_state=True)      #Multiple by 2 cuz of bidirectional\n",
        "\tdecoder_outputs, _, _ = decoder_lstm(decoder_inputs, initial_state=encoder_states)\n",
        "\tdecoder_dense = Dense(n_features_output, activation='softmax')\n",
        "\tdecoder_outputs = decoder_dense(decoder_outputs)\n",
        "\tmodel = Model([encoder_inputs, decoder_inputs], decoder_outputs)\n",
        " \n",
        "\t# define inference encoder\n",
        "\tencoder_model = Model(encoder_inputs, encoder_states)\n",
        " \n",
        "\t# define inference decoder\n",
        "\tdecoder_state_input_h = Input(shape=(n_units*2,))                             #Multiple by 2 cuz of bidirectional\n",
        "\tdecoder_state_input_c = Input(shape=(n_units*2,))                             #Multiple by 2 cuz of bidirectional\n",
        "\tdecoder_states_inputs = [decoder_state_input_h, decoder_state_input_c]\n",
        "\tdecoder_outputs, state_h, state_c = decoder_lstm(decoder_inputs, initial_state=decoder_states_inputs)\n",
        "\tdecoder_states = [state_h, state_c]\n",
        "\tdecoder_outputs = decoder_dense(decoder_outputs)\n",
        "\tdecoder_model = Model([decoder_inputs] + decoder_states_inputs, [decoder_outputs] + decoder_states)\n",
        " \n",
        "\t# return all models\n",
        "\treturn model, encoder_model, decoder_model"
      ],
      "id": "7eec2d70",
      "execution_count": null,
      "outputs": []
    },
    {
      "cell_type": "markdown",
      "metadata": {
        "id": "uSfb1oBFQcCW"
      },
      "source": [
        "### Metrics"
      ],
      "id": "uSfb1oBFQcCW"
    },
    {
      "cell_type": "code",
      "metadata": {
        "id": "7e640025"
      },
      "source": [
        "precision =tf.keras.metrics.Precision()\n",
        "recall = tf.keras.metrics.Recall()"
      ],
      "id": "7e640025",
      "execution_count": null,
      "outputs": []
    },
    {
      "cell_type": "code",
      "metadata": {
        "id": "c9d85bb2"
      },
      "source": [
        "from tensorflow.keras import backend as K\n",
        "\n",
        "def f1(y_true, y_pred):\n",
        "    y_pred = K.round(y_pred)\n",
        "    tp = K.sum(K.cast(y_true*y_pred, 'float'), axis=0)\n",
        "    tn = K.sum(K.cast((1-y_true)*(1-y_pred), 'float'), axis=0)\n",
        "    fp = K.sum(K.cast((1-y_true)*y_pred, 'float'), axis=0)\n",
        "    fn = K.sum(K.cast(y_true*(1-y_pred), 'float'), axis=0)\n",
        "\n",
        "    p = tp / (tp + fp + K.epsilon())\n",
        "    r = tp / (tp + fn + K.epsilon())\n",
        "\n",
        "    f1 = 2*p*r / (p+r+K.epsilon())\n",
        "    f1 = tf.where(tf.math.is_nan(f1), tf.zeros_like(f1), f1)\n",
        "    return K.mean(f1)\n",
        "\n",
        "def f1_loss(y_true, y_pred):\n",
        "    \n",
        "    tp = K.sum(K.cast(y_true*y_pred, 'float'), axis=0)\n",
        "    tn = K.sum(K.cast((1-y_true)*(1-y_pred), 'float'), axis=0)\n",
        "    fp = K.sum(K.cast((1-y_true)*y_pred, 'float'), axis=0)\n",
        "    fn = K.sum(K.cast(y_true*(1-y_pred), 'float'), axis=0)\n",
        "\n",
        "    p = tp / (tp + fp + K.epsilon())\n",
        "    r = tp / (tp + fn + K.epsilon())\n",
        "\n",
        "    f1 = 2*p*r / (p+r+K.epsilon())    \n",
        "    f1 = tf.where(tf.math.is_nan(f1), tf.zeros_like(f1), f1)\n",
        "\n",
        "    \n",
        "    return 1 - K.mean(f1)"
      ],
      "id": "c9d85bb2",
      "execution_count": null,
      "outputs": []
    },
    {
      "cell_type": "code",
      "metadata": {
        "colab": {
          "base_uri": "https://localhost:8080/"
        },
        "id": "790a0122",
        "outputId": "8d6cde95-1b7d-4c38-f170-83779f446553"
      },
      "source": [
        "# configure problem\n",
        "import tensorflow as tf\n",
        "n_features_input = 501\n",
        "n_features_output = 4\n",
        "n_units = 128\n",
        "\n",
        "#from keras.callbacks import ReduceLROnPlateau\n",
        "#reduce_lr = ReduceLROnPlateau(monitor='val_f1', factor=0.2, patience=15, min_lr=0.001)\n",
        "\n",
        "# define model\n",
        "train, infenc, infdec = define_models(n_features_input, n_features_output, n_units)\n",
        "\n",
        "loss = tf.keras.losses.CategoricalCrossentropy()\n",
        "optimizer = tf.keras.optimizers.Adam(learning_rate=3e-4)\n",
        "#optimizer = tf.keras.optimizers.SGD(learning_rate=0.01, momentum=0, nesterov=False)\n",
        "\n",
        "early_stop = tf.keras.callbacks.EarlyStopping(monitor=\"val_f1\", mode='max', patience = 15, restore_best_weights=True)\n",
        "\n",
        "train.compile(loss=loss, optimizer=optimizer, metrics=['acc', precision, recall, f1])\n",
        "\n",
        "# generate training dataset\n",
        "print(X1.shape,X2.shape,Y.shape)\n",
        "# train model\n",
        "history = train.fit([X1, X2], Y, batch_size=32, epochs=200, validation_data=([X1_valid, X2_valid],Y_valid),callbacks=[early_stop])"
      ],
      "id": "790a0122",
      "execution_count": null,
      "outputs": [
        {
          "output_type": "stream",
          "name": "stdout",
          "text": [
            "(3786, 534, 501) (3786, 267, 4) (3786, 267, 4)\n",
            "Epoch 1/200\n",
            "119/119 [==============================] - 46s 294ms/step - loss: 0.4606 - acc: 0.8105 - precision: 0.9001 - recall: 0.6723 - f1: 0.2375 - val_loss: 0.3087 - val_acc: 0.8520 - val_precision: 0.9327 - val_recall: 0.7373 - val_f1: 0.2335\n",
            "Epoch 2/200\n",
            "119/119 [==============================] - 33s 280ms/step - loss: 0.2921 - acc: 0.8513 - precision: 0.8784 - recall: 0.8180 - f1: 0.3168 - val_loss: 0.2643 - val_acc: 0.8586 - val_precision: 0.8777 - val_recall: 0.8355 - val_f1: 0.3084\n",
            "Epoch 3/200\n",
            "119/119 [==============================] - 33s 280ms/step - loss: 0.2650 - acc: 0.8615 - precision: 0.8750 - recall: 0.8460 - f1: 0.3533 - val_loss: 0.2516 - val_acc: 0.8626 - val_precision: 0.8730 - val_recall: 0.8515 - val_f1: 0.3222\n",
            "Epoch 4/200\n",
            "119/119 [==============================] - 33s 280ms/step - loss: 0.2549 - acc: 0.8654 - precision: 0.8749 - recall: 0.8539 - f1: 0.3605 - val_loss: 0.2469 - val_acc: 0.8642 - val_precision: 0.8737 - val_recall: 0.8514 - val_f1: 0.3347\n",
            "Epoch 5/200\n",
            "119/119 [==============================] - 33s 280ms/step - loss: 0.2497 - acc: 0.8673 - precision: 0.8748 - recall: 0.8581 - f1: 0.3667 - val_loss: 0.2420 - val_acc: 0.8666 - val_precision: 0.8719 - val_recall: 0.8611 - val_f1: 0.3409\n",
            "Epoch 6/200\n",
            "119/119 [==============================] - 33s 279ms/step - loss: 0.2481 - acc: 0.8678 - precision: 0.8748 - recall: 0.8593 - f1: 0.3680 - val_loss: 0.2392 - val_acc: 0.8667 - val_precision: 0.8753 - val_recall: 0.8551 - val_f1: 0.3403\n",
            "Epoch 7/200\n",
            "119/119 [==============================] - 33s 279ms/step - loss: 0.2441 - acc: 0.8691 - precision: 0.8747 - recall: 0.8628 - f1: 0.3712 - val_loss: 0.2358 - val_acc: 0.8705 - val_precision: 0.8758 - val_recall: 0.8644 - val_f1: 0.3382\n",
            "Epoch 8/200\n",
            "119/119 [==============================] - 33s 280ms/step - loss: 0.2389 - acc: 0.8706 - precision: 0.8748 - recall: 0.8656 - f1: 0.3729 - val_loss: 0.2243 - val_acc: 0.8736 - val_precision: 0.8762 - val_recall: 0.8691 - val_f1: 0.3374\n",
            "Epoch 9/200\n",
            "119/119 [==============================] - 33s 280ms/step - loss: 0.2310 - acc: 0.8718 - precision: 0.8743 - recall: 0.8680 - f1: 0.3735 - val_loss: 0.2196 - val_acc: 0.8723 - val_precision: 0.8749 - val_recall: 0.8693 - val_f1: 0.3494\n",
            "Epoch 10/200\n",
            "119/119 [==============================] - 33s 280ms/step - loss: 0.2254 - acc: 0.8734 - precision: 0.8749 - recall: 0.8714 - f1: 0.3782 - val_loss: 0.2167 - val_acc: 0.8750 - val_precision: 0.8759 - val_recall: 0.8733 - val_f1: 0.3492\n",
            "Epoch 11/200\n",
            "119/119 [==============================] - 33s 280ms/step - loss: 0.2235 - acc: 0.8740 - precision: 0.8749 - recall: 0.8726 - f1: 0.3811 - val_loss: 0.2180 - val_acc: 0.8720 - val_precision: 0.8734 - val_recall: 0.8709 - val_f1: 0.3468\n",
            "Epoch 12/200\n",
            "119/119 [==============================] - 33s 280ms/step - loss: 0.2230 - acc: 0.8739 - precision: 0.8745 - recall: 0.8729 - f1: 0.3812 - val_loss: 0.2128 - val_acc: 0.8777 - val_precision: 0.8781 - val_recall: 0.8765 - val_f1: 0.3509\n",
            "Epoch 13/200\n",
            "119/119 [==============================] - 33s 280ms/step - loss: 0.2208 - acc: 0.8749 - precision: 0.8753 - recall: 0.8743 - f1: 0.3820 - val_loss: 0.2148 - val_acc: 0.8752 - val_precision: 0.8758 - val_recall: 0.8749 - val_f1: 0.3419\n",
            "Epoch 14/200\n",
            "119/119 [==============================] - 33s 280ms/step - loss: 0.2220 - acc: 0.8744 - precision: 0.8748 - recall: 0.8738 - f1: 0.3822 - val_loss: 0.2122 - val_acc: 0.8784 - val_precision: 0.8787 - val_recall: 0.8779 - val_f1: 0.3556\n",
            "Epoch 15/200\n",
            "119/119 [==============================] - 33s 280ms/step - loss: 0.2196 - acc: 0.8754 - precision: 0.8757 - recall: 0.8750 - f1: 0.3847 - val_loss: 0.2117 - val_acc: 0.8780 - val_precision: 0.8782 - val_recall: 0.8780 - val_f1: 0.3501\n",
            "Epoch 16/200\n",
            "119/119 [==============================] - 33s 280ms/step - loss: 0.2197 - acc: 0.8753 - precision: 0.8755 - recall: 0.8750 - f1: 0.3841 - val_loss: 0.2190 - val_acc: 0.8730 - val_precision: 0.8733 - val_recall: 0.8729 - val_f1: 0.3479\n",
            "Epoch 17/200\n",
            "119/119 [==============================] - 33s 280ms/step - loss: 0.2188 - acc: 0.8754 - precision: 0.8756 - recall: 0.8752 - f1: 0.3830 - val_loss: 0.2130 - val_acc: 0.8749 - val_precision: 0.8750 - val_recall: 0.8747 - val_f1: 0.3525\n",
            "Epoch 18/200\n",
            "119/119 [==============================] - 33s 281ms/step - loss: 0.2187 - acc: 0.8756 - precision: 0.8757 - recall: 0.8754 - f1: 0.3838 - val_loss: 0.2151 - val_acc: 0.8750 - val_precision: 0.8751 - val_recall: 0.8749 - val_f1: 0.3418\n",
            "Epoch 19/200\n",
            "119/119 [==============================] - 33s 280ms/step - loss: 0.2189 - acc: 0.8756 - precision: 0.8757 - recall: 0.8754 - f1: 0.3835 - val_loss: 0.2111 - val_acc: 0.8769 - val_precision: 0.8770 - val_recall: 0.8768 - val_f1: 0.3477\n",
            "Epoch 20/200\n",
            "119/119 [==============================] - 33s 279ms/step - loss: 0.2280 - acc: 0.8732 - precision: 0.8746 - recall: 0.8713 - f1: 0.3807 - val_loss: 0.2528 - val_acc: 0.8644 - val_precision: 0.8671 - val_recall: 0.8609 - val_f1: 0.3271\n",
            "Epoch 21/200\n",
            "119/119 [==============================] - 33s 279ms/step - loss: 0.2454 - acc: 0.8682 - precision: 0.8732 - recall: 0.8625 - f1: 0.3718 - val_loss: 0.2345 - val_acc: 0.8723 - val_precision: 0.8754 - val_recall: 0.8687 - val_f1: 0.3444\n",
            "Epoch 22/200\n",
            "119/119 [==============================] - 33s 280ms/step - loss: 0.2393 - acc: 0.8708 - precision: 0.8740 - recall: 0.8665 - f1: 0.3753 - val_loss: 0.2319 - val_acc: 0.8736 - val_precision: 0.8767 - val_recall: 0.8699 - val_f1: 0.3492\n",
            "Epoch 23/200\n",
            "119/119 [==============================] - 33s 279ms/step - loss: 0.2377 - acc: 0.8717 - precision: 0.8746 - recall: 0.8680 - f1: 0.3755 - val_loss: 0.2307 - val_acc: 0.8739 - val_precision: 0.8767 - val_recall: 0.8712 - val_f1: 0.3503\n",
            "Epoch 24/200\n",
            "119/119 [==============================] - 33s 279ms/step - loss: 0.2364 - acc: 0.8722 - precision: 0.8747 - recall: 0.8690 - f1: 0.3776 - val_loss: 0.2295 - val_acc: 0.8748 - val_precision: 0.8772 - val_recall: 0.8718 - val_f1: 0.3454\n",
            "Epoch 25/200\n",
            "119/119 [==============================] - 33s 280ms/step - loss: 0.2360 - acc: 0.8717 - precision: 0.8739 - recall: 0.8688 - f1: 0.3772 - val_loss: 0.2207 - val_acc: 0.8701 - val_precision: 0.8725 - val_recall: 0.8662 - val_f1: 0.3369\n",
            "Epoch 26/200\n",
            "119/119 [==============================] - 33s 280ms/step - loss: 0.2214 - acc: 0.8748 - precision: 0.8754 - recall: 0.8738 - f1: 0.3829 - val_loss: 0.2129 - val_acc: 0.8755 - val_precision: 0.8759 - val_recall: 0.8752 - val_f1: 0.3506\n",
            "Epoch 27/200\n",
            "119/119 [==============================] - 33s 280ms/step - loss: 0.2190 - acc: 0.8757 - precision: 0.8759 - recall: 0.8754 - f1: 0.3827 - val_loss: 0.2128 - val_acc: 0.8749 - val_precision: 0.8751 - val_recall: 0.8749 - val_f1: 0.3417\n",
            "Epoch 28/200\n",
            "119/119 [==============================] - 33s 280ms/step - loss: 0.2179 - acc: 0.8762 - precision: 0.8763 - recall: 0.8760 - f1: 0.3847 - val_loss: 0.2112 - val_acc: 0.8769 - val_precision: 0.8772 - val_recall: 0.8768 - val_f1: 0.3546\n",
            "Epoch 29/200\n",
            "119/119 [==============================] - 33s 280ms/step - loss: 0.2174 - acc: 0.8766 - precision: 0.8767 - recall: 0.8764 - f1: 0.3859 - val_loss: 0.2117 - val_acc: 0.8766 - val_precision: 0.8765 - val_recall: 0.8763 - val_f1: 0.3501\n"
          ]
        }
      ]
    },
    {
      "cell_type": "code",
      "metadata": {
        "colab": {
          "base_uri": "https://localhost:8080/"
        },
        "id": "MiCgQ0a7RGGu",
        "outputId": "71050299-b65b-4443-f606-5d9e8c19e45f"
      },
      "source": [
        "train.summary()"
      ],
      "id": "MiCgQ0a7RGGu",
      "execution_count": null,
      "outputs": [
        {
          "output_type": "stream",
          "name": "stdout",
          "text": [
            "Model: \"model\"\n",
            "__________________________________________________________________________________________________\n",
            "Layer (type)                    Output Shape         Param #     Connected to                     \n",
            "==================================================================================================\n",
            "input_1 (InputLayer)            [(None, None, 501)]  0                                            \n",
            "__________________________________________________________________________________________________\n",
            "bidirectional (Bidirectional)   [(None, 256), (None, 645120      input_1[0][0]                    \n",
            "__________________________________________________________________________________________________\n",
            "input_2 (InputLayer)            [(None, None, 4)]    0                                            \n",
            "__________________________________________________________________________________________________\n",
            "concatenate (Concatenate)       (None, 256)          0           bidirectional[0][1]              \n",
            "                                                                 bidirectional[0][3]              \n",
            "__________________________________________________________________________________________________\n",
            "concatenate_1 (Concatenate)     (None, 256)          0           bidirectional[0][2]              \n",
            "                                                                 bidirectional[0][4]              \n",
            "__________________________________________________________________________________________________\n",
            "lstm_1 (LSTM)                   [(None, None, 256),  267264      input_2[0][0]                    \n",
            "                                                                 concatenate[0][0]                \n",
            "                                                                 concatenate_1[0][0]              \n",
            "__________________________________________________________________________________________________\n",
            "dense (Dense)                   (None, None, 4)      1028        lstm_1[0][0]                     \n",
            "==================================================================================================\n",
            "Total params: 913,412\n",
            "Trainable params: 913,412\n",
            "Non-trainable params: 0\n",
            "__________________________________________________________________________________________________\n"
          ]
        }
      ]
    },
    {
      "cell_type": "code",
      "metadata": {
        "colab": {
          "base_uri": "https://localhost:8080/",
          "height": 368
        },
        "id": "a5181663",
        "outputId": "e41e0cd4-cef9-438d-f61e-873d5705eebd"
      },
      "source": [
        "from tensorflow.keras.utils import plot_model\n",
        "tf.keras.utils.plot_model(train,to_file='model.png')\n",
        "#tf.keras.utils.plot_model(train,to_file='/content/model.png')"
      ],
      "id": "a5181663",
      "execution_count": null,
      "outputs": [
        {
          "data": {
            "image/png": "[encoded data removed]",
            "text/plain": [
              "<IPython.core.display.Image object>"
            ]
          },
          "execution_count": 78,
          "metadata": {},
          "output_type": "execute_result"
        }
      ]
    },
    {
      "cell_type": "code",
      "metadata": {
        "colab": {
          "base_uri": "https://localhost:8080/",
          "height": 591
        },
        "id": "35c3b2d7",
        "outputId": "fe45bc2f-9cbf-4815-9fc2-5bdd24f77018"
      },
      "source": [
        "import matplotlib.pyplot as plt \n",
        "print(history.history.keys())\n",
        "# summarize history for F1Score\n",
        "plt.plot(history.history['f1'])\n",
        "plt.plot(history.history['val_f1'])\n",
        "plt.title('model F1Score')\n",
        "plt.ylabel('F1Score')\n",
        "plt.xlabel('epoch')\n",
        "plt.legend(['train', 'test'], loc='upper left')\n",
        "plt.show()\n",
        "# summarize history for loss\n",
        "plt.plot(history.history['loss'])\n",
        "plt.plot(history.history['val_loss'])\n",
        "plt.title('model loss')\n",
        "plt.ylabel('loss')\n",
        "plt.xlabel('epoch')\n",
        "plt.legend(['train', 'test'], loc='upper left')\n",
        "plt.show()"
      ],
      "id": "35c3b2d7",
      "execution_count": null,
      "outputs": [
        {
          "output_type": "stream",
          "name": "stdout",
          "text": [
            "dict_keys(['loss', 'acc', 'precision', 'recall', 'f1', 'val_loss', 'val_acc', 'val_precision', 'val_recall', 'val_f1'])\n"
          ]
        },
        {
          "output_type": "display_data",
          "data": {
            "image/png": "[encoded data removed]",
            "text/plain": [
              "<Figure size 432x288 with 1 Axes>"
            ]
          },
          "metadata": {
            "needs_background": "light"
          }
        },
        {
          "output_type": "display_data",
          "data": {
            "image/png": "[encoded data removed]",
            "text/plain": [
              "<Figure size 432x288 with 1 Axes>"
            ]
          },
          "metadata": {
            "needs_background": "light"
          }
        }
      ]
    },
    {
      "cell_type": "code",
      "metadata": {
        "id": "14c19f85"
      },
      "source": [
        "# generate target given source sequence\n",
        "def predict_sequence(infenc, infdec, input, n_steps_out, n_features): \n",
        "  #n_steps_out->no. of time-step in output\n",
        "  #n_features->no. of features in output\n",
        "\t# encode\n",
        "\tstate = infenc.predict(input)\n",
        "\t# start of sequence input\n",
        "\ttarget_seq = array([0.0 for _ in range(n_features)]).reshape(1, 1, n_features)\n",
        "\t# collect predictions\n",
        "\toutput = list()\n",
        "\tfor t in range(n_steps_out):\n",
        "\t\t# predict next char\n",
        "\t\tyhat, h, c = infdec.predict([target_seq] + state)\n",
        "\t\t# store prediction\n",
        "\t\toutput.append(yhat[0,0,:])\n",
        "\t\t# update state\n",
        "\t\tstate = [h, c]\n",
        "\t\t# update target sequence\n",
        "\t\ttarget_seq = yhat\n",
        "\treturn array(output)"
      ],
      "id": "14c19f85",
      "execution_count": null,
      "outputs": []
    },
    {
      "cell_type": "code",
      "metadata": {
        "id": "abe31b2b"
      },
      "source": [
        "def one_hot_decode(encoded_seq):\n",
        "\treturn [argmax(vector) for vector in encoded_seq]"
      ],
      "id": "abe31b2b",
      "execution_count": null,
      "outputs": []
    },
    {
      "cell_type": "markdown",
      "metadata": {
        "id": "09a14a3c"
      },
      "source": [
        "### Evaluate with test sample"
      ],
      "id": "09a14a3c"
    },
    {
      "cell_type": "code",
      "metadata": {
        "id": "sgI_QM2uam6x"
      },
      "source": [
        "prediction= []\n",
        "n_features=4\n",
        "n_steps_out = 267\n",
        "for i in range(X1_test.shape[0]):\n",
        "  test = X1_test[i]\n",
        "  test = test[newaxis,:, :]\n",
        "  pred = predict_sequence(infenc, infdec, test, n_steps_out, n_features)\n",
        "  pred = one_hot_decode(pred)\n",
        "  prediction.extend(pred)"
      ],
      "id": "sgI_QM2uam6x",
      "execution_count": null,
      "outputs": []
    },
    {
      "cell_type": "code",
      "metadata": {
        "id": "4o0lQt2poogR"
      },
      "source": [
        "#compiled_data = get_compiled_data(\"C:/Users/ASUS/Desktop/system_code/dataset-460-40/y_test\")\n",
        "compiled_data = get_compiled_data(\"/gdrive/MyDrive/dataset-460-40/y_test/\")"
      ],
      "id": "4o0lQt2poogR",
      "execution_count": null,
      "outputs": []
    },
    {
      "cell_type": "code",
      "metadata": {
        "id": "rivERZEYooiy"
      },
      "source": [
        "truth = []\n",
        "for i in range(len(compiled_data)):\n",
        "  data = compiled_data[i]                                   \n",
        "  while len(data) < 267:                          \n",
        "    data.append(2)\n",
        "  truth.extend(data)"
      ],
      "id": "rivERZEYooiy",
      "execution_count": null,
      "outputs": []
    },
    {
      "cell_type": "code",
      "metadata": {
        "id": "fqfIq0jLoooL"
      },
      "source": [
        "from sklearn.metrics import confusion_matrix\n",
        "from sklearn.metrics import classification_report"
      ],
      "id": "fqfIq0jLoooL",
      "execution_count": null,
      "outputs": []
    },
    {
      "cell_type": "code",
      "metadata": {
        "colab": {
          "base_uri": "https://localhost:8080/"
        },
        "id": "-f9E0s43ttEc",
        "outputId": "56dabde5-a563-49e9-e8de-3d1fbd81721a"
      },
      "source": [
        "matrix = confusion_matrix(truth, prediction, labels=[0,1,2])\n",
        "print('Confusion matrix : \\n',matrix)\n",
        "print(classification_report(truth, prediction, labels=[0,1,2]))"
      ],
      "id": "-f9E0s43ttEc",
      "execution_count": null,
      "outputs": [
        {
          "output_type": "stream",
          "name": "stdout",
          "text": [
            "Confusion matrix : \n",
            " [[1255  387    9]\n",
            " [1435  708   10]\n",
            " [   0    4 6872]]\n",
            "              precision    recall  f1-score   support\n",
            "\n",
            "           0       0.47      0.76      0.58      1651\n",
            "           1       0.64      0.33      0.44      2153\n",
            "           2       1.00      1.00      1.00      6876\n",
            "\n",
            "    accuracy                           0.83     10680\n",
            "   macro avg       0.70      0.70      0.67     10680\n",
            "weighted avg       0.84      0.83      0.82     10680\n",
            "\n"
          ]
        }
      ]
    },
    {
      "cell_type": "markdown",
      "metadata": {
        "id": "a63417c2"
      },
      "source": [
        "### Examine single test sample"
      ],
      "id": "a63417c2"
    },
    {
      "cell_type": "code",
      "metadata": {
        "colab": {
          "base_uri": "https://localhost:8080/"
        },
        "id": "cd862c84",
        "outputId": "1708a6a5-024b-4e4e-a7ed-3524a9fe0f69"
      },
      "source": [
        "test = X1_test[0]\n",
        "test.shape\n",
        "test = test[newaxis,:, :]\n",
        "test.shape"
      ],
      "id": "cd862c84",
      "execution_count": null,
      "outputs": [
        {
          "output_type": "execute_result",
          "data": {
            "text/plain": [
              "(1, 534, 501)"
            ]
          },
          "metadata": {},
          "execution_count": 117
        }
      ]
    },
    {
      "cell_type": "code",
      "metadata": {
        "id": "c55cadad"
      },
      "source": [
        "n_features=4\n",
        "n_steps_out = 267\n",
        "prediction = predict_sequence(infenc, infdec, test, n_steps_out, n_features)\n",
        "prediction = one_hot_decode(prediction)\n",
        "prediction = np.array(prediction)"
      ],
      "id": "c55cadad",
      "execution_count": null,
      "outputs": []
    },
    {
      "cell_type": "code",
      "metadata": {
        "id": "ed8b2320"
      },
      "source": [
        "truth = Y_test[0]\n",
        "truth = one_hot_decode(truth)\n",
        "truth = np.array(truth)"
      ],
      "id": "ed8b2320",
      "execution_count": null,
      "outputs": []
    },
    {
      "cell_type": "code",
      "metadata": {
        "id": "b6521fe5"
      },
      "source": [
        "matrix = confusion_matrix(truth, prediction, labels=[0,1,2])\n",
        "print('Confusion matrix : \\n',matrix)\n",
        "print(classification_report(truth, prediction, labels=[0,1,2]))"
      ],
      "id": "b6521fe5",
      "execution_count": null,
      "outputs": []
    },
    {
      "cell_type": "code",
      "metadata": {
        "colab": {
          "base_uri": "https://localhost:8080/"
        },
        "id": "63aa89b7",
        "outputId": "c36b66de-61d3-450d-9ef3-854ea2e5d92d"
      },
      "source": [
        "prediction"
      ],
      "id": "63aa89b7",
      "execution_count": null,
      "outputs": [
        {
          "output_type": "execute_result",
          "data": {
            "text/plain": [
              "array([1, 1, 1, 1, 1, 1, 1, 1, 1, 1, 1, 1, 1, 1, 1, 1, 1, 1, 1, 1, 1, 1,\n",
              "       1, 0, 0, 0, 0, 0, 0, 0, 0, 0, 0, 0, 0, 0, 0, 0, 0, 0, 0, 0, 0, 0,\n",
              "       0, 0, 0, 0, 0, 0, 0, 0, 0, 0, 0, 0, 0, 0, 0, 0, 0, 0, 0, 0, 0, 0,\n",
              "       0, 0, 0, 0, 0, 0, 0, 0, 0, 0, 0, 0, 0, 0, 0, 0, 0, 0, 0, 0, 0, 0,\n",
              "       0, 0, 0, 0, 0, 0, 0, 0, 0, 0, 0, 0, 0, 0, 0, 0, 0, 0, 0, 0, 0, 0,\n",
              "       0, 0, 0, 0, 0, 0, 0, 0, 0, 0, 0, 0, 0, 0, 0, 0, 0, 0, 0, 0, 0, 0,\n",
              "       0, 0, 0, 0, 0, 0, 0, 0, 0, 0, 0, 0, 0, 0, 0, 0, 0, 0, 0, 0, 0, 0,\n",
              "       0, 0, 0, 0, 0, 0, 0, 0, 0, 0, 0, 0, 1, 1, 1, 2, 2, 2, 2, 2, 2, 2,\n",
              "       2, 2, 2, 2, 2, 2, 2, 2, 2, 2, 2, 2, 2, 2, 2, 2, 2, 2, 2, 2, 2, 2,\n",
              "       2, 2, 2, 2, 2, 2, 2, 2, 2, 2, 2, 2, 2, 2, 2, 2, 2, 2, 2, 2, 2, 2,\n",
              "       2, 2, 2, 2, 2, 2, 2, 2, 2, 2, 2, 2, 2, 2, 2, 2, 2, 2, 2, 2, 2, 2,\n",
              "       2, 2, 2, 2, 2, 2, 2, 2, 2, 2, 2, 2, 2, 2, 2, 2, 2, 2, 2, 2, 2, 2,\n",
              "       2, 2, 2])"
            ]
          },
          "metadata": {},
          "execution_count": 119
        }
      ]
    },
    {
      "cell_type": "code",
      "metadata": {
        "colab": {
          "base_uri": "https://localhost:8080/"
        },
        "id": "df5b1f81",
        "outputId": "e4c91ddb-5d7b-477c-a4cd-ee87bed08ede"
      },
      "source": [
        "truth"
      ],
      "id": "df5b1f81",
      "execution_count": null,
      "outputs": [
        {
          "output_type": "execute_result",
          "data": {
            "text/plain": [
              "array([1, 1, 0, 0, 1, 0, 1, 1, 1, 0, 1, 1, 1, 1, 1, 1, 0, 1, 0, 0, 0, 0,\n",
              "       1, 0, 0, 1, 0, 1, 0, 0, 1, 1, 0, 0, 0, 1, 0, 1, 1, 1, 0, 0, 1, 0,\n",
              "       1, 1, 1, 1, 1, 1, 0, 1, 0, 1, 0, 1, 0, 1, 0, 1, 1, 0, 0, 0, 1, 0,\n",
              "       0, 1, 1, 1, 0, 0, 1, 0, 0, 0, 1, 0, 1, 0, 0, 0, 0, 0, 0, 0, 0, 0,\n",
              "       0, 0, 1, 1, 1, 0, 1, 0, 1, 0, 0, 0, 0, 0, 0, 0, 0, 1, 1, 0, 0, 1,\n",
              "       0, 0, 1, 0, 0, 1, 1, 1, 0, 0, 0, 0, 1, 1, 0, 0, 0, 0, 1, 0, 0, 0,\n",
              "       1, 0, 1, 0, 0, 1, 1, 0, 0, 0, 1, 1, 0, 0, 1, 1, 0, 1, 1, 0, 1, 0,\n",
              "       0, 0, 1, 0, 1, 0, 1, 0, 1, 0, 1, 0, 1, 1, 1, 1, 2, 2, 2, 2, 2, 2,\n",
              "       2, 2, 2, 2, 2, 2, 2, 2, 2, 2, 2, 2, 2, 2, 2, 2, 2, 2, 2, 2, 2, 2,\n",
              "       2, 2, 2, 2, 2, 2, 2, 2, 2, 2, 2, 2, 2, 2, 2, 2, 2, 2, 2, 2, 2, 2,\n",
              "       2, 2, 2, 2, 2, 2, 2, 2, 2, 2, 2, 2, 2, 2, 2, 2, 2, 2, 2, 2, 2, 2,\n",
              "       2, 2, 2, 2, 2, 2, 2, 2, 2, 2, 2, 2, 2, 2, 2, 2, 2, 2, 2, 2, 2, 2,\n",
              "       2, 2, 2])"
            ]
          },
          "metadata": {},
          "execution_count": 122
        }
      ]
    },
    {
      "cell_type": "markdown",
      "metadata": {
        "id": "a6c1fc84"
      },
      "source": [
        "### Examine training data (optional)"
      ],
      "id": "a6c1fc84"
    },
    {
      "cell_type": "code",
      "metadata": {
        "id": "d67bf491"
      },
      "source": [
        "test = X1[0]\n",
        "test.shape\n",
        "test = test[newaxis,:, :]\n",
        "test.shape"
      ],
      "id": "d67bf491",
      "execution_count": null,
      "outputs": []
    },
    {
      "cell_type": "code",
      "metadata": {
        "id": "cd09ac34"
      },
      "source": [
        "n_features=4\n",
        "n_steps_out = 267\n",
        "prediction = predict_sequence(infenc, infdec, test, n_steps_out, n_features)\n",
        "prediction = one_hot_decode(prediction)\n",
        "prediction = np.array(prediction)"
      ],
      "id": "cd09ac34",
      "execution_count": null,
      "outputs": []
    },
    {
      "cell_type": "code",
      "metadata": {
        "id": "7a8733de"
      },
      "source": [
        "truth = Y[0]\n",
        "truth = one_hot_decode(truth)\n",
        "truth = np.array(truth)"
      ],
      "id": "7a8733de",
      "execution_count": null,
      "outputs": []
    },
    {
      "cell_type": "code",
      "metadata": {
        "id": "b65a4f2f"
      },
      "source": [
        "prediction"
      ],
      "id": "b65a4f2f",
      "execution_count": null,
      "outputs": []
    },
    {
      "cell_type": "code",
      "metadata": {
        "id": "NkH9ERvkmMVF"
      },
      "source": [
        "truth"
      ],
      "id": "NkH9ERvkmMVF",
      "execution_count": null,
      "outputs": []
    },
    {
      "cell_type": "code",
      "metadata": {
        "id": "c4w1vN4RnEUn"
      },
      "source": [
        ""
      ],
      "id": "c4w1vN4RnEUn",
      "execution_count": null,
      "outputs": []
    }
  ]
}