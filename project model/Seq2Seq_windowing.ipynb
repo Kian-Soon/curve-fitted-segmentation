{
  "nbformat": 4,
  "nbformat_minor": 0,
  "metadata": {
    "kernelspec": {
      "display_name": "Python 3",
      "language": "python",
      "name": "python3"
    },
    "language_info": {
      "codemirror_mode": {
        "name": "ipython",
        "version": 3
      },
      "file_extension": ".py",
      "mimetype": "text/x-python",
      "name": "python",
      "nbconvert_exporter": "python",
      "pygments_lexer": "ipython3",
      "version": "3.6.13"
    },
    "colab": {
      "name": "Seq2Seq_model_windowing_01.ipynb",
      "provenance": [],
      "collapsed_sections": []
    }
  },
  "cells": [
    {
      "cell_type": "markdown",
      "metadata": {
        "id": "WVHAxP6aaXoy"
      },
      "source": [
        "### Break-up each sequence into overlapping subsequences of fixed length (e.g size=20, step=10). "
      ]
    },
    {
      "cell_type": "code",
      "metadata": {
        "id": "kfp9Zp3ZaWqU"
      },
      "source": [
        "import os\n",
        "import json\n",
        "from glob import glob\n",
        "import numpy as np\n",
        "from numpy import array\n",
        "from numpy import argmax\n",
        "from numpy import newaxis\n",
        "import tensorflow as tf\n",
        "from tensorflow.keras.utils import to_categorical\n",
        "from tensorflow.keras.models import Model\n",
        "from tensorflow.keras.layers import Input, LSTM, Bidirectional, Concatenate, Activation, Dense"
      ],
      "execution_count": 1,
      "outputs": []
    },
    {
      "cell_type": "code",
      "metadata": {
        "colab": {
          "base_uri": "https://localhost:8080/"
        },
        "id": "f2raqQdWlM_5",
        "outputId": "9ec07292-b6c6-4fe0-a6ff-9bdc720912b6"
      },
      "source": [
        "from google.colab import drive\n",
        "drive.mount('/content/drive')"
      ],
      "execution_count": 2,
      "outputs": [
        {
          "output_type": "stream",
          "name": "stdout",
          "text": [
            "Drive already mounted at /content/drive; to attempt to forcibly remount, call drive.mount(\"/content/drive\", force_remount=True).\n"
          ]
        }
      ]
    },
    {
      "cell_type": "markdown",
      "metadata": {
        "id": "A4WLqUinL3Lw"
      },
      "source": [
        "# Data Preprocessing"
      ]
    },
    {
      "cell_type": "code",
      "metadata": {
        "id": "mY8seJJbL3Lx"
      },
      "source": [
        "def get_compiled_data(path):\n",
        "    f_path = path\n",
        "    f_list = sorted(glob(os.path.join(f_path, \"*.json\")))\n",
        "\n",
        "    f_compile =[]\n",
        "\n",
        "    for j in f_list: \n",
        "        file = open(j, \"r\")\n",
        "        content = file.read()\n",
        "        data = json.loads(content)\n",
        "        f_compile.append(data)\n",
        "    return f_compile"
      ],
      "execution_count": 3,
      "outputs": []
    },
    {
      "cell_type": "code",
      "metadata": {
        "id": "xsHgNZAVL3Lx"
      },
      "source": [
        "X_original = get_compiled_data(path=\"/content/drive/MyDrive/dataset-460-40/x\")"
      ],
      "execution_count": 4,
      "outputs": []
    },
    {
      "cell_type": "code",
      "metadata": {
        "id": "rrgm1PRlL3Ly"
      },
      "source": [
        "y_original = get_compiled_data(path=\"/content/drive/MyDrive/dataset-460-40/y\")"
      ],
      "execution_count": 5,
      "outputs": []
    },
    {
      "cell_type": "code",
      "metadata": {
        "id": "2Y4AnoWg_EVz"
      },
      "source": [
        "step = 10\n",
        "size = 10\n",
        "X = []\n",
        "y = []\n",
        "\n",
        "for i in range(len(y_original)):\n",
        "  row = y_original[i]\n",
        "\n",
        "  for idx in range(0, len(row), step):\n",
        "      if len(row[idx:idx + size]) == size:\n",
        "        y.append(row[idx:idx + size])\n",
        "\n",
        "  row = X_original[i]\n",
        "\n",
        "  for idx in range(0, len(row), step):\n",
        "    if len(row[idx:idx + size]) == size:\n",
        "      X.append(row[idx:idx + size]) "
      ],
      "execution_count": 6,
      "outputs": []
    },
    {
      "cell_type": "code",
      "metadata": {
        "id": "m4yruC9vL3L1"
      },
      "source": [
        "from sklearn.model_selection import train_test_split\n",
        "X_train, X_valid, y_train, y_valid = train_test_split(X, y, test_size=0.1, random_state=1)"
      ],
      "execution_count": 7,
      "outputs": []
    },
    {
      "cell_type": "code",
      "metadata": {
        "colab": {
          "base_uri": "https://localhost:8080/"
        },
        "id": "2-THV1SWL3L1",
        "outputId": "23e69c72-f107-4e72-edf9-13df1c732a86"
      },
      "source": [
        "print(len(X_train), len(y_train), len(X_valid), len(y_valid))"
      ],
      "execution_count": 8,
      "outputs": [
        {
          "output_type": "stream",
          "name": "stdout",
          "text": [
            "3662 3662 407 407\n"
          ]
        }
      ]
    },
    {
      "cell_type": "markdown",
      "metadata": {
        "id": "RLwSRZ8ZL3L1"
      },
      "source": [
        "Data Augmentation for X_train and y_train"
      ]
    },
    {
      "cell_type": "code",
      "metadata": {
        "id": "9cuSOrFAL3L2"
      },
      "source": [
        "#Data Augmentation (translation by 5 units up and right)\n",
        "#X_train_trans_aug = [[[v+5 for v in inner1] for inner1 in inner] for inner in X_train]"
      ],
      "execution_count": 9,
      "outputs": []
    },
    {
      "cell_type": "code",
      "metadata": {
        "id": "2IpJIDhHL3L3"
      },
      "source": [
        "#import copy\n",
        "#y_train_trans_aug = copy.deepcopy(y_train)"
      ],
      "execution_count": 10,
      "outputs": []
    },
    {
      "cell_type": "code",
      "metadata": {
        "id": "5z0eoVW8L3L4"
      },
      "source": [
        "#X_train.extend(X_train_trans_aug)\n",
        "#y_train.extend(y_train_trans_aug)"
      ],
      "execution_count": null,
      "outputs": []
    },
    {
      "cell_type": "code",
      "metadata": {
        "id": "GLb0cyCXL3L4"
      },
      "source": [
        "#print(len(X_train), len(y_train))\n",
        "#No of training sample inc by twice"
      ],
      "execution_count": null,
      "outputs": []
    },
    {
      "cell_type": "markdown",
      "metadata": {
        "id": "m8rcsQhDL3L5"
      },
      "source": [
        "Remove sequences with values above 499"
      ]
    },
    {
      "cell_type": "code",
      "metadata": {
        "id": "2_VWfqcHL3L5"
      },
      "source": [
        "compiled_x = []\n",
        "compiled_y = []\n",
        "\n",
        "for i, seq in enumerate(X_train):\n",
        "  value_check=[]\n",
        "  for _, coord in enumerate(seq):\n",
        "    coord_01 = coord[0]\n",
        "    coord_02 = coord[1]\n",
        "    value_check.append(coord_01)\n",
        "    value_check.append(coord_02)\n",
        "  if max(value_check) < 500:\n",
        "    compiled_x.append(seq)\n",
        "    compiled_y.append(y_train[i])"
      ],
      "execution_count": 9,
      "outputs": []
    },
    {
      "cell_type": "code",
      "metadata": {
        "colab": {
          "base_uri": "https://localhost:8080/"
        },
        "id": "XYkqW-exL3L5",
        "outputId": "1a48f4b7-a13c-446b-be31-26f07af6c37e"
      },
      "source": [
        "print(len(compiled_x), len(compiled_y), len(X_valid), len(y_valid))"
      ],
      "execution_count": 10,
      "outputs": [
        {
          "output_type": "stream",
          "name": "stdout",
          "text": [
            "3662 3662 407 407\n"
          ]
        }
      ]
    },
    {
      "cell_type": "code",
      "metadata": {
        "id": "bODi1807L3L6"
      },
      "source": [
        "#For variable naming standardisation, \"rename\" X_valid to compiled_x_valid\n",
        "compiled_x_valid = X_valid\n",
        "compiled_y_valid = y_valid"
      ],
      "execution_count": 11,
      "outputs": []
    },
    {
      "cell_type": "markdown",
      "metadata": {
        "id": "MaKazO_NL3L6"
      },
      "source": [
        "# For encoder input (training)"
      ]
    },
    {
      "cell_type": "code",
      "metadata": {
        "id": "mpLqwWNjL3L6"
      },
      "source": [
        "encoder_input = []\n",
        "for i in range(len(compiled_x)):\n",
        "  data = compiled_x[i]   \n",
        "  while len(data) < 10:                        #Change here accordingly (? cuz there are ? time-step in each sequence)\n",
        "    data.append([500,500])                     #Make all samples to be of the same sequence length by padding it with 500. \n",
        "  encoder_input.append(data)"
      ],
      "execution_count": 12,
      "outputs": []
    },
    {
      "cell_type": "code",
      "metadata": {
        "colab": {
          "base_uri": "https://localhost:8080/"
        },
        "id": "foyntbRhmAfI",
        "outputId": "3f6348c5-eb0b-4fc7-8885-1fb85eeded8f"
      },
      "source": [
        "encoder_input = np.array(encoder_input)\n",
        "encoder_input.shape"
      ],
      "execution_count": 13,
      "outputs": [
        {
          "output_type": "execute_result",
          "data": {
            "text/plain": [
              "(3662, 10, 2)"
            ]
          },
          "metadata": {},
          "execution_count": 13
        }
      ]
    },
    {
      "cell_type": "markdown",
      "metadata": {
        "id": "d5UCbVr8CXDp"
      },
      "source": [
        "One-hot encode encoder input (training)"
      ]
    },
    {
      "cell_type": "code",
      "metadata": {
        "id": "bEmMS876CUTP"
      },
      "source": [
        "# Concatenate all coordinates side by side so that [(12,15),(23, 30),(32, 41),...] becomes [12,15,23,30,32,41,...]\n",
        "X1 = list()\n",
        "for i in range(encoder_input.shape[0]):\n",
        "  row=list()\n",
        "  for j in range(10):                          #Change here accordingly (? cuz there are ? time-step in each sequence)\n",
        "    row.append(encoder_input[i][j][0])\n",
        "    row.append(encoder_input[i][j][1])\n",
        "  X1.append(row)"
      ],
      "execution_count": 14,
      "outputs": []
    },
    {
      "cell_type": "code",
      "metadata": {
        "colab": {
          "base_uri": "https://localhost:8080/"
        },
        "id": "f_QgHZlkCYuO",
        "outputId": "98cb2a71-4487-4bda-c525-0d527b0716d3"
      },
      "source": [
        "X1 = np.array(X1)\n",
        "X1.shape"
      ],
      "execution_count": 15,
      "outputs": [
        {
          "output_type": "execute_result",
          "data": {
            "text/plain": [
              "(3662, 20)"
            ]
          },
          "metadata": {},
          "execution_count": 15
        }
      ]
    },
    {
      "cell_type": "code",
      "metadata": {
        "colab": {
          "base_uri": "https://localhost:8080/"
        },
        "id": "t_Uml4wTCYwt",
        "outputId": "33662e7c-aa26-45ea-d912-aaaad0397afe"
      },
      "source": [
        "X1 = to_categorical([X1], num_classes=500)      #500 cuz 0-499 for input values, none for padding\n",
        "X1.shape"
      ],
      "execution_count": 16,
      "outputs": [
        {
          "output_type": "execute_result",
          "data": {
            "text/plain": [
              "(1, 3662, 20, 500)"
            ]
          },
          "metadata": {},
          "execution_count": 16
        }
      ]
    },
    {
      "cell_type": "code",
      "metadata": {
        "colab": {
          "base_uri": "https://localhost:8080/"
        },
        "id": "vnb5RlAtCYzK",
        "outputId": "4a557b8c-6e8d-46f1-84b3-48030a297847"
      },
      "source": [
        "X1 = X1.reshape(3662, 20, 500)\n",
        "X1.shape"
      ],
      "execution_count": 17,
      "outputs": [
        {
          "output_type": "execute_result",
          "data": {
            "text/plain": [
              "(3662, 20, 500)"
            ]
          },
          "metadata": {},
          "execution_count": 17
        }
      ]
    },
    {
      "cell_type": "markdown",
      "metadata": {
        "id": "2YjRPYdFL3L8"
      },
      "source": [
        "# For encoder input (validation)"
      ]
    },
    {
      "cell_type": "code",
      "metadata": {
        "id": "wV5_ppbcL3L8"
      },
      "source": [
        "encoder_input_valid = []\n",
        "for i in range(len(compiled_x_valid)):\n",
        "  data = compiled_x_valid[i]   \n",
        "  while len(data) < 10:                        #Change here accordingly (? cuz there are ? time-step in each sequence)\n",
        "    data.append([500,500])                     #Make all samples to be of the same sequence length by padding it with 500. \n",
        "  encoder_input_valid.append(data)"
      ],
      "execution_count": 18,
      "outputs": []
    },
    {
      "cell_type": "code",
      "metadata": {
        "colab": {
          "base_uri": "https://localhost:8080/"
        },
        "id": "XXkIJ1PPmOkW",
        "outputId": "7e122a28-928f-41f8-bea4-971e1938b857"
      },
      "source": [
        "encoder_input_valid = np.array(encoder_input_valid)\n",
        "encoder_input_valid.shape"
      ],
      "execution_count": 19,
      "outputs": [
        {
          "output_type": "execute_result",
          "data": {
            "text/plain": [
              "(407, 10, 2)"
            ]
          },
          "metadata": {},
          "execution_count": 19
        }
      ]
    },
    {
      "cell_type": "code",
      "metadata": {
        "id": "J-328Nu6FBgd"
      },
      "source": [
        "X1_valid = list()\n",
        "for i in range(encoder_input_valid.shape[0]):\n",
        "  row=list()\n",
        "  for j in range(10):                           #Change here accordingly (? cuz there are ? time-step in each sequence)\n",
        "    row.append(encoder_input_valid[i][j][0])\n",
        "    row.append(encoder_input_valid[i][j][1])\n",
        "  X1_valid.append(row)"
      ],
      "execution_count": 20,
      "outputs": []
    },
    {
      "cell_type": "code",
      "metadata": {
        "colab": {
          "base_uri": "https://localhost:8080/"
        },
        "id": "1ssSW9CfFHhJ",
        "outputId": "d262978f-8e65-4fa5-8c36-68e8efbb79bd"
      },
      "source": [
        "X1_valid = np.array(X1_valid)\n",
        "X1_valid.shape"
      ],
      "execution_count": 21,
      "outputs": [
        {
          "output_type": "execute_result",
          "data": {
            "text/plain": [
              "(407, 20)"
            ]
          },
          "metadata": {},
          "execution_count": 21
        }
      ]
    },
    {
      "cell_type": "code",
      "metadata": {
        "colab": {
          "base_uri": "https://localhost:8080/"
        },
        "id": "7J9I5W4EFOPP",
        "outputId": "94b3cb6b-7e4e-470d-a5e2-5746a8a134ec"
      },
      "source": [
        "X1_valid = to_categorical([X1_valid], num_classes=500)\n",
        "X1_valid.shape"
      ],
      "execution_count": 22,
      "outputs": [
        {
          "output_type": "execute_result",
          "data": {
            "text/plain": [
              "(1, 407, 20, 500)"
            ]
          },
          "metadata": {},
          "execution_count": 22
        }
      ]
    },
    {
      "cell_type": "code",
      "metadata": {
        "colab": {
          "base_uri": "https://localhost:8080/"
        },
        "id": "73W661f3FSHo",
        "outputId": "f8281752-7521-4c72-cbb5-2804fb0bbd8f"
      },
      "source": [
        "X1_valid = X1_valid.reshape(407, 20, 500)\n",
        "X1_valid.shape"
      ],
      "execution_count": 23,
      "outputs": [
        {
          "output_type": "execute_result",
          "data": {
            "text/plain": [
              "(407, 20, 500)"
            ]
          },
          "metadata": {},
          "execution_count": 23
        }
      ]
    },
    {
      "cell_type": "markdown",
      "metadata": {
        "id": "JMc5zCBtL3L9"
      },
      "source": [
        "# For decoder_target (training)"
      ]
    },
    {
      "cell_type": "code",
      "metadata": {
        "id": "q7uRQFqlL3L9"
      },
      "source": [
        "Y = []\n",
        "for i in range(len(compiled_y)):\n",
        "  data = compiled_y[i]                                   \n",
        "  while len(data) < 10:                         #Change here accordingly (? cuz there are ? time-step in each sequence)\n",
        "    data.append(0)                              #Make all samples to be of the same sequence length by padding it with \"0\"\n",
        "  Y.append(data)"
      ],
      "execution_count": 24,
      "outputs": []
    },
    {
      "cell_type": "code",
      "metadata": {
        "colab": {
          "base_uri": "https://localhost:8080/"
        },
        "id": "iGSZK6mpL3L9",
        "outputId": "130669f1-6754-4940-be6f-aaae89907485"
      },
      "source": [
        "Y = np.array(Y)\n",
        "Y.shape"
      ],
      "execution_count": 25,
      "outputs": [
        {
          "output_type": "execute_result",
          "data": {
            "text/plain": [
              "(3662, 10)"
            ]
          },
          "metadata": {},
          "execution_count": 25
        }
      ]
    },
    {
      "cell_type": "code",
      "metadata": {
        "colab": {
          "base_uri": "https://localhost:8080/"
        },
        "id": "scCoxeJDpX07",
        "outputId": "17007906-bd0c-4065-8baa-b7a8ee2c68b6"
      },
      "source": [
        "Y = Y.reshape(3662, 10, 1)                  \n",
        "Y.shape"
      ],
      "execution_count": 27,
      "outputs": [
        {
          "output_type": "execute_result",
          "data": {
            "text/plain": [
              "(3662, 10, 1)"
            ]
          },
          "metadata": {},
          "execution_count": 27
        }
      ]
    },
    {
      "cell_type": "code",
      "metadata": {
        "id": "FyW83pyXpUtm",
        "colab": {
          "base_uri": "https://localhost:8080/"
        },
        "outputId": "838cfd82-32fb-48f1-98e7-d47f316d71ce"
      },
      "source": [
        "Y = to_categorical([Y], num_classes=3)\n",
        "Y.shape"
      ],
      "execution_count": 28,
      "outputs": [
        {
          "output_type": "execute_result",
          "data": {
            "text/plain": [
              "(1, 3662, 10, 3)"
            ]
          },
          "metadata": {},
          "execution_count": 28
        }
      ]
    },
    {
      "cell_type": "code",
      "metadata": {
        "id": "rA9xBtS3L3L-",
        "colab": {
          "base_uri": "https://localhost:8080/"
        },
        "outputId": "835818c0-e528-446f-9792-9a344e3abec2"
      },
      "source": [
        "Y = Y.reshape(3662, 10, 3)                  \n",
        "Y.shape"
      ],
      "execution_count": 29,
      "outputs": [
        {
          "output_type": "execute_result",
          "data": {
            "text/plain": [
              "(3662, 10, 3)"
            ]
          },
          "metadata": {},
          "execution_count": 29
        }
      ]
    },
    {
      "cell_type": "markdown",
      "metadata": {
        "id": "-3DMHfgaL3L-"
      },
      "source": [
        "# For decoder_target (validation)"
      ]
    },
    {
      "cell_type": "code",
      "metadata": {
        "id": "EN86ebvuL3L-"
      },
      "source": [
        "Y_valid = []\n",
        "for i in range(len(compiled_y_valid)):\n",
        "  data = compiled_y_valid[i]                                   \n",
        "  while len(data) < 10:                        #Change here accordingly (? cuz there are ? time-step in each sequence)\n",
        "    data.append(0)                             #Make all samples to be of the same sequence length by padding it with \"0\"\n",
        "  Y_valid.append(data)"
      ],
      "execution_count": 30,
      "outputs": []
    },
    {
      "cell_type": "code",
      "metadata": {
        "colab": {
          "base_uri": "https://localhost:8080/"
        },
        "id": "ISBnJKIXL3L-",
        "outputId": "33313bc6-d026-479a-a0b5-9243f395bdba"
      },
      "source": [
        "Y_valid = np.array(Y_valid)\n",
        "Y_valid.shape"
      ],
      "execution_count": 31,
      "outputs": [
        {
          "output_type": "execute_result",
          "data": {
            "text/plain": [
              "(407, 10)"
            ]
          },
          "metadata": {},
          "execution_count": 31
        }
      ]
    },
    {
      "cell_type": "code",
      "metadata": {
        "colab": {
          "base_uri": "https://localhost:8080/"
        },
        "id": "Y8O-vvtSoTrn",
        "outputId": "423f4e23-7ff5-4b41-bbe8-419bebeb675f"
      },
      "source": [
        "Y_valid = Y_valid.reshape(407, 10, 1)\n",
        "Y_valid.shape"
      ],
      "execution_count": 32,
      "outputs": [
        {
          "output_type": "execute_result",
          "data": {
            "text/plain": [
              "(407, 10, 1)"
            ]
          },
          "metadata": {},
          "execution_count": 32
        }
      ]
    },
    {
      "cell_type": "code",
      "metadata": {
        "id": "svi2Q96PL3L-",
        "colab": {
          "base_uri": "https://localhost:8080/"
        },
        "outputId": "27145aeb-f757-4233-e2af-5e22ea523c71"
      },
      "source": [
        "Y_valid = to_categorical([Y_valid], num_classes=3)\n",
        "Y_valid.shape"
      ],
      "execution_count": 33,
      "outputs": [
        {
          "output_type": "execute_result",
          "data": {
            "text/plain": [
              "(1, 407, 10, 3)"
            ]
          },
          "metadata": {},
          "execution_count": 33
        }
      ]
    },
    {
      "cell_type": "code",
      "metadata": {
        "id": "O-WmZ9l3L3L-",
        "colab": {
          "base_uri": "https://localhost:8080/"
        },
        "outputId": "d2e340ba-3b6a-4937-d489-3715b924d5ad"
      },
      "source": [
        "Y_valid = Y_valid.reshape(407, 10, 3)\n",
        "Y_valid.shape"
      ],
      "execution_count": 34,
      "outputs": [
        {
          "output_type": "execute_result",
          "data": {
            "text/plain": [
              "(407, 10, 3)"
            ]
          },
          "metadata": {},
          "execution_count": 34
        }
      ]
    },
    {
      "cell_type": "markdown",
      "metadata": {
        "id": "XR6BD-lVL3L_"
      },
      "source": [
        "# For decoder input (shifted version of decoder target) - (training)"
      ]
    },
    {
      "cell_type": "code",
      "metadata": {
        "id": "guzxg9QJL3L_"
      },
      "source": [
        "X2 = []\n",
        "for i in range(len(compiled_y)):\n",
        "  data = compiled_y[i] \n",
        "  while len(data) < 10:                         #Change here accordingly (? cuz there are ? time-step in each sequence)\n",
        "    data.append(0)                              #Make all samples to be of the same sequence length by padding it with zero\n",
        "  data = [2] + data[:-1]                        #2 for indicating start of decoder input sequence (requirement for force teaching)\n",
        "  X2.append(data)"
      ],
      "execution_count": 35,
      "outputs": []
    },
    {
      "cell_type": "code",
      "metadata": {
        "colab": {
          "base_uri": "https://localhost:8080/"
        },
        "id": "wOG9tYsDL3L_",
        "outputId": "24b9c79c-890e-405f-9f18-de027f8eb6de"
      },
      "source": [
        "X2 = np.array(X2)\n",
        "X2.shape"
      ],
      "execution_count": 36,
      "outputs": [
        {
          "output_type": "execute_result",
          "data": {
            "text/plain": [
              "(3662, 10)"
            ]
          },
          "metadata": {},
          "execution_count": 36
        }
      ]
    },
    {
      "cell_type": "code",
      "metadata": {
        "colab": {
          "base_uri": "https://localhost:8080/"
        },
        "id": "D6W9VBvVoDH4",
        "outputId": "21bf4307-ac34-4e37-9329-6448240b8aa8"
      },
      "source": [
        "X2 = X2.reshape(3662, 10, 1)\n",
        "X2.shape"
      ],
      "execution_count": 37,
      "outputs": [
        {
          "output_type": "execute_result",
          "data": {
            "text/plain": [
              "(3662, 10, 1)"
            ]
          },
          "metadata": {},
          "execution_count": 37
        }
      ]
    },
    {
      "cell_type": "code",
      "metadata": {
        "id": "MnUWAALhL3L_",
        "colab": {
          "base_uri": "https://localhost:8080/"
        },
        "outputId": "b1a24f33-347e-4f75-e04c-8ec79fe13f25"
      },
      "source": [
        "X2 = to_categorical([X2], num_classes=3)\n",
        "X2.shape"
      ],
      "execution_count": 38,
      "outputs": [
        {
          "output_type": "execute_result",
          "data": {
            "text/plain": [
              "(1, 3662, 10, 3)"
            ]
          },
          "metadata": {},
          "execution_count": 38
        }
      ]
    },
    {
      "cell_type": "code",
      "metadata": {
        "id": "hIMQoVbBL3L_",
        "colab": {
          "base_uri": "https://localhost:8080/"
        },
        "outputId": "8a93dc84-cc10-4852-ccfd-3bdbe5fb7dba"
      },
      "source": [
        "X2 = X2.reshape(3662, 10, 3)\n",
        "X2.shape"
      ],
      "execution_count": 39,
      "outputs": [
        {
          "output_type": "execute_result",
          "data": {
            "text/plain": [
              "(3662, 10, 3)"
            ]
          },
          "metadata": {},
          "execution_count": 39
        }
      ]
    },
    {
      "cell_type": "markdown",
      "metadata": {
        "id": "O3EWNMa0L3L_"
      },
      "source": [
        "# For decoder input (shifted version of decoder target) - (validation)"
      ]
    },
    {
      "cell_type": "code",
      "metadata": {
        "id": "dTUi11PjL3L_"
      },
      "source": [
        "X2_valid = []\n",
        "for i in range(len(compiled_y_valid)):\n",
        "  data = compiled_y_valid[i] \n",
        "  while len(data) < 10:                        #Change here accordingly (? cuz there are ? time-step in each sequence)\n",
        "    data.append(0)                             #Make all samples to be of the same sequence length by padding it with zero\n",
        "  data = [2] + data[:-1]                       #2 for indicating start of decoder input sequence (requirement for force teaching)\n",
        "  X2_valid.append(data)"
      ],
      "execution_count": 40,
      "outputs": []
    },
    {
      "cell_type": "code",
      "metadata": {
        "colab": {
          "base_uri": "https://localhost:8080/"
        },
        "id": "87BOqcHWL3L_",
        "outputId": "0562cd2f-f987-4eb8-d7a6-6434206177ec"
      },
      "source": [
        "X2_valid = np.array(X2_valid)\n",
        "X2_valid.shape"
      ],
      "execution_count": 41,
      "outputs": [
        {
          "output_type": "execute_result",
          "data": {
            "text/plain": [
              "(407, 10)"
            ]
          },
          "metadata": {},
          "execution_count": 41
        }
      ]
    },
    {
      "cell_type": "code",
      "metadata": {
        "colab": {
          "base_uri": "https://localhost:8080/"
        },
        "id": "o0yBwsSsoJAF",
        "outputId": "a6733a91-31c7-462d-e9a9-a6bd99af1f1e"
      },
      "source": [
        "X2_valid = X2_valid.reshape(407, 10, 1)\n",
        "X2_valid.shape"
      ],
      "execution_count": 42,
      "outputs": [
        {
          "output_type": "execute_result",
          "data": {
            "text/plain": [
              "(407, 10, 1)"
            ]
          },
          "metadata": {},
          "execution_count": 42
        }
      ]
    },
    {
      "cell_type": "code",
      "metadata": {
        "id": "qSISvQWsL3L_",
        "colab": {
          "base_uri": "https://localhost:8080/"
        },
        "outputId": "53dae599-e965-42cb-9da6-5b7bb32f10c5"
      },
      "source": [
        "X2_valid = to_categorical([X2_valid], num_classes=3)\n",
        "X2_valid.shape"
      ],
      "execution_count": 43,
      "outputs": [
        {
          "output_type": "execute_result",
          "data": {
            "text/plain": [
              "(1, 407, 10, 3)"
            ]
          },
          "metadata": {},
          "execution_count": 43
        }
      ]
    },
    {
      "cell_type": "code",
      "metadata": {
        "id": "tIeoxHsRL3MA",
        "colab": {
          "base_uri": "https://localhost:8080/"
        },
        "outputId": "62ad8ee4-1386-4d83-d957-50bb8f4511f8"
      },
      "source": [
        "X2_valid = X2_valid.reshape(407, 10, 3)\n",
        "X2_valid.shape"
      ],
      "execution_count": 44,
      "outputs": [
        {
          "output_type": "execute_result",
          "data": {
            "text/plain": [
              "(407, 10, 3)"
            ]
          },
          "metadata": {},
          "execution_count": 44
        }
      ]
    },
    {
      "cell_type": "markdown",
      "metadata": {
        "id": "LzvdcjlKL3MA"
      },
      "source": [
        "# Creation of test samples"
      ]
    },
    {
      "cell_type": "code",
      "metadata": {
        "id": "cDqI71pGL3MA"
      },
      "source": [
        "X_test_original = get_compiled_data(\"/content/drive/MyDrive/dataset-460-40/x_test\")"
      ],
      "execution_count": 45,
      "outputs": []
    },
    {
      "cell_type": "code",
      "metadata": {
        "id": "3pR2Vgl0HNCX"
      },
      "source": [
        "y_test_original = get_compiled_data(\"/content/drive/MyDrive/dataset-460-40/y_test\")"
      ],
      "execution_count": 78,
      "outputs": []
    },
    {
      "cell_type": "code",
      "metadata": {
        "id": "ejLEiSldG5Ox"
      },
      "source": [
        "step = 10\n",
        "size = 10\n",
        "X_test = []\n",
        "y_test = []\n",
        "\n",
        "for i in range(len(y_test_original)):\n",
        "  row = y_test_original[i]\n",
        "\n",
        "  for idx in range(0, len(row), step):\n",
        "    if len(row[idx:idx + size]) == size:\n",
        "      y_test.append(row[idx:idx + size])\n",
        "\n",
        "  row = X_test_original[i]\n",
        "\n",
        "  for idx in range(0, len(row), step):\n",
        "    if len(row[idx:idx + size]) == size:\n",
        "      X_test.append(row[idx:idx + size]) "
      ],
      "execution_count": 79,
      "outputs": []
    },
    {
      "cell_type": "code",
      "metadata": {
        "id": "5Svdz7kRG5Xn"
      },
      "source": [
        "encoder_input_test = []\n",
        "for i in range(len(X_test)):\n",
        "  data = X_test[i]   \n",
        "  while len(data) < 10:                         #Change here accordingly (? cuz there are ? time-step in each sequence)\n",
        "    data.append([500,500])                      #Make all samples to be of the same sequence length by padding it with 500. \n",
        "  encoder_input_test.append(data)"
      ],
      "execution_count": 48,
      "outputs": []
    },
    {
      "cell_type": "code",
      "metadata": {
        "colab": {
          "base_uri": "https://localhost:8080/"
        },
        "id": "VuRK5VE9G5aM",
        "outputId": "525f03d2-296b-4189-860e-954fab55b03f"
      },
      "source": [
        "encoder_input_test = np.array(encoder_input_test)\n",
        "encoder_input_test.shape"
      ],
      "execution_count": 49,
      "outputs": [
        {
          "output_type": "execute_result",
          "data": {
            "text/plain": [
              "(360, 10, 2)"
            ]
          },
          "metadata": {},
          "execution_count": 49
        }
      ]
    },
    {
      "cell_type": "code",
      "metadata": {
        "id": "8CNL2bWCKzEv"
      },
      "source": [
        "X1_test = list()\n",
        "for i in range(encoder_input_test.shape[0]):\n",
        "  row=list()\n",
        "  for j in range(10):                           #Change here accordingly (? cuz there are ? time-step in each sequence)\n",
        "    row.append(encoder_input_test[i][j][0])\n",
        "    row.append(encoder_input_test[i][j][1])\n",
        "  X1_test.append(row)"
      ],
      "execution_count": 50,
      "outputs": []
    },
    {
      "cell_type": "code",
      "metadata": {
        "colab": {
          "base_uri": "https://localhost:8080/"
        },
        "id": "cJzp2bTSKzKy",
        "outputId": "425433c4-ea50-4c34-95f4-275d31f26153"
      },
      "source": [
        "X1_test = np.array(X1_test)\n",
        "X1_test.shape"
      ],
      "execution_count": 51,
      "outputs": [
        {
          "output_type": "execute_result",
          "data": {
            "text/plain": [
              "(360, 20)"
            ]
          },
          "metadata": {},
          "execution_count": 51
        }
      ]
    },
    {
      "cell_type": "code",
      "metadata": {
        "colab": {
          "base_uri": "https://localhost:8080/"
        },
        "id": "5mH33UG1JGMC",
        "outputId": "d275033a-6bec-464c-887e-bf9a73b7caac"
      },
      "source": [
        "X1_test = to_categorical([X1_test], num_classes=500)\n",
        "X1_test.shape"
      ],
      "execution_count": 52,
      "outputs": [
        {
          "output_type": "execute_result",
          "data": {
            "text/plain": [
              "(1, 360, 20, 500)"
            ]
          },
          "metadata": {},
          "execution_count": 52
        }
      ]
    },
    {
      "cell_type": "code",
      "metadata": {
        "colab": {
          "base_uri": "https://localhost:8080/"
        },
        "id": "nBlBhWmlJKRH",
        "outputId": "701ab48f-2635-49e3-a941-3299811c40f6"
      },
      "source": [
        "X1_test = X1_test.reshape(360, 20, 500)\n",
        "X1_test.shape"
      ],
      "execution_count": 54,
      "outputs": [
        {
          "output_type": "execute_result",
          "data": {
            "text/plain": [
              "(360, 20, 500)"
            ]
          },
          "metadata": {},
          "execution_count": 54
        }
      ]
    },
    {
      "cell_type": "code",
      "metadata": {
        "id": "_TQBUSh1L3MB"
      },
      "source": [
        "Y_test = []\n",
        "for i in range(len(y_test)):\n",
        "  data = y_test[i]                                   \n",
        "  while len(data) < 10:                          #Change here accordingly (? cuz there are ? time-step in each sequence)\n",
        "    data.append(0)                               #Make all samples to be of the same sequence length by padding it with \"0\"\n",
        "  Y_test.append(data)"
      ],
      "execution_count": 55,
      "outputs": []
    },
    {
      "cell_type": "code",
      "metadata": {
        "colab": {
          "base_uri": "https://localhost:8080/"
        },
        "id": "0UnsSytOL3MB",
        "outputId": "31d1a67c-55f1-494d-91c1-04433e180ef4"
      },
      "source": [
        "Y_test = np.array(Y_test)\n",
        "Y_test.shape"
      ],
      "execution_count": 56,
      "outputs": [
        {
          "output_type": "execute_result",
          "data": {
            "text/plain": [
              "(360, 10)"
            ]
          },
          "metadata": {},
          "execution_count": 56
        }
      ]
    },
    {
      "cell_type": "code",
      "metadata": {
        "colab": {
          "base_uri": "https://localhost:8080/"
        },
        "id": "P0B23kaeocNv",
        "outputId": "8bb0706f-96ec-4b0c-bb94-a4961e3a6eb8"
      },
      "source": [
        "Y_test = Y_test.reshape(360, 10, 1)\n",
        "Y_test.shape"
      ],
      "execution_count": 57,
      "outputs": [
        {
          "output_type": "execute_result",
          "data": {
            "text/plain": [
              "(360, 10, 1)"
            ]
          },
          "metadata": {},
          "execution_count": 57
        }
      ]
    },
    {
      "cell_type": "code",
      "metadata": {
        "id": "nge9T53lL3MB",
        "colab": {
          "base_uri": "https://localhost:8080/"
        },
        "outputId": "2a0358be-190e-47d5-fafd-6c50f0500d21"
      },
      "source": [
        "Y_test = to_categorical([Y_test], num_classes=3)\n",
        "Y_test.shape"
      ],
      "execution_count": 58,
      "outputs": [
        {
          "output_type": "execute_result",
          "data": {
            "text/plain": [
              "(1, 360, 10, 3)"
            ]
          },
          "metadata": {},
          "execution_count": 58
        }
      ]
    },
    {
      "cell_type": "code",
      "metadata": {
        "id": "19eSzryWL3MB",
        "colab": {
          "base_uri": "https://localhost:8080/"
        },
        "outputId": "9f9d103c-fab8-4f65-d6bf-f10c61dfd86f"
      },
      "source": [
        "Y_test = Y_test.reshape(360, 10, 3)\n",
        "Y_test.shape"
      ],
      "execution_count": 60,
      "outputs": [
        {
          "output_type": "execute_result",
          "data": {
            "text/plain": [
              "(360, 10, 3)"
            ]
          },
          "metadata": {},
          "execution_count": 60
        }
      ]
    },
    {
      "cell_type": "markdown",
      "metadata": {
        "id": "bGAOTV3mL3MB"
      },
      "source": [
        "# Start of main program"
      ]
    },
    {
      "cell_type": "markdown",
      "metadata": {
        "id": "B3zsBe-Vzi83"
      },
      "source": [
        "####Model built witih normal LSTM cell"
      ]
    },
    {
      "cell_type": "code",
      "metadata": {
        "id": "YBK0VnpXxc8F"
      },
      "source": [
        "# # returns train, inference_encoder and inference_decoder models\n",
        "# def define_models(n_features_input, n_features_output, n_units):\n",
        "\n",
        "# \t# define training encoder\n",
        "# \tencoder_inputs = Input(shape=(None, n_features_input))\n",
        "# \tencoder = LSTM(n_units, return_state=True)\n",
        "# \tencoder_outputs, state_h, state_c = encoder(encoder_inputs)\n",
        "# \tencoder_states = [state_h, state_c]\n",
        "\n",
        "# \t# define training decoder\n",
        "# \tdecoder_inputs = Input(shape=(None, n_features_output))\n",
        "# \tdecoder_lstm = LSTM(n_units, return_sequences=True, return_state=True)\n",
        "# \tdecoder_outputs, _, _ = decoder_lstm(decoder_inputs, initial_state=encoder_states)\n",
        "# \tdecoder_dense = Dense(n_features_output, activation='softmax')\n",
        "# \tdecoder_outputs = decoder_dense(decoder_outputs)\n",
        "# \tmodel = Model([encoder_inputs, decoder_inputs], decoder_outputs)\n",
        " \n",
        "# \t# define inference encoder\n",
        "# \tencoder_model = Model(encoder_inputs, encoder_states)\n",
        " \n",
        "# \t# define inference decoder\n",
        "# \tdecoder_state_input_h = Input(shape=(n_units,))\n",
        "# \tdecoder_state_input_c = Input(shape=(n_units,))\n",
        "# \tdecoder_states_inputs = [decoder_state_input_h, decoder_state_input_c]\n",
        "# \tdecoder_outputs, state_h, state_c = decoder_lstm(decoder_inputs, initial_state=decoder_states_inputs)\n",
        "# \tdecoder_states = [state_h, state_c]\n",
        "# \tdecoder_outputs = decoder_dense(decoder_outputs)\n",
        "# \tdecoder_model = Model([decoder_inputs] + decoder_states_inputs, [decoder_outputs] + decoder_states)\n",
        " \n",
        "# \t# return all models\n",
        "# \treturn model, encoder_model, decoder_model"
      ],
      "execution_count": null,
      "outputs": []
    },
    {
      "cell_type": "markdown",
      "metadata": {
        "id": "l4pNtq0bzpxE"
      },
      "source": [
        "###Model built with bidirectional LSTM cell"
      ]
    },
    {
      "cell_type": "code",
      "metadata": {
        "id": "OycX3wAgL3MC"
      },
      "source": [
        "from keras.layers import Bidirectional, Concatenate\n",
        "\n",
        "# returns train, inference_encoder and inference_decoder models\n",
        "def define_models(n_features_input, n_features_output, n_units):\n",
        "\n",
        "\t# define training encoder\n",
        "\tencoder_inputs = Input(shape=(None, n_features_input))\n",
        "\tencoder = Bidirectional(LSTM(n_units, dropout=0.3, return_state=True))        #Bidirectional LSTM\n",
        "\tencoder_outputs, forward_h, forward_c, backward_h, backward_c = encoder(encoder_inputs)\n",
        "\tstate_h = Concatenate()([forward_h, backward_h])\n",
        "\tstate_c = Concatenate()([forward_c, backward_c])\n",
        "\tencoder_states = [state_h, state_c]\n",
        "\n",
        "\t# define training decoder\n",
        "\tdecoder_inputs = Input(shape=(None, n_features_output))\n",
        "\tdecoder_lstm = LSTM(n_units*2, return_sequences=True, return_state=True)      #Multiple by 2 cuz of bidirectional\n",
        "\tdecoder_outputs, _, _ = decoder_lstm(decoder_inputs, initial_state=encoder_states)\n",
        "\tdecoder_dense = Dense(n_features_output, activation='softmax')\n",
        "\tdecoder_outputs = decoder_dense(decoder_outputs)\n",
        "\tmodel = Model([encoder_inputs, decoder_inputs], decoder_outputs)\n",
        " \n",
        "\t# define inference encoder\n",
        "\tencoder_model = Model(encoder_inputs, encoder_states)\n",
        " \n",
        "\t# define inference decoder\n",
        "\tdecoder_state_input_h = Input(shape=(n_units*2,))                             #Multiple by 2 cuz of bidirectional\n",
        "\tdecoder_state_input_c = Input(shape=(n_units*2,))                             #Multiple by 2 cuz of bidirectional\n",
        "\tdecoder_states_inputs = [decoder_state_input_h, decoder_state_input_c]\n",
        "\tdecoder_outputs, state_h, state_c = decoder_lstm(decoder_inputs, initial_state=decoder_states_inputs)\n",
        "\tdecoder_states = [state_h, state_c]\n",
        "\tdecoder_outputs = decoder_dense(decoder_outputs)\n",
        "\tdecoder_model = Model([decoder_inputs] + decoder_states_inputs, [decoder_outputs] + decoder_states)\n",
        " \n",
        "\t# return all models\n",
        "\treturn model, encoder_model, decoder_model"
      ],
      "execution_count": 61,
      "outputs": []
    },
    {
      "cell_type": "markdown",
      "metadata": {
        "id": "EDJTR6BtzVys"
      },
      "source": [
        "### Metrics"
      ]
    },
    {
      "cell_type": "code",
      "metadata": {
        "id": "9RiR1EORUu4H"
      },
      "source": [
        "precision =tf.keras.metrics.Precision()\n",
        "recall = tf.keras.metrics.Recall()"
      ],
      "execution_count": 62,
      "outputs": []
    },
    {
      "cell_type": "code",
      "metadata": {
        "id": "wwgp-glZy8S2"
      },
      "source": [
        "from tensorflow.keras import backend as K\n",
        "\n",
        "def f1(y_true, y_pred):\n",
        "    y_pred = K.round(y_pred)\n",
        "    tp = K.sum(K.cast(y_true*y_pred, 'float'), axis=0)\n",
        "    tn = K.sum(K.cast((1-y_true)*(1-y_pred), 'float'), axis=0)\n",
        "    fp = K.sum(K.cast((1-y_true)*y_pred, 'float'), axis=0)\n",
        "    fn = K.sum(K.cast(y_true*(1-y_pred), 'float'), axis=0)\n",
        "\n",
        "    p = tp / (tp + fp + K.epsilon())\n",
        "    r = tp / (tp + fn + K.epsilon())\n",
        "\n",
        "    f1 = 2*p*r / (p+r+K.epsilon())\n",
        "    f1 = tf.where(tf.math.is_nan(f1), tf.zeros_like(f1), f1)\n",
        "    return K.mean(f1)\n",
        "\n",
        "def f1_loss(y_true, y_pred):\n",
        "    \n",
        "    tp = K.sum(K.cast(y_true*y_pred, 'float'), axis=0)\n",
        "    tn = K.sum(K.cast((1-y_true)*(1-y_pred), 'float'), axis=0)\n",
        "    fp = K.sum(K.cast((1-y_true)*y_pred, 'float'), axis=0)\n",
        "    fn = K.sum(K.cast(y_true*(1-y_pred), 'float'), axis=0)\n",
        "\n",
        "    p = tp / (tp + fp + K.epsilon())\n",
        "    r = tp / (tp + fn + K.epsilon())\n",
        "\n",
        "    f1 = 2*p*r / (p+r+K.epsilon())    \n",
        "    f1 = tf.where(tf.math.is_nan(f1), tf.zeros_like(f1), f1)\n",
        "\n",
        "    \n",
        "    return 1 - K.mean(f1)"
      ],
      "execution_count": 63,
      "outputs": []
    },
    {
      "cell_type": "code",
      "metadata": {
        "colab": {
          "base_uri": "https://localhost:8080/"
        },
        "id": "MF5QSgHczhSj",
        "outputId": "42906164-1b8e-4317-8755-7f8d5cea10d5"
      },
      "source": [
        "# configure problem\n",
        "import tensorflow as tf\n",
        "n_features_input = 500\n",
        "n_features_output = 3\n",
        "n_units = 128\n",
        "\n",
        "#from keras.callbacks import ReduceLROnPlateau\n",
        "#reduce_lr = ReduceLROnPlateau(monitor='val_f1', factor=0.2, patience=15, min_lr=0.001)\n",
        "\n",
        "# define model\n",
        "train, infenc, infdec = define_models(n_features_input, n_features_output, n_units)\n",
        "\n",
        "loss = tf.keras.losses.CategoricalCrossentropy()\n",
        "optimizer = tf.keras.optimizers.Adam(learning_rate=3e-4)\n",
        "#optimizer = tf.keras.optimizers.SGD(learning_rate=0.01, momentum=0, nesterov=False)\n",
        "\n",
        "early_stop = tf.keras.callbacks.EarlyStopping(monitor=\"val_f1\", mode='max', patience = 15, restore_best_weights=True)\n",
        "\n",
        "train.compile(loss=loss, optimizer=optimizer, metrics=['acc', precision, recall, f1])\n",
        "\n",
        "# generate training dataset\n",
        "print(X1.shape,X2.shape,Y.shape)\n",
        "# train model\n",
        "history = train.fit([X1, X2], Y, batch_size=32, epochs=200, validation_data=([X1_valid, X2_valid],Y_valid),callbacks=[early_stop])"
      ],
      "execution_count": 64,
      "outputs": [
        {
          "output_type": "stream",
          "name": "stdout",
          "text": [
            "(3662, 20, 500) (3662, 10, 3) (3662, 10, 3)\n",
            "Epoch 1/200\n",
            "115/115 [==============================] - 16s 106ms/step - loss: 0.7319 - acc: 0.5977 - precision: 0.6028 - recall: 0.4838 - f1: 0.2574 - val_loss: 0.6541 - val_acc: 0.6233 - val_precision: 0.6233 - val_recall: 0.6233 - val_f1: 0.3345\n",
            "Epoch 2/200\n",
            "115/115 [==============================] - 11s 97ms/step - loss: 0.6517 - acc: 0.6245 - precision: 0.6245 - recall: 0.6245 - f1: 0.3607 - val_loss: 0.6439 - val_acc: 0.6292 - val_precision: 0.6292 - val_recall: 0.6292 - val_f1: 0.3746\n",
            "Epoch 3/200\n",
            "115/115 [==============================] - 11s 97ms/step - loss: 0.6456 - acc: 0.6275 - precision: 0.6275 - recall: 0.6274 - f1: 0.3672 - val_loss: 0.6412 - val_acc: 0.6270 - val_precision: 0.6269 - val_recall: 0.6268 - val_f1: 0.3604\n",
            "Epoch 4/200\n",
            "115/115 [==============================] - 11s 97ms/step - loss: 0.6470 - acc: 0.6241 - precision: 0.6241 - recall: 0.6239 - f1: 0.3630 - val_loss: 0.6419 - val_acc: 0.6256 - val_precision: 0.6256 - val_recall: 0.6256 - val_f1: 0.3603\n",
            "Epoch 5/200\n",
            "115/115 [==============================] - 11s 97ms/step - loss: 0.6411 - acc: 0.6321 - precision: 0.6322 - recall: 0.6321 - f1: 0.3715 - val_loss: 0.6417 - val_acc: 0.6268 - val_precision: 0.6268 - val_recall: 0.6268 - val_f1: 0.3801\n",
            "Epoch 6/200\n",
            "115/115 [==============================] - 11s 97ms/step - loss: 0.6400 - acc: 0.6326 - precision: 0.6326 - recall: 0.6325 - f1: 0.3736 - val_loss: 0.6408 - val_acc: 0.6302 - val_precision: 0.6302 - val_recall: 0.6302 - val_f1: 0.3747\n",
            "Epoch 7/200\n",
            "115/115 [==============================] - 11s 97ms/step - loss: 0.6394 - acc: 0.6329 - precision: 0.6329 - recall: 0.6328 - f1: 0.3723 - val_loss: 0.6404 - val_acc: 0.6256 - val_precision: 0.6256 - val_recall: 0.6256 - val_f1: 0.3679\n",
            "Epoch 8/200\n",
            "115/115 [==============================] - 11s 98ms/step - loss: 0.6384 - acc: 0.6323 - precision: 0.6323 - recall: 0.6321 - f1: 0.3731 - val_loss: 0.6466 - val_acc: 0.6177 - val_precision: 0.6177 - val_recall: 0.6177 - val_f1: 0.3345\n",
            "Epoch 9/200\n",
            "115/115 [==============================] - 11s 98ms/step - loss: 0.6358 - acc: 0.6345 - precision: 0.6345 - recall: 0.6343 - f1: 0.3776 - val_loss: 0.6424 - val_acc: 0.6216 - val_precision: 0.6216 - val_recall: 0.6216 - val_f1: 0.3719\n",
            "Epoch 10/200\n",
            "115/115 [==============================] - 11s 98ms/step - loss: 0.6365 - acc: 0.6370 - precision: 0.6370 - recall: 0.6368 - f1: 0.3772 - val_loss: 0.6426 - val_acc: 0.6290 - val_precision: 0.6290 - val_recall: 0.6290 - val_f1: 0.3796\n",
            "Epoch 11/200\n",
            "115/115 [==============================] - 11s 97ms/step - loss: 0.6358 - acc: 0.6359 - precision: 0.6360 - recall: 0.6358 - f1: 0.3781 - val_loss: 0.6427 - val_acc: 0.6231 - val_precision: 0.6232 - val_recall: 0.6231 - val_f1: 0.3450\n",
            "Epoch 12/200\n",
            "115/115 [==============================] - 11s 99ms/step - loss: 0.6320 - acc: 0.6416 - precision: 0.6417 - recall: 0.6415 - f1: 0.3848 - val_loss: 0.6427 - val_acc: 0.6194 - val_precision: 0.6195 - val_recall: 0.6192 - val_f1: 0.3477\n",
            "Epoch 13/200\n",
            "115/115 [==============================] - 11s 100ms/step - loss: 0.6314 - acc: 0.6408 - precision: 0.6409 - recall: 0.6408 - f1: 0.3850 - val_loss: 0.6413 - val_acc: 0.6260 - val_precision: 0.6260 - val_recall: 0.6260 - val_f1: 0.3735\n",
            "Epoch 14/200\n",
            "115/115 [==============================] - 11s 98ms/step - loss: 0.6306 - acc: 0.6427 - precision: 0.6428 - recall: 0.6425 - f1: 0.3842 - val_loss: 0.6429 - val_acc: 0.6297 - val_precision: 0.6298 - val_recall: 0.6295 - val_f1: 0.3810\n",
            "Epoch 15/200\n",
            "115/115 [==============================] - 11s 99ms/step - loss: 0.6301 - acc: 0.6439 - precision: 0.6439 - recall: 0.6437 - f1: 0.3878 - val_loss: 0.6443 - val_acc: 0.6233 - val_precision: 0.6233 - val_recall: 0.6233 - val_f1: 0.3493\n",
            "Epoch 16/200\n",
            "115/115 [==============================] - 11s 98ms/step - loss: 0.6291 - acc: 0.6422 - precision: 0.6422 - recall: 0.6421 - f1: 0.3875 - val_loss: 0.6430 - val_acc: 0.6283 - val_precision: 0.6283 - val_recall: 0.6283 - val_f1: 0.3706\n",
            "Epoch 17/200\n",
            "115/115 [==============================] - 11s 99ms/step - loss: 0.6269 - acc: 0.6465 - precision: 0.6465 - recall: 0.6464 - f1: 0.3903 - val_loss: 0.6426 - val_acc: 0.6280 - val_precision: 0.6280 - val_recall: 0.6280 - val_f1: 0.3724\n",
            "Epoch 18/200\n",
            "115/115 [==============================] - 11s 98ms/step - loss: 0.6244 - acc: 0.6466 - precision: 0.6466 - recall: 0.6466 - f1: 0.3917 - val_loss: 0.6477 - val_acc: 0.6194 - val_precision: 0.6196 - val_recall: 0.6194 - val_f1: 0.3775\n",
            "Epoch 19/200\n",
            "115/115 [==============================] - 11s 99ms/step - loss: 0.6234 - acc: 0.6484 - precision: 0.6484 - recall: 0.6483 - f1: 0.3937 - val_loss: 0.6486 - val_acc: 0.6167 - val_precision: 0.6167 - val_recall: 0.6167 - val_f1: 0.3407\n",
            "Epoch 20/200\n",
            "115/115 [==============================] - 11s 99ms/step - loss: 0.6208 - acc: 0.6520 - precision: 0.6520 - recall: 0.6518 - f1: 0.3955 - val_loss: 0.6509 - val_acc: 0.6179 - val_precision: 0.6179 - val_recall: 0.6179 - val_f1: 0.3864\n",
            "Epoch 21/200\n",
            "115/115 [==============================] - 11s 99ms/step - loss: 0.6207 - acc: 0.6486 - precision: 0.6487 - recall: 0.6486 - f1: 0.3941 - val_loss: 0.6487 - val_acc: 0.6224 - val_precision: 0.6225 - val_recall: 0.6224 - val_f1: 0.3765\n",
            "Epoch 22/200\n",
            "115/115 [==============================] - 11s 98ms/step - loss: 0.6172 - acc: 0.6554 - precision: 0.6553 - recall: 0.6552 - f1: 0.4008 - val_loss: 0.6486 - val_acc: 0.6224 - val_precision: 0.6225 - val_recall: 0.6224 - val_f1: 0.3605\n",
            "Epoch 23/200\n",
            "115/115 [==============================] - 11s 98ms/step - loss: 0.6153 - acc: 0.6554 - precision: 0.6554 - recall: 0.6553 - f1: 0.4016 - val_loss: 0.6540 - val_acc: 0.6179 - val_precision: 0.6179 - val_recall: 0.6179 - val_f1: 0.3632\n",
            "Epoch 24/200\n",
            "115/115 [==============================] - 11s 98ms/step - loss: 0.6148 - acc: 0.6563 - precision: 0.6562 - recall: 0.6560 - f1: 0.4034 - val_loss: 0.6531 - val_acc: 0.6184 - val_precision: 0.6183 - val_recall: 0.6182 - val_f1: 0.3846\n",
            "Epoch 25/200\n",
            "115/115 [==============================] - 11s 97ms/step - loss: 0.6114 - acc: 0.6600 - precision: 0.6600 - recall: 0.6599 - f1: 0.4064 - val_loss: 0.6605 - val_acc: 0.6194 - val_precision: 0.6193 - val_recall: 0.6192 - val_f1: 0.3610\n",
            "Epoch 26/200\n",
            "115/115 [==============================] - 11s 97ms/step - loss: 0.6090 - acc: 0.6606 - precision: 0.6606 - recall: 0.6603 - f1: 0.4076 - val_loss: 0.6635 - val_acc: 0.6170 - val_precision: 0.6170 - val_recall: 0.6170 - val_f1: 0.3639\n",
            "Epoch 27/200\n",
            "115/115 [==============================] - 11s 98ms/step - loss: 0.6075 - acc: 0.6616 - precision: 0.6616 - recall: 0.6615 - f1: 0.4085 - val_loss: 0.6522 - val_acc: 0.6167 - val_precision: 0.6167 - val_recall: 0.6167 - val_f1: 0.3660\n",
            "Epoch 28/200\n",
            "115/115 [==============================] - 11s 98ms/step - loss: 0.6050 - acc: 0.6661 - precision: 0.6661 - recall: 0.6660 - f1: 0.4133 - val_loss: 0.6593 - val_acc: 0.6071 - val_precision: 0.6070 - val_recall: 0.6069 - val_f1: 0.3714\n",
            "Epoch 29/200\n",
            "115/115 [==============================] - 11s 98ms/step - loss: 0.6029 - acc: 0.6670 - precision: 0.6670 - recall: 0.6668 - f1: 0.4151 - val_loss: 0.6619 - val_acc: 0.6049 - val_precision: 0.6049 - val_recall: 0.6049 - val_f1: 0.3571\n",
            "Epoch 30/200\n",
            "115/115 [==============================] - 11s 97ms/step - loss: 0.6002 - acc: 0.6698 - precision: 0.6698 - recall: 0.6696 - f1: 0.4180 - val_loss: 0.6679 - val_acc: 0.6147 - val_precision: 0.6149 - val_recall: 0.6147 - val_f1: 0.3653\n",
            "Epoch 31/200\n",
            "115/115 [==============================] - 11s 97ms/step - loss: 0.6001 - acc: 0.6692 - precision: 0.6692 - recall: 0.6691 - f1: 0.4186 - val_loss: 0.6620 - val_acc: 0.6037 - val_precision: 0.6037 - val_recall: 0.6037 - val_f1: 0.3689\n",
            "Epoch 32/200\n",
            "115/115 [==============================] - 11s 98ms/step - loss: 0.5959 - acc: 0.6738 - precision: 0.6738 - recall: 0.6738 - f1: 0.4216 - val_loss: 0.6666 - val_acc: 0.6145 - val_precision: 0.6145 - val_recall: 0.6145 - val_f1: 0.3524\n",
            "Epoch 33/200\n",
            "115/115 [==============================] - 11s 98ms/step - loss: 0.5943 - acc: 0.6737 - precision: 0.6738 - recall: 0.6736 - f1: 0.4223 - val_loss: 0.6708 - val_acc: 0.6071 - val_precision: 0.6073 - val_recall: 0.6071 - val_f1: 0.3547\n",
            "Epoch 34/200\n",
            "115/115 [==============================] - 11s 99ms/step - loss: 0.5922 - acc: 0.6743 - precision: 0.6744 - recall: 0.6742 - f1: 0.4235 - val_loss: 0.6726 - val_acc: 0.5975 - val_precision: 0.5975 - val_recall: 0.5975 - val_f1: 0.3737\n",
            "Epoch 35/200\n",
            "115/115 [==============================] - 11s 98ms/step - loss: 0.5890 - acc: 0.6771 - precision: 0.6772 - recall: 0.6769 - f1: 0.4257 - val_loss: 0.6721 - val_acc: 0.6088 - val_precision: 0.6088 - val_recall: 0.6088 - val_f1: 0.3601\n"
          ]
        }
      ]
    },
    {
      "cell_type": "code",
      "metadata": {
        "id": "XBqc4_ExznPU"
      },
      "source": [
        "train.summary()"
      ],
      "execution_count": null,
      "outputs": []
    },
    {
      "cell_type": "code",
      "metadata": {
        "id": "LSskGcgAyApb",
        "colab": {
          "base_uri": "https://localhost:8080/",
          "height": 466
        },
        "outputId": "284d5385-ca54-4f3e-985e-d9a4b6568efc"
      },
      "source": [
        "tf.keras.utils.plot_model(train,to_file='/content/model.png')"
      ],
      "execution_count": 65,
      "outputs": [
        {
          "output_type": "execute_result",
          "data": {
            "image/png": "[encoded data removed]",
            "text/plain": [
              "<IPython.core.display.Image object>"
            ]
          },
          "metadata": {},
          "execution_count": 65
        }
      ]
    },
    {
      "cell_type": "code",
      "metadata": {
        "id": "8gZCeNdKL3MC",
        "colab": {
          "base_uri": "https://localhost:8080/",
          "height": 590
        },
        "outputId": "b3642d61-175a-43e7-d6f2-a4a9584dd886"
      },
      "source": [
        "import matplotlib.pyplot as plt \n",
        "print(history.history.keys())\n",
        "# summarize history for F1Score\n",
        "plt.plot(history.history['f1'])\n",
        "plt.plot(history.history['val_f1'])\n",
        "plt.title('model F1Score')\n",
        "plt.ylabel('F1Score')\n",
        "plt.xlabel('epoch')\n",
        "plt.legend(['train', 'test'], loc='upper left')\n",
        "plt.show()\n",
        "# summarize history for loss\n",
        "plt.plot(history.history['loss'])\n",
        "plt.plot(history.history['val_loss'])\n",
        "plt.title('model loss')\n",
        "plt.ylabel('loss')\n",
        "plt.xlabel('epoch')\n",
        "plt.legend(['train', 'test'], loc='upper left')\n",
        "plt.show()"
      ],
      "execution_count": 65,
      "outputs": [
        {
          "output_type": "stream",
          "name": "stdout",
          "text": [
            "dict_keys(['loss', 'acc', 'precision', 'recall', 'f1', 'val_loss', 'val_acc', 'val_precision', 'val_recall', 'val_f1'])\n"
          ]
        },
        {
          "output_type": "display_data",
          "data": {
            "image/png": "[encoded data removed]",
            "text/plain": [
              "<Figure size 432x288 with 1 Axes>"
            ]
          },
          "metadata": {
            "needs_background": "light"
          }
        },
        {
          "output_type": "display_data",
          "data": {
            "image/png": "[encoded data removed]",
            "text/plain": [
              "<Figure size 432x288 with 1 Axes>"
            ]
          },
          "metadata": {
            "needs_background": "light"
          }
        }
      ]
    },
    {
      "cell_type": "code",
      "metadata": {
        "id": "2WI0daUsL3MC"
      },
      "source": [
        "# generate target given source sequence\n",
        "def predict_sequence(infenc, infdec, input, n_steps_out, n_features): \n",
        "  #n_steps_out->no. of time-step in output\n",
        "  #n_features->no. of features in output\n",
        "\t# encode\n",
        "\tstate = infenc.predict(input)\n",
        "\t# start of sequence input\n",
        "\ttarget_seq = array([0.0 for _ in range(n_features)]).reshape(1, 1, n_features)\n",
        "\t# collect predictions\n",
        "\toutput = list()\n",
        "\tfor t in range(n_steps_out):\n",
        "\t\t# predict next char\n",
        "\t\tyhat, h, c = infdec.predict([target_seq] + state)\n",
        "\t\t# store prediction\n",
        "\t\toutput.append(yhat[0,0,:])\n",
        "\t\t# update state\n",
        "\t\tstate = [h, c]\n",
        "\t\t# update target sequence\n",
        "\t\ttarget_seq = yhat\n",
        "\treturn array(output)"
      ],
      "execution_count": 66,
      "outputs": []
    },
    {
      "cell_type": "code",
      "metadata": {
        "id": "nElGfnP4zaFO"
      },
      "source": [
        "# decode a one hot encoded string\n",
        "def one_hot_decode(encoded_seq):\n",
        "\treturn [argmax(vector) for vector in encoded_seq]"
      ],
      "execution_count": 67,
      "outputs": []
    },
    {
      "cell_type": "code",
      "metadata": {
        "id": "S_RnCLlN9Ur4"
      },
      "source": [
        ""
      ],
      "execution_count": null,
      "outputs": []
    },
    {
      "cell_type": "markdown",
      "metadata": {
        "id": "BsdJLs3BL3MC"
      },
      "source": [
        "\n",
        "# Evaluate with test sample"
      ]
    },
    {
      "cell_type": "code",
      "metadata": {
        "id": "KlLTvCBw_fDh"
      },
      "source": [
        "pred= []\n",
        "n_features=3\n",
        "n_steps_out = 10                  #Change here accordingly (? cuz there are ? time-step in each sequence)\n",
        "for i in range(X1_test.shape[0]):\n",
        "  test = X1_test[i]\n",
        "  test = test[newaxis,:, :]\n",
        "  prediction = predict_sequence(infenc, infdec, test, n_steps_out, n_features)\n",
        "  prediction = one_hot_decode(prediction)\n",
        "  pred.extend(prediction)"
      ],
      "execution_count": 96,
      "outputs": []
    },
    {
      "cell_type": "code",
      "metadata": {
        "id": "E3B63x0mXWTv"
      },
      "source": [
        "from sklearn.metrics import confusion_matrix\n",
        "from sklearn.metrics import classification_report"
      ],
      "execution_count": 97,
      "outputs": []
    },
    {
      "cell_type": "code",
      "metadata": {
        "id": "SU64ssp-KBOs"
      },
      "source": [
        "truth = []\n",
        "for i in range(len(y_test)):\n",
        "  data = y_test[i]            \n",
        "  truth.extend(data)"
      ],
      "execution_count": 98,
      "outputs": []
    },
    {
      "cell_type": "code",
      "metadata": {
        "colab": {
          "base_uri": "https://localhost:8080/"
        },
        "id": "W9doFcKyz0Gg",
        "outputId": "1d40ad56-4a8c-4843-9660-8f4505c3b72a"
      },
      "source": [
        "matrix = confusion_matrix(truth, pred, labels=[0,1])\n",
        "print('Confusion matrix : \\n',matrix)\n",
        "print(classification_report(truth, pred, labels=[0,1]))"
      ],
      "execution_count": 99,
      "outputs": [
        {
          "output_type": "stream",
          "name": "stdout",
          "text": [
            "Confusion matrix : \n",
            " [[ 745  839]\n",
            " [ 747 1269]]\n",
            "              precision    recall  f1-score   support\n",
            "\n",
            "           0       0.50      0.47      0.48      1584\n",
            "           1       0.60      0.63      0.62      2016\n",
            "\n",
            "    accuracy                           0.56      3600\n",
            "   macro avg       0.55      0.55      0.55      3600\n",
            "weighted avg       0.56      0.56      0.56      3600\n",
            "\n"
          ]
        }
      ]
    },
    {
      "cell_type": "markdown",
      "metadata": {
        "id": "lrri1kx4XgWX"
      },
      "source": [
        "#Evaluate with single test sample\n"
      ]
    },
    {
      "cell_type": "code",
      "metadata": {
        "colab": {
          "base_uri": "https://localhost:8080/"
        },
        "id": "03CFhFHY_4c0",
        "outputId": "f83dbcbb-9d56-458d-c8e4-50be12f0787b"
      },
      "source": [
        "test = X1_test[0]\n",
        "test.shape"
      ],
      "execution_count": 82,
      "outputs": [
        {
          "output_type": "execute_result",
          "data": {
            "text/plain": [
              "(40, 500)"
            ]
          },
          "metadata": {},
          "execution_count": 82
        }
      ]
    },
    {
      "cell_type": "code",
      "metadata": {
        "colab": {
          "base_uri": "https://localhost:8080/"
        },
        "id": "w2VuvjOH_78q",
        "outputId": "74efe98f-3cd6-4d59-8aeb-92c7d3856e17"
      },
      "source": [
        "test = test[newaxis,:, :]\n",
        "test.shape"
      ],
      "execution_count": 83,
      "outputs": [
        {
          "output_type": "execute_result",
          "data": {
            "text/plain": [
              "(1, 40, 500)"
            ]
          },
          "metadata": {},
          "execution_count": 83
        }
      ]
    },
    {
      "cell_type": "code",
      "metadata": {
        "id": "tm5-7NFB_8Gy"
      },
      "source": [
        "n_features=3\n",
        "n_steps_out = 10        #Change here accordingly (? cuz there are ? time-step in each sequence)\n",
        "prediction = predict_sequence(infenc, infdec, test, n_steps_out, n_features)\n"
      ],
      "execution_count": 84,
      "outputs": []
    },
    {
      "cell_type": "code",
      "metadata": {
        "id": "OZp9WivOAFhI"
      },
      "source": [
        "prediction = one_hot_decode(prediction)\n",
        "prediction = np.array(prediction)"
      ],
      "execution_count": 85,
      "outputs": []
    },
    {
      "cell_type": "code",
      "metadata": {
        "id": "u0yT_LoDAHNy"
      },
      "source": [
        "truth = Y_test[0]\n",
        "truth = one_hot_decode(truth)\n",
        "truth = np.array(truth)"
      ],
      "execution_count": 86,
      "outputs": []
    },
    {
      "cell_type": "code",
      "metadata": {
        "colab": {
          "base_uri": "https://localhost:8080/"
        },
        "id": "1qrSBpIiAJ64",
        "outputId": "a1451922-bd5a-4c15-90ed-bf2c7074d3c3"
      },
      "source": [
        "matrix = confusion_matrix(truth, prediction, labels=[0,1])\n",
        "print('Confusion matrix : \\n',matrix)\n",
        "print(classification_report(truth, prediction, labels=[0,1]))"
      ],
      "execution_count": 87,
      "outputs": [
        {
          "output_type": "stream",
          "name": "stdout",
          "text": [
            "Confusion matrix : \n",
            " [[4 3]\n",
            " [7 6]]\n",
            "              precision    recall  f1-score   support\n",
            "\n",
            "           0       0.36      0.57      0.44         7\n",
            "           1       0.67      0.46      0.55        13\n",
            "\n",
            "    accuracy                           0.50        20\n",
            "   macro avg       0.52      0.52      0.49        20\n",
            "weighted avg       0.56      0.50      0.51        20\n",
            "\n"
          ]
        }
      ]
    },
    {
      "cell_type": "code",
      "metadata": {
        "colab": {
          "base_uri": "https://localhost:8080/"
        },
        "id": "Reano3mzALk6",
        "outputId": "41025f93-1790-42a8-ce61-6b8cccdb820a"
      },
      "source": [
        "unique, counts = np.unique(prediction, return_counts=True)\n",
        "dict(zip(unique, counts))\n"
      ],
      "execution_count": 88,
      "outputs": [
        {
          "output_type": "execute_result",
          "data": {
            "text/plain": [
              "{0: 11, 1: 9}"
            ]
          },
          "metadata": {},
          "execution_count": 88
        }
      ]
    },
    {
      "cell_type": "code",
      "metadata": {
        "colab": {
          "base_uri": "https://localhost:8080/"
        },
        "id": "kHsqYv4IAP0B",
        "outputId": "4abf36b3-23aa-482a-c0ef-43ca07474087"
      },
      "source": [
        "unique, counts = np.unique(truth, return_counts=True)\n",
        "dict(zip(unique, counts))"
      ],
      "execution_count": 89,
      "outputs": [
        {
          "output_type": "execute_result",
          "data": {
            "text/plain": [
              "{0: 7, 1: 13}"
            ]
          },
          "metadata": {},
          "execution_count": 89
        }
      ]
    },
    {
      "cell_type": "code",
      "metadata": {
        "colab": {
          "base_uri": "https://localhost:8080/"
        },
        "id": "8lH_HygPASAU",
        "outputId": "d5860f04-94a2-46e3-839a-b543943c1aee"
      },
      "source": [
        "prediction"
      ],
      "execution_count": 90,
      "outputs": [
        {
          "output_type": "execute_result",
          "data": {
            "text/plain": [
              "array([1, 0, 0, 0, 0, 0, 0, 0, 0, 0, 0, 0, 1, 1, 1, 1, 1, 1, 1, 1])"
            ]
          },
          "metadata": {},
          "execution_count": 90
        }
      ]
    },
    {
      "cell_type": "code",
      "metadata": {
        "colab": {
          "base_uri": "https://localhost:8080/"
        },
        "id": "psuEcJ_FAUAx",
        "outputId": "cabaa0e2-0066-42f4-b265-2cea7a5ab46d"
      },
      "source": [
        "truth"
      ],
      "execution_count": 91,
      "outputs": [
        {
          "output_type": "execute_result",
          "data": {
            "text/plain": [
              "array([1, 1, 0, 0, 1, 0, 1, 1, 1, 0, 1, 1, 1, 1, 1, 1, 0, 1, 0, 0])"
            ]
          },
          "metadata": {},
          "execution_count": 91
        }
      ]
    }
  ]
}